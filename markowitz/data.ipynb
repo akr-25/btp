{
 "cells": [
  {
   "cell_type": "code",
   "execution_count": 1,
   "metadata": {},
   "outputs": [],
   "source": [
    "import numpy as np\n",
    "import pandas as pd "
   ]
  },
  {
   "cell_type": "code",
   "execution_count": 2,
   "metadata": {},
   "outputs": [],
   "source": [
    "DATA_PATH = 'C://Users//aman2//Documents//BTProject//btp2.0//data//{}.csv'"
   ]
  },
  {
   "cell_type": "code",
   "execution_count": 42,
   "metadata": {},
   "outputs": [],
   "source": [
    "df = pd.read_csv(DATA_PATH.format('HIL'))"
   ]
  },
  {
   "cell_type": "code",
   "execution_count": 36,
   "metadata": {},
   "outputs": [],
   "source": [
    "start_timestamp = pd.to_datetime('2019-01-01 09:15:00', utc=True)"
   ]
  },
  {
   "cell_type": "code",
   "execution_count": 37,
   "metadata": {},
   "outputs": [
    {
     "data": {
      "text/plain": [
       "Timestamp('2019-01-01 09:15:00+0000', tz='UTC')"
      ]
     },
     "execution_count": 37,
     "metadata": {},
     "output_type": "execute_result"
    }
   ],
   "source": [
    "start_timestamp"
   ]
  },
  {
   "cell_type": "code",
   "execution_count": 47,
   "metadata": {},
   "outputs": [
    {
     "data": {
      "text/html": [
       "<div>\n",
       "<style scoped>\n",
       "    .dataframe tbody tr th:only-of-type {\n",
       "        vertical-align: middle;\n",
       "    }\n",
       "\n",
       "    .dataframe tbody tr th {\n",
       "        vertical-align: top;\n",
       "    }\n",
       "\n",
       "    .dataframe thead th {\n",
       "        text-align: right;\n",
       "    }\n",
       "</style>\n",
       "<table border=\"1\" class=\"dataframe\">\n",
       "  <thead>\n",
       "    <tr style=\"text-align: right;\">\n",
       "      <th></th>\n",
       "      <th>Date</th>\n",
       "      <th>Open</th>\n",
       "      <th>High</th>\n",
       "      <th>Low</th>\n",
       "      <th>Close</th>\n",
       "      <th>Volume</th>\n",
       "      <th>Dividends</th>\n",
       "      <th>Stock Splits</th>\n",
       "    </tr>\n",
       "  </thead>\n",
       "  <tbody>\n",
       "    <tr>\n",
       "      <th>0</th>\n",
       "      <td>1996-01-01 00:00:00+05:30</td>\n",
       "      <td>104.450745</td>\n",
       "      <td>104.450745</td>\n",
       "      <td>104.450745</td>\n",
       "      <td>104.450745</td>\n",
       "      <td>100</td>\n",
       "      <td>0.0</td>\n",
       "      <td>0.0</td>\n",
       "    </tr>\n",
       "    <tr>\n",
       "      <th>1</th>\n",
       "      <td>1996-01-02 00:00:00+05:30</td>\n",
       "      <td>103.199796</td>\n",
       "      <td>103.199796</td>\n",
       "      <td>102.887070</td>\n",
       "      <td>102.887070</td>\n",
       "      <td>400</td>\n",
       "      <td>0.0</td>\n",
       "      <td>0.0</td>\n",
       "    </tr>\n",
       "    <tr>\n",
       "      <th>2</th>\n",
       "      <td>1996-01-03 00:00:00+05:30</td>\n",
       "      <td>102.417992</td>\n",
       "      <td>102.417992</td>\n",
       "      <td>102.417992</td>\n",
       "      <td>102.417992</td>\n",
       "      <td>500</td>\n",
       "      <td>0.0</td>\n",
       "      <td>0.0</td>\n",
       "    </tr>\n",
       "    <tr>\n",
       "      <th>3</th>\n",
       "      <td>1996-01-04 00:00:00+05:30</td>\n",
       "      <td>103.199833</td>\n",
       "      <td>103.199833</td>\n",
       "      <td>99.478386</td>\n",
       "      <td>99.478386</td>\n",
       "      <td>300</td>\n",
       "      <td>0.0</td>\n",
       "      <td>0.0</td>\n",
       "    </tr>\n",
       "    <tr>\n",
       "      <th>4</th>\n",
       "      <td>1996-01-05 00:00:00+05:30</td>\n",
       "      <td>100.072551</td>\n",
       "      <td>100.072551</td>\n",
       "      <td>98.821644</td>\n",
       "      <td>99.447098</td>\n",
       "      <td>300</td>\n",
       "      <td>0.0</td>\n",
       "      <td>0.0</td>\n",
       "    </tr>\n",
       "  </tbody>\n",
       "</table>\n",
       "</div>"
      ],
      "text/plain": [
       "                        Date        Open        High         Low       Close  \\\n",
       "0  1996-01-01 00:00:00+05:30  104.450745  104.450745  104.450745  104.450745   \n",
       "1  1996-01-02 00:00:00+05:30  103.199796  103.199796  102.887070  102.887070   \n",
       "2  1996-01-03 00:00:00+05:30  102.417992  102.417992  102.417992  102.417992   \n",
       "3  1996-01-04 00:00:00+05:30  103.199833  103.199833   99.478386   99.478386   \n",
       "4  1996-01-05 00:00:00+05:30  100.072551  100.072551   98.821644   99.447098   \n",
       "\n",
       "   Volume  Dividends  Stock Splits  \n",
       "0     100        0.0           0.0  \n",
       "1     400        0.0           0.0  \n",
       "2     500        0.0           0.0  \n",
       "3     300        0.0           0.0  \n",
       "4     300        0.0           0.0  "
      ]
     },
     "execution_count": 47,
     "metadata": {},
     "output_type": "execute_result"
    }
   ],
   "source": [
    "df.head()"
   ]
  },
  {
   "cell_type": "code",
   "execution_count": 48,
   "metadata": {},
   "outputs": [],
   "source": [
    "df.set_index('Date', inplace=True)"
   ]
  },
  {
   "cell_type": "code",
   "execution_count": 49,
   "metadata": {},
   "outputs": [],
   "source": [
    "df.index = pd.to_datetime(df.index)\n",
    "df.index = pd.to_datetime(df.index, unit='s', utc=True)"
   ]
  },
  {
   "cell_type": "code",
   "execution_count": 50,
   "metadata": {},
   "outputs": [
    {
     "data": {
      "text/html": [
       "<div>\n",
       "<style scoped>\n",
       "    .dataframe tbody tr th:only-of-type {\n",
       "        vertical-align: middle;\n",
       "    }\n",
       "\n",
       "    .dataframe tbody tr th {\n",
       "        vertical-align: top;\n",
       "    }\n",
       "\n",
       "    .dataframe thead th {\n",
       "        text-align: right;\n",
       "    }\n",
       "</style>\n",
       "<table border=\"1\" class=\"dataframe\">\n",
       "  <thead>\n",
       "    <tr style=\"text-align: right;\">\n",
       "      <th></th>\n",
       "      <th>Open</th>\n",
       "      <th>High</th>\n",
       "      <th>Low</th>\n",
       "      <th>Close</th>\n",
       "      <th>Volume</th>\n",
       "      <th>Dividends</th>\n",
       "      <th>Stock Splits</th>\n",
       "    </tr>\n",
       "    <tr>\n",
       "      <th>Date</th>\n",
       "      <th></th>\n",
       "      <th></th>\n",
       "      <th></th>\n",
       "      <th></th>\n",
       "      <th></th>\n",
       "      <th></th>\n",
       "      <th></th>\n",
       "    </tr>\n",
       "  </thead>\n",
       "  <tbody>\n",
       "    <tr>\n",
       "      <th>2019-01-01 18:30:00+00:00</th>\n",
       "      <td>1894.356977</td>\n",
       "      <td>1903.314794</td>\n",
       "      <td>1875.610066</td>\n",
       "      <td>1888.123413</td>\n",
       "      <td>2140</td>\n",
       "      <td>0.0</td>\n",
       "      <td>0.0</td>\n",
       "    </tr>\n",
       "    <tr>\n",
       "      <th>2019-01-02 18:30:00+00:00</th>\n",
       "      <td>1876.210456</td>\n",
       "      <td>1895.557659</td>\n",
       "      <td>1851.322306</td>\n",
       "      <td>1863.651001</td>\n",
       "      <td>2981</td>\n",
       "      <td>0.0</td>\n",
       "      <td>0.0</td>\n",
       "    </tr>\n",
       "    <tr>\n",
       "      <th>2019-01-03 18:30:00+00:00</th>\n",
       "      <td>1861.111309</td>\n",
       "      <td>1884.798761</td>\n",
       "      <td>1861.111309</td>\n",
       "      <td>1869.699707</td>\n",
       "      <td>2256</td>\n",
       "      <td>0.0</td>\n",
       "      <td>0.0</td>\n",
       "    </tr>\n",
       "    <tr>\n",
       "      <th>2019-01-06 18:30:00+00:00</th>\n",
       "      <td>1883.921637</td>\n",
       "      <td>1888.031127</td>\n",
       "      <td>1838.670578</td>\n",
       "      <td>1845.689087</td>\n",
       "      <td>2861</td>\n",
       "      <td>0.0</td>\n",
       "      <td>0.0</td>\n",
       "    </tr>\n",
       "    <tr>\n",
       "      <th>2019-01-07 18:30:00+00:00</th>\n",
       "      <td>1844.442451</td>\n",
       "      <td>1858.987435</td>\n",
       "      <td>1823.894776</td>\n",
       "      <td>1839.871216</td>\n",
       "      <td>6148</td>\n",
       "      <td>0.0</td>\n",
       "      <td>0.0</td>\n",
       "    </tr>\n",
       "  </tbody>\n",
       "</table>\n",
       "</div>"
      ],
      "text/plain": [
       "                                  Open         High          Low        Close  \\\n",
       "Date                                                                            \n",
       "2019-01-01 18:30:00+00:00  1894.356977  1903.314794  1875.610066  1888.123413   \n",
       "2019-01-02 18:30:00+00:00  1876.210456  1895.557659  1851.322306  1863.651001   \n",
       "2019-01-03 18:30:00+00:00  1861.111309  1884.798761  1861.111309  1869.699707   \n",
       "2019-01-06 18:30:00+00:00  1883.921637  1888.031127  1838.670578  1845.689087   \n",
       "2019-01-07 18:30:00+00:00  1844.442451  1858.987435  1823.894776  1839.871216   \n",
       "\n",
       "                           Volume  Dividends  Stock Splits  \n",
       "Date                                                        \n",
       "2019-01-01 18:30:00+00:00    2140        0.0           0.0  \n",
       "2019-01-02 18:30:00+00:00    2981        0.0           0.0  \n",
       "2019-01-03 18:30:00+00:00    2256        0.0           0.0  \n",
       "2019-01-06 18:30:00+00:00    2861        0.0           0.0  \n",
       "2019-01-07 18:30:00+00:00    6148        0.0           0.0  "
      ]
     },
     "execution_count": 50,
     "metadata": {},
     "output_type": "execute_result"
    }
   ],
   "source": [
    "df.loc[start_timestamp:].head()"
   ]
  },
  {
   "cell_type": "code",
   "execution_count": 51,
   "metadata": {},
   "outputs": [],
   "source": [
    "start = '01/01/2020'\n",
    "end = '30/06/2023'\n",
    "\n",
    "start = start.replace('/', '-')\n",
    "end = end.replace('/', '-')\n",
    "start += ' 00:00:00'\n",
    "end += ' 00:00:00'"
   ]
  },
  {
   "cell_type": "code",
   "execution_count": 52,
   "metadata": {},
   "outputs": [
    {
     "name": "stderr",
     "output_type": "stream",
     "text": [
      "C:\\Users\\aman2\\AppData\\Local\\Temp\\ipykernel_23080\\85780405.py:2: UserWarning: Parsing dates in %d-%m-%Y %H:%M:%S format when dayfirst=False (the default) was specified. Pass `dayfirst=True` or specify a format to silence this warning.\n",
      "  end = pd.to_datetime(end, utc=True)\n"
     ]
    }
   ],
   "source": [
    "start = pd.to_datetime(start, utc=True)\n",
    "end = pd.to_datetime(end, utc=True)"
   ]
  },
  {
   "cell_type": "code",
   "execution_count": 53,
   "metadata": {},
   "outputs": [
    {
     "data": {
      "text/plain": [
       "Timestamp('2020-01-01 00:00:00+0000', tz='UTC')"
      ]
     },
     "execution_count": 53,
     "metadata": {},
     "output_type": "execute_result"
    }
   ],
   "source": [
    "start"
   ]
  },
  {
   "cell_type": "code",
   "execution_count": 54,
   "metadata": {},
   "outputs": [
    {
     "data": {
      "text/html": [
       "<div>\n",
       "<style scoped>\n",
       "    .dataframe tbody tr th:only-of-type {\n",
       "        vertical-align: middle;\n",
       "    }\n",
       "\n",
       "    .dataframe tbody tr th {\n",
       "        vertical-align: top;\n",
       "    }\n",
       "\n",
       "    .dataframe thead th {\n",
       "        text-align: right;\n",
       "    }\n",
       "</style>\n",
       "<table border=\"1\" class=\"dataframe\">\n",
       "  <thead>\n",
       "    <tr style=\"text-align: right;\">\n",
       "      <th></th>\n",
       "      <th>Open</th>\n",
       "      <th>High</th>\n",
       "      <th>Low</th>\n",
       "      <th>Close</th>\n",
       "      <th>Volume</th>\n",
       "      <th>Dividends</th>\n",
       "      <th>Stock Splits</th>\n",
       "    </tr>\n",
       "    <tr>\n",
       "      <th>Date</th>\n",
       "      <th></th>\n",
       "      <th></th>\n",
       "      <th></th>\n",
       "      <th></th>\n",
       "      <th></th>\n",
       "      <th></th>\n",
       "      <th></th>\n",
       "    </tr>\n",
       "  </thead>\n",
       "  <tbody>\n",
       "    <tr>\n",
       "      <th>2020-01-01 18:30:00+00:00</th>\n",
       "      <td>1199.430051</td>\n",
       "      <td>1309.578417</td>\n",
       "      <td>1179.061796</td>\n",
       "      <td>1296.296875</td>\n",
       "      <td>72933</td>\n",
       "      <td>0.0</td>\n",
       "      <td>0.0</td>\n",
       "    </tr>\n",
       "    <tr>\n",
       "      <th>2020-01-02 18:30:00+00:00</th>\n",
       "      <td>1305.495417</td>\n",
       "      <td>1331.917913</td>\n",
       "      <td>1262.459192</td>\n",
       "      <td>1270.249878</td>\n",
       "      <td>30700</td>\n",
       "      <td>0.0</td>\n",
       "      <td>0.0</td>\n",
       "    </tr>\n",
       "    <tr>\n",
       "      <th>2020-01-05 18:30:00+00:00</th>\n",
       "      <td>1252.134141</td>\n",
       "      <td>1252.134141</td>\n",
       "      <td>1203.606949</td>\n",
       "      <td>1210.177368</td>\n",
       "      <td>9829</td>\n",
       "      <td>0.0</td>\n",
       "      <td>0.0</td>\n",
       "    </tr>\n",
       "    <tr>\n",
       "      <th>2020-01-06 18:30:00+00:00</th>\n",
       "      <td>1218.296757</td>\n",
       "      <td>1258.704891</td>\n",
       "      <td>1216.090996</td>\n",
       "      <td>1221.394287</td>\n",
       "      <td>6490</td>\n",
       "      <td>0.0</td>\n",
       "      <td>0.0</td>\n",
       "    </tr>\n",
       "    <tr>\n",
       "      <th>2020-01-07 18:30:00+00:00</th>\n",
       "      <td>1220.220839</td>\n",
       "      <td>1233.784017</td>\n",
       "      <td>1196.191898</td>\n",
       "      <td>1199.993286</td>\n",
       "      <td>7911</td>\n",
       "      <td>0.0</td>\n",
       "      <td>0.0</td>\n",
       "    </tr>\n",
       "  </tbody>\n",
       "</table>\n",
       "</div>"
      ],
      "text/plain": [
       "                                  Open         High          Low        Close  \\\n",
       "Date                                                                            \n",
       "2020-01-01 18:30:00+00:00  1199.430051  1309.578417  1179.061796  1296.296875   \n",
       "2020-01-02 18:30:00+00:00  1305.495417  1331.917913  1262.459192  1270.249878   \n",
       "2020-01-05 18:30:00+00:00  1252.134141  1252.134141  1203.606949  1210.177368   \n",
       "2020-01-06 18:30:00+00:00  1218.296757  1258.704891  1216.090996  1221.394287   \n",
       "2020-01-07 18:30:00+00:00  1220.220839  1233.784017  1196.191898  1199.993286   \n",
       "\n",
       "                           Volume  Dividends  Stock Splits  \n",
       "Date                                                        \n",
       "2020-01-01 18:30:00+00:00   72933        0.0           0.0  \n",
       "2020-01-02 18:30:00+00:00   30700        0.0           0.0  \n",
       "2020-01-05 18:30:00+00:00    9829        0.0           0.0  \n",
       "2020-01-06 18:30:00+00:00    6490        0.0           0.0  \n",
       "2020-01-07 18:30:00+00:00    7911        0.0           0.0  "
      ]
     },
     "execution_count": 54,
     "metadata": {},
     "output_type": "execute_result"
    }
   ],
   "source": [
    "df[start:end]"
   ]
  },
  {
   "cell_type": "code",
   "execution_count": 55,
   "metadata": {},
   "outputs": [],
   "source": [
    "def get_stock_data(symbol, start, end):\n",
    "    df = pd.read_csv(DATA_PATH.format(symbol))\n",
    "    df.set_index('Date', inplace=True)\n",
    "    start = start.replace('/', '-')\n",
    "    end = end.replace('/', '-')\n",
    "    start += ' 00:00:00'\n",
    "    end += ' 00:00:00'\n",
    "    df.index = pd.to_datetime(df.index)\n",
    "    df.index = pd.to_datetime(df.index, unit='s', utc=True)\n",
    "    start = pd.to_datetime(start, utc=True)\n",
    "    end = pd.to_datetime(end, utc=True)\n",
    "    return df[start:end]"
   ]
  },
  {
   "cell_type": "code",
   "execution_count": 56,
   "metadata": {},
   "outputs": [
    {
     "name": "stdout",
     "output_type": "stream",
     "text": [
      "867\n",
      "868\n"
     ]
    },
    {
     "name": "stderr",
     "output_type": "stream",
     "text": [
      "C:\\Users\\aman2\\AppData\\Local\\Temp\\ipykernel_23080\\3534141090.py:11: UserWarning: Parsing dates in %d-%m-%Y %H:%M:%S format when dayfirst=False (the default) was specified. Pass `dayfirst=True` or specify a format to silence this warning.\n",
      "  end = pd.to_datetime(end, utc=True)\n",
      "C:\\Users\\aman2\\AppData\\Local\\Temp\\ipykernel_23080\\3534141090.py:11: UserWarning: Parsing dates in %d-%m-%Y %H:%M:%S format when dayfirst=False (the default) was specified. Pass `dayfirst=True` or specify a format to silence this warning.\n",
      "  end = pd.to_datetime(end, utc=True)\n"
     ]
    }
   ],
   "source": [
    "hil = get_stock_data('HIL', '01/01/2020', '30/06/2023')\n",
    "print(len(hil))\n",
    "abb = get_stock_data('ABB', '01/01/2020', '30/06/2023')\n",
    "print(len(abb))"
   ]
  },
  {
   "cell_type": "code",
   "execution_count": 59,
   "metadata": {},
   "outputs": [
    {
     "data": {
      "text/plain": [
       "{Timestamp('2023-06-27 18:30:00+0000', tz='UTC')}"
      ]
     },
     "execution_count": 59,
     "metadata": {},
     "output_type": "execute_result"
    }
   ],
   "source": [
    " set(abb.index) - set(hil.index)"
   ]
  }
 ],
 "metadata": {
  "kernelspec": {
   "display_name": ".venv",
   "language": "python",
   "name": "python3"
  },
  "language_info": {
   "codemirror_mode": {
    "name": "ipython",
    "version": 3
   },
   "file_extension": ".py",
   "mimetype": "text/x-python",
   "name": "python",
   "nbconvert_exporter": "python",
   "pygments_lexer": "ipython3",
   "version": "3.9.12"
  }
 },
 "nbformat": 4,
 "nbformat_minor": 2
}
