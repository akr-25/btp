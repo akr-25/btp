{
 "cells": [
  {
   "cell_type": "code",
   "execution_count": 2,
   "metadata": {},
   "outputs": [],
   "source": [
    "import yfinance as yf\n",
    "import pandas as pd\n",
    "import numpy as np"
   ]
  },
  {
   "cell_type": "code",
   "execution_count": 3,
   "metadata": {},
   "outputs": [],
   "source": [
    "NIFTY_50 = yf.Ticker(\"^NSEI\")"
   ]
  },
  {
   "cell_type": "code",
   "execution_count": 4,
   "metadata": {},
   "outputs": [],
   "source": [
    "pricevoldata = NIFTY_50.history(period=\"max\")"
   ]
  },
  {
   "cell_type": "code",
   "execution_count": 5,
   "metadata": {},
   "outputs": [
    {
     "data": {
      "text/html": [
       "<div>\n",
       "<style scoped>\n",
       "    .dataframe tbody tr th:only-of-type {\n",
       "        vertical-align: middle;\n",
       "    }\n",
       "\n",
       "    .dataframe tbody tr th {\n",
       "        vertical-align: top;\n",
       "    }\n",
       "\n",
       "    .dataframe thead th {\n",
       "        text-align: right;\n",
       "    }\n",
       "</style>\n",
       "<table border=\"1\" class=\"dataframe\">\n",
       "  <thead>\n",
       "    <tr style=\"text-align: right;\">\n",
       "      <th></th>\n",
       "      <th>Open</th>\n",
       "      <th>High</th>\n",
       "      <th>Low</th>\n",
       "      <th>Close</th>\n",
       "    </tr>\n",
       "    <tr>\n",
       "      <th>Date</th>\n",
       "      <th></th>\n",
       "      <th></th>\n",
       "      <th></th>\n",
       "      <th></th>\n",
       "    </tr>\n",
       "  </thead>\n",
       "  <tbody>\n",
       "    <tr>\n",
       "      <th>2007-09-17 00:00:00+05:30</th>\n",
       "      <td>4518.450195</td>\n",
       "      <td>4549.049805</td>\n",
       "      <td>4482.850098</td>\n",
       "      <td>4494.649902</td>\n",
       "    </tr>\n",
       "    <tr>\n",
       "      <th>2007-09-18 00:00:00+05:30</th>\n",
       "      <td>4494.100098</td>\n",
       "      <td>4551.799805</td>\n",
       "      <td>4481.549805</td>\n",
       "      <td>4546.200195</td>\n",
       "    </tr>\n",
       "    <tr>\n",
       "      <th>2007-09-19 00:00:00+05:30</th>\n",
       "      <td>4550.250000</td>\n",
       "      <td>4739.000000</td>\n",
       "      <td>4550.250000</td>\n",
       "      <td>4732.350098</td>\n",
       "    </tr>\n",
       "    <tr>\n",
       "      <th>2007-09-20 00:00:00+05:30</th>\n",
       "      <td>4734.850098</td>\n",
       "      <td>4760.850098</td>\n",
       "      <td>4721.149902</td>\n",
       "      <td>4747.549805</td>\n",
       "    </tr>\n",
       "    <tr>\n",
       "      <th>2007-09-21 00:00:00+05:30</th>\n",
       "      <td>4752.950195</td>\n",
       "      <td>4855.700195</td>\n",
       "      <td>4733.700195</td>\n",
       "      <td>4837.549805</td>\n",
       "    </tr>\n",
       "    <tr>\n",
       "      <th>2007-09-24 00:00:00+05:30</th>\n",
       "      <td>4837.149902</td>\n",
       "      <td>4941.149902</td>\n",
       "      <td>4837.149902</td>\n",
       "      <td>4932.200195</td>\n",
       "    </tr>\n",
       "    <tr>\n",
       "      <th>2007-09-25 00:00:00+05:30</th>\n",
       "      <td>4939.100098</td>\n",
       "      <td>4953.899902</td>\n",
       "      <td>4878.149902</td>\n",
       "      <td>4938.850098</td>\n",
       "    </tr>\n",
       "    <tr>\n",
       "      <th>2007-09-26 00:00:00+05:30</th>\n",
       "      <td>4937.600098</td>\n",
       "      <td>4980.850098</td>\n",
       "      <td>4930.350098</td>\n",
       "      <td>4940.500000</td>\n",
       "    </tr>\n",
       "    <tr>\n",
       "      <th>2007-09-27 00:00:00+05:30</th>\n",
       "      <td>4942.700195</td>\n",
       "      <td>5016.399902</td>\n",
       "      <td>4942.700195</td>\n",
       "      <td>5000.549805</td>\n",
       "    </tr>\n",
       "    <tr>\n",
       "      <th>2007-09-28 00:00:00+05:30</th>\n",
       "      <td>4996.450195</td>\n",
       "      <td>5055.799805</td>\n",
       "      <td>4996.450195</td>\n",
       "      <td>5021.350098</td>\n",
       "    </tr>\n",
       "  </tbody>\n",
       "</table>\n",
       "</div>"
      ],
      "text/plain": [
       "                                  Open         High          Low        Close\n",
       "Date                                                                         \n",
       "2007-09-17 00:00:00+05:30  4518.450195  4549.049805  4482.850098  4494.649902\n",
       "2007-09-18 00:00:00+05:30  4494.100098  4551.799805  4481.549805  4546.200195\n",
       "2007-09-19 00:00:00+05:30  4550.250000  4739.000000  4550.250000  4732.350098\n",
       "2007-09-20 00:00:00+05:30  4734.850098  4760.850098  4721.149902  4747.549805\n",
       "2007-09-21 00:00:00+05:30  4752.950195  4855.700195  4733.700195  4837.549805\n",
       "2007-09-24 00:00:00+05:30  4837.149902  4941.149902  4837.149902  4932.200195\n",
       "2007-09-25 00:00:00+05:30  4939.100098  4953.899902  4878.149902  4938.850098\n",
       "2007-09-26 00:00:00+05:30  4937.600098  4980.850098  4930.350098  4940.500000\n",
       "2007-09-27 00:00:00+05:30  4942.700195  5016.399902  4942.700195  5000.549805\n",
       "2007-09-28 00:00:00+05:30  4996.450195  5055.799805  4996.450195  5021.350098"
      ]
     },
     "execution_count": 5,
     "metadata": {},
     "output_type": "execute_result"
    }
   ],
   "source": [
    "pricevoldata = pricevoldata[['Open', 'High', 'Low', 'Close']]\n",
    "pricevoldata.head(10)"
   ]
  },
  {
   "cell_type": "code",
   "execution_count": 6,
   "metadata": {},
   "outputs": [],
   "source": [
    "prices_df = pricevoldata[\"Close\"]"
   ]
  },
  {
   "cell_type": "code",
   "execution_count": 7,
   "metadata": {},
   "outputs": [
    {
     "data": {
      "text/html": [
       "<div>\n",
       "<style scoped>\n",
       "    .dataframe tbody tr th:only-of-type {\n",
       "        vertical-align: middle;\n",
       "    }\n",
       "\n",
       "    .dataframe tbody tr th {\n",
       "        vertical-align: top;\n",
       "    }\n",
       "\n",
       "    .dataframe thead th {\n",
       "        text-align: right;\n",
       "    }\n",
       "</style>\n",
       "<table border=\"1\" class=\"dataframe\">\n",
       "  <thead>\n",
       "    <tr style=\"text-align: right;\">\n",
       "      <th></th>\n",
       "      <th>Close</th>\n",
       "    </tr>\n",
       "    <tr>\n",
       "      <th>Date</th>\n",
       "      <th></th>\n",
       "    </tr>\n",
       "  </thead>\n",
       "  <tbody>\n",
       "    <tr>\n",
       "      <th>2007-09-17 00:00:00+05:30</th>\n",
       "      <td>4494.649902</td>\n",
       "    </tr>\n",
       "    <tr>\n",
       "      <th>2007-09-18 00:00:00+05:30</th>\n",
       "      <td>4546.200195</td>\n",
       "    </tr>\n",
       "    <tr>\n",
       "      <th>2007-09-19 00:00:00+05:30</th>\n",
       "      <td>4732.350098</td>\n",
       "    </tr>\n",
       "    <tr>\n",
       "      <th>2007-09-20 00:00:00+05:30</th>\n",
       "      <td>4747.549805</td>\n",
       "    </tr>\n",
       "    <tr>\n",
       "      <th>2007-09-21 00:00:00+05:30</th>\n",
       "      <td>4837.549805</td>\n",
       "    </tr>\n",
       "  </tbody>\n",
       "</table>\n",
       "</div>"
      ],
      "text/plain": [
       "                                 Close\n",
       "Date                                  \n",
       "2007-09-17 00:00:00+05:30  4494.649902\n",
       "2007-09-18 00:00:00+05:30  4546.200195\n",
       "2007-09-19 00:00:00+05:30  4732.350098\n",
       "2007-09-20 00:00:00+05:30  4747.549805\n",
       "2007-09-21 00:00:00+05:30  4837.549805"
      ]
     },
     "execution_count": 7,
     "metadata": {},
     "output_type": "execute_result"
    }
   ],
   "source": [
    "prices_df = pd.DataFrame(prices_df)\n",
    "prices_df.head()"
   ]
  },
  {
   "cell_type": "code",
   "execution_count": 8,
   "metadata": {},
   "outputs": [
    {
     "data": {
      "text/html": [
       "<div>\n",
       "<style scoped>\n",
       "    .dataframe tbody tr th:only-of-type {\n",
       "        vertical-align: middle;\n",
       "    }\n",
       "\n",
       "    .dataframe tbody tr th {\n",
       "        vertical-align: top;\n",
       "    }\n",
       "\n",
       "    .dataframe thead th {\n",
       "        text-align: right;\n",
       "    }\n",
       "</style>\n",
       "<table border=\"1\" class=\"dataframe\">\n",
       "  <thead>\n",
       "    <tr style=\"text-align: right;\">\n",
       "      <th></th>\n",
       "      <th>Close</th>\n",
       "    </tr>\n",
       "    <tr>\n",
       "      <th>Date</th>\n",
       "      <th></th>\n",
       "    </tr>\n",
       "  </thead>\n",
       "  <tbody>\n",
       "    <tr>\n",
       "      <th>2020-01-01</th>\n",
       "      <td>12182.500000</td>\n",
       "    </tr>\n",
       "    <tr>\n",
       "      <th>2020-01-02</th>\n",
       "      <td>12282.200195</td>\n",
       "    </tr>\n",
       "    <tr>\n",
       "      <th>2020-01-03</th>\n",
       "      <td>12226.650391</td>\n",
       "    </tr>\n",
       "    <tr>\n",
       "      <th>2020-01-06</th>\n",
       "      <td>11993.049805</td>\n",
       "    </tr>\n",
       "    <tr>\n",
       "      <th>2020-01-07</th>\n",
       "      <td>12052.950195</td>\n",
       "    </tr>\n",
       "  </tbody>\n",
       "</table>\n",
       "</div>"
      ],
      "text/plain": [
       "                   Close\n",
       "Date                    \n",
       "2020-01-01  12182.500000\n",
       "2020-01-02  12282.200195\n",
       "2020-01-03  12226.650391\n",
       "2020-01-06  11993.049805\n",
       "2020-01-07  12052.950195"
      ]
     },
     "execution_count": 8,
     "metadata": {},
     "output_type": "execute_result"
    }
   ],
   "source": [
    "start_timestamp = '01/01/2020'\n",
    "end_timestamp = '30/6/2023'\n",
    "\n",
    "# start_timestamp = '01/01/2016'\n",
    "# end_timestamp = '01/01/2020'\n",
    "\n",
    "# convert to datetime64[ns] dtype\n",
    "start_timestamp = pd.to_datetime(start_timestamp, dayfirst=True)\n",
    "end_timestamp = pd.to_datetime(end_timestamp, dayfirst=True)\n",
    "prices_df.index = pd.to_datetime(prices_df.index, unit='s')\n",
    "prices_df.index = prices_df.index.tz_localize(None)\n",
    "\n",
    "prices_df = prices_df[(prices_df.index >= start_timestamp) & (prices_df.index <= end_timestamp)]\n",
    "prices_df.head()"
   ]
  },
  {
   "cell_type": "code",
   "execution_count": null,
   "metadata": {},
   "outputs": [],
   "source": []
  },
  {
   "cell_type": "code",
   "execution_count": 9,
   "metadata": {},
   "outputs": [
    {
     "data": {
      "text/plain": [
       "Close    0\n",
       "dtype: int64"
      ]
     },
     "execution_count": 9,
     "metadata": {},
     "output_type": "execute_result"
    }
   ],
   "source": [
    "prices_df.isna().sum()"
   ]
  },
  {
   "cell_type": "code",
   "execution_count": 10,
   "metadata": {},
   "outputs": [],
   "source": [
    "returns_df = np.log(prices_df / prices_df.shift(1))\n",
    "returns_df = returns_df.dropna()"
   ]
  },
  {
   "cell_type": "code",
   "execution_count": 11,
   "metadata": {},
   "outputs": [],
   "source": [
    "# returns and volatility\n",
    "\n",
    "mean_return_daily = returns_df.mean()\n",
    "volatility_daily = returns_df.std()\n",
    "volatility_annualized = returns_df.std() * np.sqrt(252)"
   ]
  },
  {
   "cell_type": "code",
   "execution_count": 16,
   "metadata": {},
   "outputs": [
    {
     "data": {
      "text/plain": [
       "Close    13.205711\n",
       "dtype: float64"
      ]
     },
     "execution_count": 16,
     "metadata": {},
     "output_type": "execute_result"
    }
   ],
   "source": [
    "mean_return_daily*252*100"
   ]
  },
  {
   "cell_type": "code",
   "execution_count": 13,
   "metadata": {},
   "outputs": [
    {
     "data": {
      "text/plain": [
       "Close    0.013532\n",
       "dtype: float64"
      ]
     },
     "execution_count": 13,
     "metadata": {},
     "output_type": "execute_result"
    }
   ],
   "source": [
    "volatility_daily"
   ]
  },
  {
   "cell_type": "code",
   "execution_count": 18,
   "metadata": {},
   "outputs": [
    {
     "data": {
      "text/plain": [
       "Close    21.481607\n",
       "dtype: float64"
      ]
     },
     "execution_count": 18,
     "metadata": {},
     "output_type": "execute_result"
    }
   ],
   "source": [
    "volatility_annualized"
   ]
  },
  {
   "cell_type": "code",
   "execution_count": null,
   "metadata": {},
   "outputs": [],
   "source": []
  }
 ],
 "metadata": {
  "kernelspec": {
   "display_name": ".venv",
   "language": "python",
   "name": "python3"
  },
  "language_info": {
   "codemirror_mode": {
    "name": "ipython",
    "version": 3
   },
   "file_extension": ".py",
   "mimetype": "text/x-python",
   "name": "python",
   "nbconvert_exporter": "python",
   "pygments_lexer": "ipython3",
   "version": "3.9.12"
  },
  "orig_nbformat": 4
 },
 "nbformat": 4,
 "nbformat_minor": 2
}
