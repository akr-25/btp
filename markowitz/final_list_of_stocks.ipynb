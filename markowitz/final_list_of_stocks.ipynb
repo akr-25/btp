{
 "cells": [
  {
   "cell_type": "code",
   "execution_count": 2,
   "metadata": {},
   "outputs": [],
   "source": [
    "import pandas as pd\n",
    "import numpy as np\n",
    "import yfinance as yf"
   ]
  },
  {
   "cell_type": "code",
   "execution_count": 3,
   "metadata": {},
   "outputs": [],
   "source": [
    "esg_data = pd.read_json('../esg_data.json')"
   ]
  },
  {
   "cell_type": "code",
   "execution_count": 4,
   "metadata": {},
   "outputs": [
    {
     "data": {
      "text/html": [
       "<div>\n",
       "<style scoped>\n",
       "    .dataframe tbody tr th:only-of-type {\n",
       "        vertical-align: middle;\n",
       "    }\n",
       "\n",
       "    .dataframe tbody tr th {\n",
       "        vertical-align: top;\n",
       "    }\n",
       "\n",
       "    .dataframe thead th {\n",
       "        text-align: right;\n",
       "    }\n",
       "</style>\n",
       "<table border=\"1\" class=\"dataframe\">\n",
       "  <thead>\n",
       "    <tr style=\"text-align: right;\">\n",
       "      <th></th>\n",
       "      <th>esg</th>\n",
       "      <th>esg_industry</th>\n",
       "      <th>industry</th>\n",
       "      <th>name</th>\n",
       "      <th>ticker</th>\n",
       "    </tr>\n",
       "  </thead>\n",
       "  <tbody>\n",
       "    <tr>\n",
       "      <th>1</th>\n",
       "      <td>[[1622505600000, 14.44], [1625097600000, 14.46...</td>\n",
       "      <td>[[1622505600000, 13.83], [1625097600000, 12.9]...</td>\n",
       "      <td>Containers &amp; Packaging Manufacturing</td>\n",
       "      <td>3M-INDIA-LIMITED</td>\n",
       "      <td>3MINDIA</td>\n",
       "    </tr>\n",
       "    <tr>\n",
       "      <th>2</th>\n",
       "      <td>[[1633046400000, 36.21], [1635724800000, 35.68...</td>\n",
       "      <td>[[1633046400000, 19.94], [1635724800000, 20.25...</td>\n",
       "      <td>Brokerage &amp; Capital Markets</td>\n",
       "      <td>5paisa-Capital-Limited</td>\n",
       "      <td>5PAISA</td>\n",
       "    </tr>\n",
       "    <tr>\n",
       "      <th>5</th>\n",
       "      <td>[[1622505600000, 16.98], [1625097600000, 17.08...</td>\n",
       "      <td>[[1622505600000, 26.05], [1625097600000, 26.42...</td>\n",
       "      <td>Health Care &amp; Pharmaceuticals</td>\n",
       "      <td>Aarti-Drugs-Ltd</td>\n",
       "      <td>AARTIDRUGS</td>\n",
       "    </tr>\n",
       "    <tr>\n",
       "      <th>6</th>\n",
       "      <td>[[1622505600000, 19.55], [1625097600000, 19.69...</td>\n",
       "      <td>[[1622505600000, 28.24], [1625097600000, 26.97...</td>\n",
       "      <td>Chemicals, Plastics &amp; Rubber Products Mfg.</td>\n",
       "      <td>AARTI-INDUSTRIES-LTD</td>\n",
       "      <td>AARTIIND</td>\n",
       "    </tr>\n",
       "    <tr>\n",
       "      <th>8</th>\n",
       "      <td>[[1625097600000, 52.96], [1627776000000, 69.18...</td>\n",
       "      <td>[[1625097600000, 66.0], [1627776000000, 73.21]...</td>\n",
       "      <td>Real Estate Financial Services</td>\n",
       "      <td>Aavas-Financiers-Ltd</td>\n",
       "      <td>AAVAS</td>\n",
       "    </tr>\n",
       "  </tbody>\n",
       "</table>\n",
       "</div>"
      ],
      "text/plain": [
       "                                                 esg  \\\n",
       "1  [[1622505600000, 14.44], [1625097600000, 14.46...   \n",
       "2  [[1633046400000, 36.21], [1635724800000, 35.68...   \n",
       "5  [[1622505600000, 16.98], [1625097600000, 17.08...   \n",
       "6  [[1622505600000, 19.55], [1625097600000, 19.69...   \n",
       "8  [[1625097600000, 52.96], [1627776000000, 69.18...   \n",
       "\n",
       "                                        esg_industry  \\\n",
       "1  [[1622505600000, 13.83], [1625097600000, 12.9]...   \n",
       "2  [[1633046400000, 19.94], [1635724800000, 20.25...   \n",
       "5  [[1622505600000, 26.05], [1625097600000, 26.42...   \n",
       "6  [[1622505600000, 28.24], [1625097600000, 26.97...   \n",
       "8  [[1625097600000, 66.0], [1627776000000, 73.21]...   \n",
       "\n",
       "                                     industry                    name  \\\n",
       "1        Containers & Packaging Manufacturing        3M-INDIA-LIMITED   \n",
       "2                 Brokerage & Capital Markets  5paisa-Capital-Limited   \n",
       "5               Health Care & Pharmaceuticals         Aarti-Drugs-Ltd   \n",
       "6  Chemicals, Plastics & Rubber Products Mfg.    AARTI-INDUSTRIES-LTD   \n",
       "8              Real Estate Financial Services    Aavas-Financiers-Ltd   \n",
       "\n",
       "       ticker  \n",
       "1     3MINDIA  \n",
       "2      5PAISA  \n",
       "5  AARTIDRUGS  \n",
       "6    AARTIIND  \n",
       "8       AAVAS  "
      ]
     },
     "execution_count": 4,
     "metadata": {},
     "output_type": "execute_result"
    }
   ],
   "source": [
    "# Drop the stocks that have no ESG data\n",
    "esg_data = esg_data[esg_data['esg'].str.len() > 0]\n",
    "esg_data.head()"
   ]
  },
  {
   "cell_type": "code",
   "execution_count": 5,
   "metadata": {},
   "outputs": [
    {
     "data": {
      "text/plain": [
       "(756, 5)"
      ]
     },
     "execution_count": 5,
     "metadata": {},
     "output_type": "execute_result"
    }
   ],
   "source": [
    "esg_data.shape"
   ]
  },
  {
   "cell_type": "code",
   "execution_count": 6,
   "metadata": {},
   "outputs": [],
   "source": [
    "nse_data = pd.read_excel('../MCAP31032023_0.xlsx')"
   ]
  },
  {
   "cell_type": "code",
   "execution_count": 7,
   "metadata": {},
   "outputs": [
    {
     "data": {
      "text/html": [
       "<div>\n",
       "<style scoped>\n",
       "    .dataframe tbody tr th:only-of-type {\n",
       "        vertical-align: middle;\n",
       "    }\n",
       "\n",
       "    .dataframe tbody tr th {\n",
       "        vertical-align: top;\n",
       "    }\n",
       "\n",
       "    .dataframe thead th {\n",
       "        text-align: right;\n",
       "    }\n",
       "</style>\n",
       "<table border=\"1\" class=\"dataframe\">\n",
       "  <thead>\n",
       "    <tr style=\"text-align: right;\">\n",
       "      <th></th>\n",
       "      <th>Sr. No.</th>\n",
       "      <th>Symbol</th>\n",
       "      <th>Company Name</th>\n",
       "      <th>Market capitalization as on March 31, 2023\\n(Rs in Lakhs)</th>\n",
       "      <th>Unnamed: 4</th>\n",
       "    </tr>\n",
       "  </thead>\n",
       "  <tbody>\n",
       "    <tr>\n",
       "      <th>0</th>\n",
       "      <td>1</td>\n",
       "      <td>RELIANCE</td>\n",
       "      <td>Reliance Industries Limited</td>\n",
       "      <td>157706937.768198</td>\n",
       "      <td>NaN</td>\n",
       "    </tr>\n",
       "    <tr>\n",
       "      <th>1</th>\n",
       "      <td>2</td>\n",
       "      <td>TCS</td>\n",
       "      <td>Tata Consultancy Services Limited</td>\n",
       "      <td>117305527.967007</td>\n",
       "      <td>NaN</td>\n",
       "    </tr>\n",
       "    <tr>\n",
       "      <th>2</th>\n",
       "      <td>3</td>\n",
       "      <td>HDFCBANK</td>\n",
       "      <td>HDFC Bank Limited</td>\n",
       "      <td>89808750.012063</td>\n",
       "      <td>NaN</td>\n",
       "    </tr>\n",
       "    <tr>\n",
       "      <th>3</th>\n",
       "      <td>4</td>\n",
       "      <td>ICICIBANK</td>\n",
       "      <td>ICICI Bank Limited</td>\n",
       "      <td>61248250.447697</td>\n",
       "      <td>NaN</td>\n",
       "    </tr>\n",
       "    <tr>\n",
       "      <th>4</th>\n",
       "      <td>5</td>\n",
       "      <td>HINDUNILVR</td>\n",
       "      <td>Hindustan Unilever Limited</td>\n",
       "      <td>60157759.876617</td>\n",
       "      <td>NaN</td>\n",
       "    </tr>\n",
       "  </tbody>\n",
       "</table>\n",
       "</div>"
      ],
      "text/plain": [
       "  Sr. No.      Symbol                       Company Name  \\\n",
       "0       1    RELIANCE        Reliance Industries Limited   \n",
       "1       2         TCS  Tata Consultancy Services Limited   \n",
       "2       3    HDFCBANK                  HDFC Bank Limited   \n",
       "3       4   ICICIBANK                 ICICI Bank Limited   \n",
       "4       5  HINDUNILVR         Hindustan Unilever Limited   \n",
       "\n",
       "  Market capitalization as on March 31, 2023\\n(Rs in Lakhs) Unnamed: 4  \n",
       "0                                   157706937.768198               NaN  \n",
       "1                                   117305527.967007               NaN  \n",
       "2                                    89808750.012063               NaN  \n",
       "3                                    61248250.447697               NaN  \n",
       "4                                    60157759.876617               NaN  "
      ]
     },
     "execution_count": 7,
     "metadata": {},
     "output_type": "execute_result"
    }
   ],
   "source": [
    "nse_data.head()"
   ]
  },
  {
   "cell_type": "code",
   "execution_count": 8,
   "metadata": {},
   "outputs": [
    {
     "name": "stdout",
     "output_type": "stream",
     "text": [
      "2139\n"
     ]
    }
   ],
   "source": [
    "all_nse_tickers = nse_data['Symbol'].tolist()\n",
    "print(len(all_nse_tickers))"
   ]
  },
  {
   "cell_type": "code",
   "execution_count": 9,
   "metadata": {},
   "outputs": [
    {
     "name": "stdout",
     "output_type": "stream",
     "text": [
      "(604, 5)\n"
     ]
    }
   ],
   "source": [
    "esg_data = esg_data[esg_data['ticker'].isin(all_nse_tickers)]\n",
    "print(esg_data.shape)"
   ]
  },
  {
   "cell_type": "code",
   "execution_count": 10,
   "metadata": {},
   "outputs": [
    {
     "data": {
      "text/html": [
       "<div>\n",
       "<style scoped>\n",
       "    .dataframe tbody tr th:only-of-type {\n",
       "        vertical-align: middle;\n",
       "    }\n",
       "\n",
       "    .dataframe tbody tr th {\n",
       "        vertical-align: top;\n",
       "    }\n",
       "\n",
       "    .dataframe thead th {\n",
       "        text-align: right;\n",
       "    }\n",
       "</style>\n",
       "<table border=\"1\" class=\"dataframe\">\n",
       "  <thead>\n",
       "    <tr style=\"text-align: right;\">\n",
       "      <th></th>\n",
       "      <th>esg</th>\n",
       "      <th>esg_industry</th>\n",
       "      <th>industry</th>\n",
       "      <th>name</th>\n",
       "      <th>ticker</th>\n",
       "    </tr>\n",
       "  </thead>\n",
       "  <tbody>\n",
       "    <tr>\n",
       "      <th>1</th>\n",
       "      <td>[[1622505600000, 14.44], [1625097600000, 14.46...</td>\n",
       "      <td>[[1622505600000, 13.83], [1625097600000, 12.9]...</td>\n",
       "      <td>Containers &amp; Packaging Manufacturing</td>\n",
       "      <td>3M-INDIA-LIMITED</td>\n",
       "      <td>3MINDIA</td>\n",
       "    </tr>\n",
       "    <tr>\n",
       "      <th>2</th>\n",
       "      <td>[[1633046400000, 36.21], [1635724800000, 35.68...</td>\n",
       "      <td>[[1633046400000, 19.94], [1635724800000, 20.25...</td>\n",
       "      <td>Brokerage &amp; Capital Markets</td>\n",
       "      <td>5paisa-Capital-Limited</td>\n",
       "      <td>5PAISA</td>\n",
       "    </tr>\n",
       "    <tr>\n",
       "      <th>5</th>\n",
       "      <td>[[1622505600000, 16.98], [1625097600000, 17.08...</td>\n",
       "      <td>[[1622505600000, 26.05], [1625097600000, 26.42...</td>\n",
       "      <td>Health Care &amp; Pharmaceuticals</td>\n",
       "      <td>Aarti-Drugs-Ltd</td>\n",
       "      <td>AARTIDRUGS</td>\n",
       "    </tr>\n",
       "    <tr>\n",
       "      <th>6</th>\n",
       "      <td>[[1622505600000, 19.55], [1625097600000, 19.69...</td>\n",
       "      <td>[[1622505600000, 28.24], [1625097600000, 26.97...</td>\n",
       "      <td>Chemicals, Plastics &amp; Rubber Products Mfg.</td>\n",
       "      <td>AARTI-INDUSTRIES-LTD</td>\n",
       "      <td>AARTIIND</td>\n",
       "    </tr>\n",
       "    <tr>\n",
       "      <th>8</th>\n",
       "      <td>[[1625097600000, 52.96], [1627776000000, 69.18...</td>\n",
       "      <td>[[1625097600000, 66.0], [1627776000000, 73.21]...</td>\n",
       "      <td>Real Estate Financial Services</td>\n",
       "      <td>Aavas-Financiers-Ltd</td>\n",
       "      <td>AAVAS</td>\n",
       "    </tr>\n",
       "  </tbody>\n",
       "</table>\n",
       "</div>"
      ],
      "text/plain": [
       "                                                 esg  \\\n",
       "1  [[1622505600000, 14.44], [1625097600000, 14.46...   \n",
       "2  [[1633046400000, 36.21], [1635724800000, 35.68...   \n",
       "5  [[1622505600000, 16.98], [1625097600000, 17.08...   \n",
       "6  [[1622505600000, 19.55], [1625097600000, 19.69...   \n",
       "8  [[1625097600000, 52.96], [1627776000000, 69.18...   \n",
       "\n",
       "                                        esg_industry  \\\n",
       "1  [[1622505600000, 13.83], [1625097600000, 12.9]...   \n",
       "2  [[1633046400000, 19.94], [1635724800000, 20.25...   \n",
       "5  [[1622505600000, 26.05], [1625097600000, 26.42...   \n",
       "6  [[1622505600000, 28.24], [1625097600000, 26.97...   \n",
       "8  [[1625097600000, 66.0], [1627776000000, 73.21]...   \n",
       "\n",
       "                                     industry                    name  \\\n",
       "1        Containers & Packaging Manufacturing        3M-INDIA-LIMITED   \n",
       "2                 Brokerage & Capital Markets  5paisa-Capital-Limited   \n",
       "5               Health Care & Pharmaceuticals         Aarti-Drugs-Ltd   \n",
       "6  Chemicals, Plastics & Rubber Products Mfg.    AARTI-INDUSTRIES-LTD   \n",
       "8              Real Estate Financial Services    Aavas-Financiers-Ltd   \n",
       "\n",
       "       ticker  \n",
       "1     3MINDIA  \n",
       "2      5PAISA  \n",
       "5  AARTIDRUGS  \n",
       "6    AARTIIND  \n",
       "8       AAVAS  "
      ]
     },
     "execution_count": 10,
     "metadata": {},
     "output_type": "execute_result"
    }
   ],
   "source": [
    "esg_data.head()"
   ]
  },
  {
   "cell_type": "code",
   "execution_count": 16,
   "metadata": {},
   "outputs": [
    {
     "name": "stderr",
     "output_type": "stream",
     "text": [
      "KALPATPOWR.NS: No timezone found, symbol may be delisted\n",
      "MAHINDCIE.NS: No timezone found, symbol may be delisted\n",
      "PVR.NS: No timezone found, symbol may be delisted\n"
     ]
    },
    {
     "name": "stdout",
     "output_type": "stream",
     "text": [
      "['3MINDIA', 'AARTIDRUGS', 'AARTIIND', 'ABB', 'ACC', 'ACE', 'ADANIPORTS', 'AEGISCHEM', 'BBOX', 'ATFL', 'AIAENG', 'AJANTPHARM', 'ALKYLAMINE', 'ALLCARGO', 'ALOKINDS', 'AMARAJABAT', 'AMBUJACEM', 'ANANTRAJ', 'APARINDS', 'APOLLOHOSP', 'APOLLOTYRE', 'ARVIND', 'ASAHIINDIA', 'ASHOKLEY', 'ASIANPAINT', 'ASTRAMICRO', 'ASTRAZEN', 'ATUL', 'AUROPHARMA', 'AUTOAXLES', 'AXISBANK', 'BAJAJ-AUTO', 'BAJAJELEC', 'BAJFINANCE', 'BAJAJFINSV', 'BAJAJHIND', 'BAJAJHLDNG', 'BALAMINES', 'BALKRISIND', 'BALMLAWRIE', 'BALRAMCHIN', 'BANKBARODA', 'BANKINDIA', 'MAHABANK', 'BANARISUG', 'BASF', 'BATAINDIA', 'BEML', 'BERGEPAINT', 'BEL', 'BHARATFORG', 'BHEL', 'BPCL', 'BHARATRAS', 'BHARTIARTL', 'BIOCON', 'BIRLACORPN', 'BSOFT', 'BLUEDART', 'BLUESTARCO', 'BBTC', 'BOMDYEING', 'BRIGADE', 'BRITANNIA', 'ZYDUSLIFE', 'CANFINHOME', 'CANBK', 'CARBORUNIV', 'CASTROLIND', 'CCL', 'CEATLTD', 'CENTRALBK', 'CENTURYPLY', 'CENTURYTEX', 'CERA', 'CESC', 'CGPOWER', 'CHAMBLFERT', 'CHENNPETRO', 'CHOLAFIN', 'CIPLA', 'CUB', 'COFORGE', 'COLPAL', 'CONCOR', 'COROMANDEL', 'COSMOFIRST', 'CRISIL', 'CUMMINSIND', 'DABUR', 'DALMIASUG', 'DCMSHRIRAM', 'DEEPAKFERT', 'DCBBANK', 'DISHTV', 'DCAL', 'DIVISLAB', 'DLF', 'DRREDDY', 'EIDPARRY', 'ECLERX', 'EDELWEISS', 'EICHERMOT', 'EIHOTEL', 'ELECON', 'ELGIEQUIP', 'EMAMILTD', 'EMCO', 'ENGINERSIN', 'ESABINDIA', 'ESCORTS', 'EPL', 'EVEREADY', 'EXIDEIND', 'SCHAEFFLER', 'FDC', 'FACT', 'GNFC', 'FINCABLES', 'FINPIPE', 'FSL', 'FORTIS', 'GAIL', 'GANESHHOUC', 'GARFIBRES', 'GEPIL', 'GET&D', 'GHCL', 'GICHSGFIN', 'GLAXO', 'GLENMARK', 'GMRINFRA', 'GPIL', 'GODFRYPHLP', 'GODREJCP', 'GODREJIND', 'GOKEX', 'GRANULES', 'GRAPHITE', 'GRASIM', 'GESHIP', 'GREAVESCOT', 'GREENPLY', 'GRINDWELL', 'GTLINFRA', 'GUJALKALI', 'GAEL', 'GMDCLTD', 'GSFC', 'GSPL', 'GOCLCORP', 'GVKPIL', 'HMT', 'HAVELLS', 'HBLPOWER', 'HCLTECH', 'HDFCBANK', 'HEG', 'HEIDELBERG', 'HERITGFOOD', 'HEROMOTOCO', 'HIKAL', 'HIL', 'HFCL', 'HSCL', 'HIMATSEIDE', 'HINDALCO', 'HGS', 'HCC', 'HINDOILEXP', 'HINDPETRO', 'HINDUNILVR', 'HINDZINC', 'JCHAC', 'HONAUT', 'HDIL', 'AGI', 'AKZOINDIA', 'ICICIBANK', 'IDBI', 'IDEA', 'IFBIND', 'IFCI', 'IGARASHI', 'INDIAGLYCO', 'IIFL', 'IBREALEST', 'DHANI', 'INDIANB', 'INDIANHUME', 'IOC', 'IOB', 'ICIL', 'INDOCO', 'IGL', 'INDUSINDBK', 'NAUKRI', 'INFY', 'CYIENT', 'IDFC', 'INGERRAND', 'IPCALAB', 'IRB', 'ITC', 'ITI', 'JKIL', 'JKCEMENT', 'JBCHEPHARM', 'JAGRAN', 'JAICORPLTD', 'JISLJALEQS', 'JPASSOCIAT', 'JPPOWER', 'J&KBANK', 'JAYNECOIND', 'JBMA', 'JINDALPOLY', 'JINDALSAW', 'JSL', 'JINDALSTEL', 'JKLAKSHMI', 'JKPAPER', 'JKTYRE', 'JMFINANCIL', 'JSWHL', 'JSWSTEEL', 'JUBLPHARMA', 'JYOTHYLAB', 'KSB', 'KAJARIACER', 'KANSAINER', 'KSCL', 'KCP', 'KEC', 'KEI', 'KKCL', 'KIRLOSBROS', 'KIRLOSENG', 'KOTAKBANK', 'KPRMILL', 'KRBL', 'LAOPALA', 'LAXMIMACH', 'LT', 'LICHSGFIN', 'LINDEINDIA', 'DAAWAT', 'LUPIN', 'MAHSCOOTER', 'MAHSEAMLES', 'M&MFIN', 'M&M', 'MAHLIFE', 'MRPL', 'MARICO', 'MARKSANS', 'MARUTI', 'MFSL', 'MCLEODRUSS', 'MERCATOR', 'UNOMINDA', 'MIRZAINT', 'MOTILALOFS', 'MPHASIS', 'MRF', 'NATCOPHARM', 'NATIONALUM', 'NFL', 'NAVA', 'NAVINFLUOR', 'NAVNETEDUL', 'NCC', 'NESCO', 'NETWORK18', 'NEULANDLAB', 'NLCINDIA', 'NIITLTD', 'NMDC', 'NOCIL', 'NTPC', 'ONGC', 'OLECTRA', 'OMAXE', 'OFSS', 'PAGEIND', 'PATANJALI', 'PETRONET', 'PFIZER', 'PCBL', 'PHOENIXLTD', 'PIDILITIND', 'PEL', 'POLYPLEX', 'POONAWALLA', 'PFC', 'POWERGRID', 'PRAJIND', 'PFOCUS', 'PRSMJOHNSN', 'PGHL', 'PGHH', 'PTC', 'PUNJLLOYD', 'PNB', 'RADICO', 'RAIN', 'RAJESHEXPO', 'RALLIS', 'RAMCOCEM', 'RKFORGE', 'RCF', 'RATNAMANI', 'RAYMOND', 'REDINGTON', 'RELCAPITAL', 'RCOM', 'RELIANCE', 'RELINFRA', 'RPOWER', 'RELIGARE', 'RECLTD', 'SADBHAV', 'SANGHVIMOV', 'SANOFI', 'SCI', 'SHREECEM', 'RENUKA', 'SHRIRAMFIN', 'SIEMENS', 'SIYSIL', 'SKFINDIA', 'SMLISUZU', 'SOBHA', 'SOLARINDS', 'SOMANYCERA', 'SONATSOFTW', 'SOUTHBANK', 'SREINFRA', 'SRF', 'SBIN', 'SAIL', 'SSWL', 'STLTECH', 'STAR', 'STYRENIX', 'SUDARSCHEM', 'SPARC', 'SUNPHARMA', 'SUNTV', 'SUNCLAYLTD', 'SUNDRMFAST', 'SUPRAJIT', 'SURYAROSNI', 'SUVEN', 'SUZLON', 'TAKE', 'TNPL', 'TANLA', 'TATACHEM', 'TATACOFFEE', 'TATACOMM', 'TCS', 'TATAELXSI', 'TATACONSUM', 'TATAINVEST', 'TATAMETALI', 'TATAMOTORS', 'TATAPOWER', 'TATASTLLP', 'TATASTEEL', 'TTML', 'TECHM', 'TECHNOE', 'TEXRAIL', 'FEDERALBNK', 'INDIACEM', 'KTKBANK', 'KARURVYSYA', 'SUPREMEIND', 'TINPLATE', 'WSTCSTPAPR', 'THERMAX']\n",
      "['KALPATPOWR', 'MAHINDCIE', 'PVR']\n"
     ]
    }
   ],
   "source": [
    "good_ticker = []\n",
    "bad_ticker = []\n",
    "for ticker in esg_data['ticker']:\n",
    "    try:\n",
    "        df = yf.Ticker(f'{ticker}.NS').history(period='max')\n",
    "        df.to_csv(f'../data/{ticker}.csv')\n",
    "        if df.index[0].year < 2009:\n",
    "            good_ticker.append(ticker)\n",
    "    except:\n",
    "        bad_ticker.append(ticker)\n",
    "\n",
    "print(good_ticker)\n",
    "print(bad_ticker)"
   ]
  },
  {
   "cell_type": "code",
   "execution_count": 18,
   "metadata": {},
   "outputs": [
    {
     "data": {
      "text/html": [
       "<div>\n",
       "<style scoped>\n",
       "    .dataframe tbody tr th:only-of-type {\n",
       "        vertical-align: middle;\n",
       "    }\n",
       "\n",
       "    .dataframe tbody tr th {\n",
       "        vertical-align: top;\n",
       "    }\n",
       "\n",
       "    .dataframe thead th {\n",
       "        text-align: right;\n",
       "    }\n",
       "</style>\n",
       "<table border=\"1\" class=\"dataframe\">\n",
       "  <thead>\n",
       "    <tr style=\"text-align: right;\">\n",
       "      <th></th>\n",
       "      <th>ticker</th>\n",
       "    </tr>\n",
       "  </thead>\n",
       "  <tbody>\n",
       "    <tr>\n",
       "      <th>0</th>\n",
       "      <td>3MINDIA</td>\n",
       "    </tr>\n",
       "    <tr>\n",
       "      <th>1</th>\n",
       "      <td>AARTIDRUGS</td>\n",
       "    </tr>\n",
       "    <tr>\n",
       "      <th>2</th>\n",
       "      <td>AARTIIND</td>\n",
       "    </tr>\n",
       "    <tr>\n",
       "      <th>3</th>\n",
       "      <td>ABB</td>\n",
       "    </tr>\n",
       "    <tr>\n",
       "      <th>4</th>\n",
       "      <td>ACC</td>\n",
       "    </tr>\n",
       "  </tbody>\n",
       "</table>\n",
       "</div>"
      ],
      "text/plain": [
       "       ticker\n",
       "0     3MINDIA\n",
       "1  AARTIDRUGS\n",
       "2    AARTIIND\n",
       "3         ABB\n",
       "4         ACC"
      ]
     },
     "execution_count": 18,
     "metadata": {},
     "output_type": "execute_result"
    }
   ],
   "source": [
    "goody = pd.DataFrame(good_ticker, columns=['ticker'])\n",
    "goody.head()"
   ]
  },
  {
   "cell_type": "code",
   "execution_count": 12,
   "metadata": {},
   "outputs": [],
   "source": [
    "esg_data['ticker'].to_csv('../esg_nse_final.csv', index=False)\n",
    "goody['ticker'].to_csv('../esg_nse_yahoo_final.csv', index=False)"
   ]
  }
 ],
 "metadata": {
  "kernelspec": {
   "display_name": ".venv",
   "language": "python",
   "name": "python3"
  },
  "language_info": {
   "codemirror_mode": {
    "name": "ipython",
    "version": 3
   },
   "file_extension": ".py",
   "mimetype": "text/x-python",
   "name": "python",
   "nbconvert_exporter": "python",
   "pygments_lexer": "ipython3",
   "version": "3.9.12"
  }
 },
 "nbformat": 4,
 "nbformat_minor": 2
}
