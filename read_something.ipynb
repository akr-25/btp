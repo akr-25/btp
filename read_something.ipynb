{
 "cells": [
  {
   "cell_type": "code",
   "execution_count": 93,
   "metadata": {},
   "outputs": [],
   "source": [
    "import pandas as pd"
   ]
  },
  {
   "cell_type": "code",
   "execution_count": 94,
   "metadata": {},
   "outputs": [],
   "source": [
    "df = pd.read_json('btp/esg_data/esg_data.json')"
   ]
  },
  {
   "cell_type": "code",
   "execution_count": 95,
   "metadata": {},
   "outputs": [
    {
     "data": {
      "text/html": [
       "<div>\n",
       "<style scoped>\n",
       "    .dataframe tbody tr th:only-of-type {\n",
       "        vertical-align: middle;\n",
       "    }\n",
       "\n",
       "    .dataframe tbody tr th {\n",
       "        vertical-align: top;\n",
       "    }\n",
       "\n",
       "    .dataframe thead th {\n",
       "        text-align: right;\n",
       "    }\n",
       "</style>\n",
       "<table border=\"1\" class=\"dataframe\">\n",
       "  <thead>\n",
       "    <tr style=\"text-align: right;\">\n",
       "      <th></th>\n",
       "      <th>esg</th>\n",
       "      <th>esg_industry</th>\n",
       "      <th>industry</th>\n",
       "      <th>name</th>\n",
       "      <th>ticker</th>\n",
       "    </tr>\n",
       "  </thead>\n",
       "  <tbody>\n",
       "    <tr>\n",
       "      <th>0</th>\n",
       "      <td>[]</td>\n",
       "      <td>[]</td>\n",
       "      <td>Mining (except Oil &amp; Gas)</td>\n",
       "      <td>20-Microns-Ltd</td>\n",
       "      <td>20MICRONS</td>\n",
       "    </tr>\n",
       "    <tr>\n",
       "      <th>1</th>\n",
       "      <td>[[1622505600000, 14.44], [1625097600000, 14.46...</td>\n",
       "      <td>[[1622505600000, 13.83], [1625097600000, 12.9]...</td>\n",
       "      <td>Containers &amp; Packaging Manufacturing</td>\n",
       "      <td>3M-INDIA-LIMITED</td>\n",
       "      <td>3MINDIA</td>\n",
       "    </tr>\n",
       "    <tr>\n",
       "      <th>2</th>\n",
       "      <td>[[1633046400000, 36.21], [1635724800000, 35.68...</td>\n",
       "      <td>[[1633046400000, 19.94], [1635724800000, 20.25...</td>\n",
       "      <td>Brokerage &amp; Capital Markets</td>\n",
       "      <td>5paisa-Capital-Limited</td>\n",
       "      <td>5PAISA</td>\n",
       "    </tr>\n",
       "    <tr>\n",
       "      <th>3</th>\n",
       "      <td>[]</td>\n",
       "      <td>[]</td>\n",
       "      <td>Brokerage &amp; Capital Markets</td>\n",
       "      <td>A-K-CAPITAL-SERVICES-LIMITED</td>\n",
       "      <td>530499</td>\n",
       "    </tr>\n",
       "    <tr>\n",
       "      <th>4</th>\n",
       "      <td>[]</td>\n",
       "      <td>[]</td>\n",
       "      <td>Architectural, Engineering, &amp; Related Services</td>\n",
       "      <td>A2Z-MAINTENANCE-and-ENGINEERING-SERVICES-LIMITED</td>\n",
       "      <td>A2ZINFRA</td>\n",
       "    </tr>\n",
       "  </tbody>\n",
       "</table>\n",
       "</div>"
      ],
      "text/plain": [
       "                                                 esg  \\\n",
       "0                                                 []   \n",
       "1  [[1622505600000, 14.44], [1625097600000, 14.46...   \n",
       "2  [[1633046400000, 36.21], [1635724800000, 35.68...   \n",
       "3                                                 []   \n",
       "4                                                 []   \n",
       "\n",
       "                                        esg_industry  \\\n",
       "0                                                 []   \n",
       "1  [[1622505600000, 13.83], [1625097600000, 12.9]...   \n",
       "2  [[1633046400000, 19.94], [1635724800000, 20.25...   \n",
       "3                                                 []   \n",
       "4                                                 []   \n",
       "\n",
       "                                         industry  \\\n",
       "0                       Mining (except Oil & Gas)   \n",
       "1            Containers & Packaging Manufacturing   \n",
       "2                     Brokerage & Capital Markets   \n",
       "3                     Brokerage & Capital Markets   \n",
       "4  Architectural, Engineering, & Related Services   \n",
       "\n",
       "                                               name     ticker  \n",
       "0                                    20-Microns-Ltd  20MICRONS  \n",
       "1                                  3M-INDIA-LIMITED    3MINDIA  \n",
       "2                            5paisa-Capital-Limited     5PAISA  \n",
       "3                      A-K-CAPITAL-SERVICES-LIMITED     530499  \n",
       "4  A2Z-MAINTENANCE-and-ENGINEERING-SERVICES-LIMITED   A2ZINFRA  "
      ]
     },
     "execution_count": 95,
     "metadata": {},
     "output_type": "execute_result"
    }
   ],
   "source": [
    "df.head()"
   ]
  },
  {
   "cell_type": "code",
   "execution_count": 96,
   "metadata": {},
   "outputs": [
    {
     "data": {
      "text/html": [
       "<div>\n",
       "<style scoped>\n",
       "    .dataframe tbody tr th:only-of-type {\n",
       "        vertical-align: middle;\n",
       "    }\n",
       "\n",
       "    .dataframe tbody tr th {\n",
       "        vertical-align: top;\n",
       "    }\n",
       "\n",
       "    .dataframe thead th {\n",
       "        text-align: right;\n",
       "    }\n",
       "</style>\n",
       "<table border=\"1\" class=\"dataframe\">\n",
       "  <thead>\n",
       "    <tr style=\"text-align: right;\">\n",
       "      <th></th>\n",
       "      <th>esg</th>\n",
       "      <th>esg_industry</th>\n",
       "      <th>industry</th>\n",
       "      <th>name</th>\n",
       "      <th>ticker</th>\n",
       "    </tr>\n",
       "  </thead>\n",
       "  <tbody>\n",
       "    <tr>\n",
       "      <th>1</th>\n",
       "      <td>[[1622505600000, 14.44], [1625097600000, 14.46...</td>\n",
       "      <td>[[1622505600000, 13.83], [1625097600000, 12.9]...</td>\n",
       "      <td>Containers &amp; Packaging Manufacturing</td>\n",
       "      <td>3M-INDIA-LIMITED</td>\n",
       "      <td>3MINDIA</td>\n",
       "    </tr>\n",
       "    <tr>\n",
       "      <th>2</th>\n",
       "      <td>[[1633046400000, 36.21], [1635724800000, 35.68...</td>\n",
       "      <td>[[1633046400000, 19.94], [1635724800000, 20.25...</td>\n",
       "      <td>Brokerage &amp; Capital Markets</td>\n",
       "      <td>5paisa-Capital-Limited</td>\n",
       "      <td>5PAISA</td>\n",
       "    </tr>\n",
       "    <tr>\n",
       "      <th>5</th>\n",
       "      <td>[[1622505600000, 16.98], [1625097600000, 17.08...</td>\n",
       "      <td>[[1622505600000, 26.05], [1625097600000, 26.42...</td>\n",
       "      <td>Health Care &amp; Pharmaceuticals</td>\n",
       "      <td>Aarti-Drugs-Ltd</td>\n",
       "      <td>AARTIDRUGS</td>\n",
       "    </tr>\n",
       "    <tr>\n",
       "      <th>6</th>\n",
       "      <td>[[1622505600000, 19.55], [1625097600000, 19.69...</td>\n",
       "      <td>[[1622505600000, 28.24], [1625097600000, 26.97...</td>\n",
       "      <td>Chemicals, Plastics &amp; Rubber Products Mfg.</td>\n",
       "      <td>AARTI-INDUSTRIES-LTD</td>\n",
       "      <td>AARTIIND</td>\n",
       "    </tr>\n",
       "    <tr>\n",
       "      <th>8</th>\n",
       "      <td>[[1625097600000, 52.96], [1627776000000, 69.18...</td>\n",
       "      <td>[[1625097600000, 66.0], [1627776000000, 73.21]...</td>\n",
       "      <td>Real Estate Financial Services</td>\n",
       "      <td>Aavas-Financiers-Ltd</td>\n",
       "      <td>AAVAS</td>\n",
       "    </tr>\n",
       "  </tbody>\n",
       "</table>\n",
       "</div>"
      ],
      "text/plain": [
       "                                                 esg  \\\n",
       "1  [[1622505600000, 14.44], [1625097600000, 14.46...   \n",
       "2  [[1633046400000, 36.21], [1635724800000, 35.68...   \n",
       "5  [[1622505600000, 16.98], [1625097600000, 17.08...   \n",
       "6  [[1622505600000, 19.55], [1625097600000, 19.69...   \n",
       "8  [[1625097600000, 52.96], [1627776000000, 69.18...   \n",
       "\n",
       "                                        esg_industry  \\\n",
       "1  [[1622505600000, 13.83], [1625097600000, 12.9]...   \n",
       "2  [[1633046400000, 19.94], [1635724800000, 20.25...   \n",
       "5  [[1622505600000, 26.05], [1625097600000, 26.42...   \n",
       "6  [[1622505600000, 28.24], [1625097600000, 26.97...   \n",
       "8  [[1625097600000, 66.0], [1627776000000, 73.21]...   \n",
       "\n",
       "                                     industry                    name  \\\n",
       "1        Containers & Packaging Manufacturing        3M-INDIA-LIMITED   \n",
       "2                 Brokerage & Capital Markets  5paisa-Capital-Limited   \n",
       "5               Health Care & Pharmaceuticals         Aarti-Drugs-Ltd   \n",
       "6  Chemicals, Plastics & Rubber Products Mfg.    AARTI-INDUSTRIES-LTD   \n",
       "8              Real Estate Financial Services    Aavas-Financiers-Ltd   \n",
       "\n",
       "       ticker  \n",
       "1     3MINDIA  \n",
       "2      5PAISA  \n",
       "5  AARTIDRUGS  \n",
       "6    AARTIIND  \n",
       "8       AAVAS  "
      ]
     },
     "execution_count": 96,
     "metadata": {},
     "output_type": "execute_result"
    }
   ],
   "source": [
    "# Drop the stocks that have no ESG data\n",
    "df = df[df['esg'].str.len() > 0]\n",
    "df.head()"
   ]
  },
  {
   "cell_type": "code",
   "execution_count": 97,
   "metadata": {},
   "outputs": [
    {
     "data": {
      "text/plain": [
       "(756, 5)"
      ]
     },
     "execution_count": 97,
     "metadata": {},
     "output_type": "execute_result"
    }
   ],
   "source": [
    "df.shape"
   ]
  },
  {
   "cell_type": "code",
   "execution_count": 98,
   "metadata": {},
   "outputs": [
    {
     "data": {
      "text/plain": [
       "True"
      ]
     },
     "execution_count": 98,
     "metadata": {},
     "output_type": "execute_result"
    }
   ],
   "source": [
    "# Check if all insdustries have esg data\n",
    "(df['esg_industry'].str.len() > 0).sum() == df.shape[0]"
   ]
  },
  {
   "cell_type": "code",
   "execution_count": 99,
   "metadata": {},
   "outputs": [],
   "source": [
    "# reindex the dataframe\n",
    "\n",
    "df = df.reset_index(drop=True)"
   ]
  },
  {
   "cell_type": "code",
   "execution_count": 100,
   "metadata": {},
   "outputs": [],
   "source": [
    "from datetime import datetime\n",
    "\n",
    "def get_date(date: int) -> str:\n",
    "    try:\n",
    "        date = datetime.fromtimestamp(date/1000)\n",
    "        return date.strftime(\"%Y-%m-%d\")\n",
    "    except TypeError:\n",
    "        return str(date)"
   ]
  },
  {
   "cell_type": "code",
   "execution_count": 101,
   "metadata": {},
   "outputs": [],
   "source": [
    "for i in range(len(df)):\n",
    "    esg = df.at[i, 'esg']\n",
    "    esg_industry = df.at[i, 'esg_industry']\n",
    "    \n",
    "    for j in range(len(esg_industry)):\n",
    "        esg_industry[j][0] = get_date(esg_industry[j][0])\n",
    "    \n",
    "    for j in range(len(esg)):\n",
    "        esg[j][0] = get_date(esg[j][0])\n",
    "    \n",
    "    df.at[i, 'esg'] = esg\n",
    "    df.at[i, 'esg_industry'] = esg_industry\n"
   ]
  },
  {
   "cell_type": "markdown",
   "metadata": {},
   "source": [
    "Analyzing the industry data"
   ]
  },
  {
   "cell_type": "code",
   "execution_count": 102,
   "metadata": {},
   "outputs": [
    {
     "data": {
      "text/html": [
       "<div>\n",
       "<style scoped>\n",
       "    .dataframe tbody tr th:only-of-type {\n",
       "        vertical-align: middle;\n",
       "    }\n",
       "\n",
       "    .dataframe tbody tr th {\n",
       "        vertical-align: top;\n",
       "    }\n",
       "\n",
       "    .dataframe thead th {\n",
       "        text-align: right;\n",
       "    }\n",
       "</style>\n",
       "<table border=\"1\" class=\"dataframe\">\n",
       "  <thead>\n",
       "    <tr style=\"text-align: right;\">\n",
       "      <th></th>\n",
       "      <th>esg</th>\n",
       "      <th>esg_industry</th>\n",
       "      <th>industry</th>\n",
       "      <th>name</th>\n",
       "      <th>ticker</th>\n",
       "    </tr>\n",
       "  </thead>\n",
       "  <tbody>\n",
       "    <tr>\n",
       "      <th>410</th>\n",
       "      <td>[[2021-06-01, 9.94], [2021-07-01, 10.01], [202...</td>\n",
       "      <td>[[2021-06-01, 11.76], [2021-07-01, 12.38], [20...</td>\n",
       "      <td>Paper Products</td>\n",
       "      <td>JK-PAPER-LIMITED</td>\n",
       "      <td>JKPAPER</td>\n",
       "    </tr>\n",
       "    <tr>\n",
       "      <th>718</th>\n",
       "      <td>[[2023-05-01, 27.98]]</td>\n",
       "      <td>[[2023-05-01, 28.68]]</td>\n",
       "      <td>Paper Products</td>\n",
       "      <td>Tamil-Nadu-Newsprint-and-Papers-Limited</td>\n",
       "      <td>TNPL</td>\n",
       "    </tr>\n",
       "    <tr>\n",
       "      <th>754</th>\n",
       "      <td>[[2023-05-01, 23.5]]</td>\n",
       "      <td>[[2023-05-01, 22.06]]</td>\n",
       "      <td>Paper Products</td>\n",
       "      <td>THE-WEST-COAST-PAPER-MILLS-LIMITED</td>\n",
       "      <td>WSTCSTPAPR</td>\n",
       "    </tr>\n",
       "  </tbody>\n",
       "</table>\n",
       "</div>"
      ],
      "text/plain": [
       "                                                   esg  \\\n",
       "410  [[2021-06-01, 9.94], [2021-07-01, 10.01], [202...   \n",
       "718                              [[2023-05-01, 27.98]]   \n",
       "754                               [[2023-05-01, 23.5]]   \n",
       "\n",
       "                                          esg_industry        industry  \\\n",
       "410  [[2021-06-01, 11.76], [2021-07-01, 12.38], [20...  Paper Products   \n",
       "718                              [[2023-05-01, 28.68]]  Paper Products   \n",
       "754                              [[2023-05-01, 22.06]]  Paper Products   \n",
       "\n",
       "                                        name      ticker  \n",
       "410                         JK-PAPER-LIMITED     JKPAPER  \n",
       "718  Tamil-Nadu-Newsprint-and-Papers-Limited        TNPL  \n",
       "754       THE-WEST-COAST-PAPER-MILLS-LIMITED  WSTCSTPAPR  "
      ]
     },
     "execution_count": 102,
     "metadata": {},
     "output_type": "execute_result"
    }
   ],
   "source": [
    "df[df['industry'] == 'Paper Products']"
   ]
  },
  {
   "cell_type": "code",
   "execution_count": 103,
   "metadata": {},
   "outputs": [
    {
     "name": "stdout",
     "output_type": "stream",
     "text": [
      "industry\n",
      "Chemicals, Plastics & Rubber Products Mfg.    77\n",
      "Construction Materials                        36\n",
      "Manufacturing                                 33\n",
      "Diversified Financial Services                26\n",
      "Pharmaceutical & Medicine Manufacturing       25\n",
      "                                              ..\n",
      "National Government                            1\n",
      "Property Leasing                               1\n",
      "Wholesale Trade                                1\n",
      "Computers & Peripherals                        1\n",
      "Accounting, Tax Prep., & Payroll Services      1\n",
      "Name: count, Length: 118, dtype: int64\n",
      "756\n"
     ]
    },
    {
     "data": {
      "text/plain": [
       "[<matplotlib.lines.Line2D at 0x1d5240982b0>]"
      ]
     },
     "execution_count": 103,
     "metadata": {},
     "output_type": "execute_result"
    },
    {
     "data": {
      "image/png": "[encoded data removed]",
      "text/plain": [
       "<Figure size 640x480 with 1 Axes>"
      ]
     },
     "metadata": {},
     "output_type": "display_data"
    }
   ],
   "source": [
    "# number of companies in each industry\n",
    "print (df['industry'].value_counts())\n",
    "print (len(df))\n",
    "\n",
    "# plot the number of companies in each industry\n",
    "import matplotlib.pyplot as plt\n",
    "\n",
    "plt.plot(df['industry'].value_counts().values)\n",
    "plt.plot(df['industry'].value_counts().values, 'ro', markersize=1)"
   ]
  },
  {
   "cell_type": "code",
   "execution_count": 104,
   "metadata": {},
   "outputs": [
    {
     "data": {
      "text/html": [
       "<div>\n",
       "<style scoped>\n",
       "    .dataframe tbody tr th:only-of-type {\n",
       "        vertical-align: middle;\n",
       "    }\n",
       "\n",
       "    .dataframe tbody tr th {\n",
       "        vertical-align: top;\n",
       "    }\n",
       "\n",
       "    .dataframe thead th {\n",
       "        text-align: right;\n",
       "    }\n",
       "</style>\n",
       "<table border=\"1\" class=\"dataframe\">\n",
       "  <thead>\n",
       "    <tr style=\"text-align: right;\">\n",
       "      <th></th>\n",
       "      <th>c</th>\n",
       "      <th>h</th>\n",
       "      <th>l</th>\n",
       "      <th>o</th>\n",
       "      <th>s</th>\n",
       "      <th>t</th>\n",
       "      <th>v</th>\n",
       "    </tr>\n",
       "  </thead>\n",
       "  <tbody>\n",
       "    <tr>\n",
       "      <th>0</th>\n",
       "      <td>2757.50</td>\n",
       "      <td>2830.00</td>\n",
       "      <td>2725.05</td>\n",
       "      <td>2725.05</td>\n",
       "      <td>ok</td>\n",
       "      <td>1277942400</td>\n",
       "      <td>971</td>\n",
       "    </tr>\n",
       "    <tr>\n",
       "      <th>1</th>\n",
       "      <td>2763.60</td>\n",
       "      <td>2810.00</td>\n",
       "      <td>2760.00</td>\n",
       "      <td>2810.00</td>\n",
       "      <td>ok</td>\n",
       "      <td>1278028800</td>\n",
       "      <td>263</td>\n",
       "    </tr>\n",
       "    <tr>\n",
       "      <th>2</th>\n",
       "      <td>2816.05</td>\n",
       "      <td>2828.00</td>\n",
       "      <td>2770.00</td>\n",
       "      <td>2799.00</td>\n",
       "      <td>ok</td>\n",
       "      <td>1278288000</td>\n",
       "      <td>728</td>\n",
       "    </tr>\n",
       "    <tr>\n",
       "      <th>3</th>\n",
       "      <td>2776.25</td>\n",
       "      <td>2818.95</td>\n",
       "      <td>2750.00</td>\n",
       "      <td>2800.05</td>\n",
       "      <td>ok</td>\n",
       "      <td>1278374400</td>\n",
       "      <td>348</td>\n",
       "    </tr>\n",
       "    <tr>\n",
       "      <th>4</th>\n",
       "      <td>2779.30</td>\n",
       "      <td>2848.00</td>\n",
       "      <td>2762.70</td>\n",
       "      <td>2848.00</td>\n",
       "      <td>ok</td>\n",
       "      <td>1278460800</td>\n",
       "      <td>199</td>\n",
       "    </tr>\n",
       "  </tbody>\n",
       "</table>\n",
       "</div>"
      ],
      "text/plain": [
       "         c        h        l        o   s           t    v\n",
       "0  2757.50  2830.00  2725.05  2725.05  ok  1277942400  971\n",
       "1  2763.60  2810.00  2760.00  2810.00  ok  1278028800  263\n",
       "2  2816.05  2828.00  2770.00  2799.00  ok  1278288000  728\n",
       "3  2776.25  2818.95  2750.00  2800.05  ok  1278374400  348\n",
       "4  2779.30  2848.00  2762.70  2848.00  ok  1278460800  199"
      ]
     },
     "execution_count": 104,
     "metadata": {},
     "output_type": "execute_result"
    }
   ],
   "source": [
    "stockname = df['ticker'][0]\n",
    "stockData = pd.read_json(f'btp/data/{stockname}.json')\n",
    "stockData.head()"
   ]
  },
  {
   "cell_type": "markdown",
   "metadata": {},
   "source": [
    "Analyzing one of the stocks"
   ]
  },
  {
   "cell_type": "code",
   "execution_count": 105,
   "metadata": {},
   "outputs": [
    {
     "name": "stdout",
     "output_type": "stream",
     "text": [
      "5paisa-Capital-Limited [['2021-10-01', 36.21], ['2021-11-01', 35.68], ['2021-12-01', 38.08], ['2022-01-01', 30.91], ['2022-02-01', 31.74], ['2022-03-01', 29.3], ['2022-04-01', 37.48], ['2022-05-01', 37.72], ['2022-06-01', 39.97], ['2022-07-01', 39.48], ['2022-08-01', 44.48], ['2022-09-01', 44.28], ['2022-10-01', 37.7], ['2022-11-01', 38.84], ['2022-12-01', 43.03], ['2023-01-01', 42.64], ['2023-02-01', 42.19], ['2023-03-01', 42.01], ['2023-04-01', 43.95], ['2023-05-01', 44.67]]\n"
     ]
    }
   ],
   "source": [
    "stock_name = df['name'][1]\n",
    "ticker = df['ticker'][1]\n",
    "industry = df['industry'][1]\n",
    "esg = df['esg'][1]\n",
    "esg_industry = df['esg_industry'][1]\n",
    "\n",
    "print(stock_name, esg)"
   ]
  },
  {
   "cell_type": "code",
   "execution_count": 106,
   "metadata": {},
   "outputs": [],
   "source": [
    "#plot the esg and esg_industry data\n",
    "import matplotlib.pyplot as plt\n",
    "import numpy as np\n",
    "\n",
    "def plot_esg(esg: list, esg_industry: list, stock_name: str, ticker: str, industry: str):\n",
    "    esg = np.array(esg)\n",
    "    esg_industry = np.array(esg_industry)\n",
    "\n",
    "    xEsg = pd.to_datetime(esg[:, 0])\n",
    "    xEsgInd = pd.to_datetime(esg_industry[:, 0]) \n",
    "\n",
    "    yEsg = esg[:, 1].astype(float)\n",
    "    yEsgInd = esg_industry[:, 1].astype(float)\n",
    "    \n",
    "    plt.figure(figsize=(20, 10))\n",
    "    plt.plot(xEsg, yEsg, label='ESG Score')\n",
    "    plt.plot(xEsgInd, yEsgInd, label='ESG Industry Score')\n",
    "    plt.xlabel('Date')\n",
    "    plt.ylabel('ESG Score')\n",
    "    plt.title(f'ESG Score for {stock_name} ({ticker}) in {industry}')\n",
    "    plt.legend()\n",
    "    plt.show()"
   ]
  },
  {
   "cell_type": "code",
   "execution_count": 107,
   "metadata": {},
   "outputs": [
    {
     "data": {
      "image/png": "[encoded data removed]",
      "text/plain": [
       "<Figure size 2000x1000 with 1 Axes>"
      ]
     },
     "metadata": {},
     "output_type": "display_data"
    }
   ],
   "source": [
    "plot_esg(esg, esg_industry, stock_name, ticker, industry)"
   ]
  },
  {
   "cell_type": "code",
   "execution_count": 108,
   "metadata": {},
   "outputs": [],
   "source": [
    "# Calculate the growth rate of the ESG score\n",
    "\n",
    "def get_growth_rate(esg: list) -> float:\n",
    "    esg = np.array(esg)\n",
    "    xEsg = pd.to_datetime(esg[:, 0])\n",
    "    yEsg = esg[:, 1].astype(float)\n",
    "\n",
    "    if len(xEsg) < 2:\n",
    "        return 'NAN'\n",
    "    \n",
    "    return (yEsg[-1] - yEsg[0]) / (xEsg[-1] - xEsg[0]).days\n",
    "\n",
    "def df_growth_rate(df: pd.DataFrame, col = 'esg') -> float:\n",
    "    growth_rates = []\n",
    "    nan_gr_idx = []\n",
    "    for i in range(len(df)):\n",
    "        esg = df.at[i, col]\n",
    "        rate = get_growth_rate(esg)\n",
    "        if rate != 'NAN':\n",
    "            growth_rates.append(rate)\n",
    "        else:\n",
    "            growth_rates.append(0)\n",
    "            nan_gr_idx.append(i)\n",
    "    return growth_rates, nan_gr_idx\n"
   ]
  },
  {
   "cell_type": "code",
   "execution_count": 109,
   "metadata": {},
   "outputs": [
    {
     "data": {
      "text/html": [
       "<div>\n",
       "<style scoped>\n",
       "    .dataframe tbody tr th:only-of-type {\n",
       "        vertical-align: middle;\n",
       "    }\n",
       "\n",
       "    .dataframe tbody tr th {\n",
       "        vertical-align: top;\n",
       "    }\n",
       "\n",
       "    .dataframe thead th {\n",
       "        text-align: right;\n",
       "    }\n",
       "</style>\n",
       "<table border=\"1\" class=\"dataframe\">\n",
       "  <thead>\n",
       "    <tr style=\"text-align: right;\">\n",
       "      <th></th>\n",
       "      <th>esg</th>\n",
       "      <th>esg_industry</th>\n",
       "      <th>industry</th>\n",
       "      <th>name</th>\n",
       "      <th>ticker</th>\n",
       "      <th>growth_rate</th>\n",
       "      <th>industry_growth_rate</th>\n",
       "    </tr>\n",
       "  </thead>\n",
       "  <tbody>\n",
       "    <tr>\n",
       "      <th>0</th>\n",
       "      <td>[[2021-06-01, 14.44], [2021-07-01, 14.46], [20...</td>\n",
       "      <td>[[2021-06-01, 13.83], [2021-07-01, 12.9], [202...</td>\n",
       "      <td>Containers &amp; Packaging Manufacturing</td>\n",
       "      <td>3M-INDIA-LIMITED</td>\n",
       "      <td>3MINDIA</td>\n",
       "      <td>0.099041</td>\n",
       "      <td>0.086152</td>\n",
       "    </tr>\n",
       "    <tr>\n",
       "      <th>1</th>\n",
       "      <td>[[2021-10-01, 36.21], [2021-11-01, 35.68], [20...</td>\n",
       "      <td>[[2021-10-01, 19.94], [2021-11-01, 20.25], [20...</td>\n",
       "      <td>Brokerage &amp; Capital Markets</td>\n",
       "      <td>5paisa-Capital-Limited</td>\n",
       "      <td>5PAISA</td>\n",
       "      <td>0.014662</td>\n",
       "      <td>0.022669</td>\n",
       "    </tr>\n",
       "    <tr>\n",
       "      <th>2</th>\n",
       "      <td>[[2021-06-01, 16.98], [2021-07-01, 17.08], [20...</td>\n",
       "      <td>[[2021-06-01, 26.05], [2021-07-01, 26.42], [20...</td>\n",
       "      <td>Health Care &amp; Pharmaceuticals</td>\n",
       "      <td>Aarti-Drugs-Ltd</td>\n",
       "      <td>AARTIDRUGS</td>\n",
       "      <td>0.005351</td>\n",
       "      <td>0.000515</td>\n",
       "    </tr>\n",
       "    <tr>\n",
       "      <th>3</th>\n",
       "      <td>[[2021-06-01, 19.55], [2021-07-01, 19.69], [20...</td>\n",
       "      <td>[[2021-06-01, 28.24], [2021-07-01, 26.97], [20...</td>\n",
       "      <td>Chemicals, Plastics &amp; Rubber Products Mfg.</td>\n",
       "      <td>AARTI-INDUSTRIES-LTD</td>\n",
       "      <td>AARTIIND</td>\n",
       "      <td>0.087353</td>\n",
       "      <td>0.071860</td>\n",
       "    </tr>\n",
       "    <tr>\n",
       "      <th>4</th>\n",
       "      <td>[[2021-07-01, 52.96], [2021-08-01, 69.18], [20...</td>\n",
       "      <td>[[2021-07-01, 66.0], [2021-08-01, 73.21], [202...</td>\n",
       "      <td>Real Estate Financial Services</td>\n",
       "      <td>Aavas-Financiers-Ltd</td>\n",
       "      <td>AAVAS</td>\n",
       "      <td>0.041674</td>\n",
       "      <td>0.034469</td>\n",
       "    </tr>\n",
       "  </tbody>\n",
       "</table>\n",
       "</div>"
      ],
      "text/plain": [
       "                                                 esg  \\\n",
       "0  [[2021-06-01, 14.44], [2021-07-01, 14.46], [20...   \n",
       "1  [[2021-10-01, 36.21], [2021-11-01, 35.68], [20...   \n",
       "2  [[2021-06-01, 16.98], [2021-07-01, 17.08], [20...   \n",
       "3  [[2021-06-01, 19.55], [2021-07-01, 19.69], [20...   \n",
       "4  [[2021-07-01, 52.96], [2021-08-01, 69.18], [20...   \n",
       "\n",
       "                                        esg_industry  \\\n",
       "0  [[2021-06-01, 13.83], [2021-07-01, 12.9], [202...   \n",
       "1  [[2021-10-01, 19.94], [2021-11-01, 20.25], [20...   \n",
       "2  [[2021-06-01, 26.05], [2021-07-01, 26.42], [20...   \n",
       "3  [[2021-06-01, 28.24], [2021-07-01, 26.97], [20...   \n",
       "4  [[2021-07-01, 66.0], [2021-08-01, 73.21], [202...   \n",
       "\n",
       "                                     industry                    name  \\\n",
       "0        Containers & Packaging Manufacturing        3M-INDIA-LIMITED   \n",
       "1                 Brokerage & Capital Markets  5paisa-Capital-Limited   \n",
       "2               Health Care & Pharmaceuticals         Aarti-Drugs-Ltd   \n",
       "3  Chemicals, Plastics & Rubber Products Mfg.    AARTI-INDUSTRIES-LTD   \n",
       "4              Real Estate Financial Services    Aavas-Financiers-Ltd   \n",
       "\n",
       "       ticker  growth_rate  industry_growth_rate  \n",
       "0     3MINDIA     0.099041              0.086152  \n",
       "1      5PAISA     0.014662              0.022669  \n",
       "2  AARTIDRUGS     0.005351              0.000515  \n",
       "3    AARTIIND     0.087353              0.071860  \n",
       "4       AAVAS     0.041674              0.034469  "
      ]
     },
     "execution_count": 109,
     "metadata": {},
     "output_type": "execute_result"
    }
   ],
   "source": [
    "df['growth_rate'], nan_gr_idx = df_growth_rate(df)\n",
    "df['industry_growth_rate'], _ = df_growth_rate(df, col='esg_industry')\n",
    "df = df.drop(nan_gr_idx)\n",
    "df = df.reset_index(drop=True)\n",
    "df.head()"
   ]
  },
  {
   "cell_type": "code",
   "execution_count": 110,
   "metadata": {},
   "outputs": [
    {
     "data": {
      "text/plain": [
       "406"
      ]
     },
     "execution_count": 110,
     "metadata": {},
     "output_type": "execute_result"
    }
   ],
   "source": [
    "(df['growth_rate'] > df['industry_growth_rate']).sum()"
   ]
  },
  {
   "cell_type": "code",
   "execution_count": 111,
   "metadata": {},
   "outputs": [
    {
     "data": {
      "text/plain": [
       "count    741.000000\n",
       "mean       0.004622\n",
       "std        0.064367\n",
       "min       -0.486689\n",
       "25%       -0.017556\n",
       "50%        0.007027\n",
       "75%        0.034411\n",
       "max        0.498989\n",
       "Name: growth_rate, dtype: float64"
      ]
     },
     "execution_count": 111,
     "metadata": {},
     "output_type": "execute_result"
    }
   ],
   "source": [
    "df['growth_rate'].describe()"
   ]
  },
  {
   "cell_type": "code",
   "execution_count": 112,
   "metadata": {},
   "outputs": [
    {
     "data": {
      "text/plain": [
       "count    741.000000\n",
       "mean       0.003795\n",
       "std        0.063716\n",
       "min       -0.458609\n",
       "25%       -0.018548\n",
       "50%        0.007274\n",
       "75%        0.031803\n",
       "max        0.431685\n",
       "Name: industry_growth_rate, dtype: float64"
      ]
     },
     "execution_count": 112,
     "metadata": {},
     "output_type": "execute_result"
    }
   ],
   "source": [
    "df['industry_growth_rate'].describe()"
   ]
  },
  {
   "cell_type": "code",
   "execution_count": 113,
   "metadata": {},
   "outputs": [],
   "source": [
    "# Simple Mean of ESG Score\n",
    "def mean_esg(esg: list) -> float:\n",
    "    esg = np.array(esg)\n",
    "    yEsg = esg[:, 1].astype(float)\n",
    "    return yEsg.mean()\n",
    "\n",
    "def df_mean_esg(df: pd.DataFrame, col = 'esg', mean_func = mean_esg) -> float:\n",
    "    mean_esgs = []\n",
    "    for i in range(len(df)):\n",
    "        esg = df.at[i, col]\n",
    "        mean_esgs.append(mean_func(esg))\n",
    "    return mean_esgs"
   ]
  },
  {
   "cell_type": "code",
   "execution_count": 115,
   "metadata": {},
   "outputs": [
    {
     "data": {
      "text/html": [
       "<div>\n",
       "<style scoped>\n",
       "    .dataframe tbody tr th:only-of-type {\n",
       "        vertical-align: middle;\n",
       "    }\n",
       "\n",
       "    .dataframe tbody tr th {\n",
       "        vertical-align: top;\n",
       "    }\n",
       "\n",
       "    .dataframe thead th {\n",
       "        text-align: right;\n",
       "    }\n",
       "</style>\n",
       "<table border=\"1\" class=\"dataframe\">\n",
       "  <thead>\n",
       "    <tr style=\"text-align: right;\">\n",
       "      <th></th>\n",
       "      <th>esg</th>\n",
       "      <th>esg_industry</th>\n",
       "      <th>industry</th>\n",
       "      <th>name</th>\n",
       "      <th>ticker</th>\n",
       "      <th>growth_rate</th>\n",
       "      <th>industry_growth_rate</th>\n",
       "      <th>mean_esg</th>\n",
       "      <th>industry_mean_esg</th>\n",
       "    </tr>\n",
       "  </thead>\n",
       "  <tbody>\n",
       "    <tr>\n",
       "      <th>0</th>\n",
       "      <td>[[2021-06-01, 14.44], [2021-07-01, 14.46], [20...</td>\n",
       "      <td>[[2021-06-01, 13.83], [2021-07-01, 12.9], [202...</td>\n",
       "      <td>Containers &amp; Packaging Manufacturing</td>\n",
       "      <td>3M-INDIA-LIMITED</td>\n",
       "      <td>3MINDIA</td>\n",
       "      <td>0.099041</td>\n",
       "      <td>0.086152</td>\n",
       "      <td>56.030000</td>\n",
       "      <td>48.452917</td>\n",
       "    </tr>\n",
       "    <tr>\n",
       "      <th>1</th>\n",
       "      <td>[[2021-10-01, 36.21], [2021-11-01, 35.68], [20...</td>\n",
       "      <td>[[2021-10-01, 19.94], [2021-11-01, 20.25], [20...</td>\n",
       "      <td>Brokerage &amp; Capital Markets</td>\n",
       "      <td>5paisa-Capital-Limited</td>\n",
       "      <td>5PAISA</td>\n",
       "      <td>0.014662</td>\n",
       "      <td>0.022669</td>\n",
       "      <td>39.018000</td>\n",
       "      <td>25.387000</td>\n",
       "    </tr>\n",
       "    <tr>\n",
       "      <th>2</th>\n",
       "      <td>[[2021-06-01, 16.98], [2021-07-01, 17.08], [20...</td>\n",
       "      <td>[[2021-06-01, 26.05], [2021-07-01, 26.42], [20...</td>\n",
       "      <td>Health Care &amp; Pharmaceuticals</td>\n",
       "      <td>Aarti-Drugs-Ltd</td>\n",
       "      <td>AARTIDRUGS</td>\n",
       "      <td>0.005351</td>\n",
       "      <td>0.000515</td>\n",
       "      <td>21.845417</td>\n",
       "      <td>31.795833</td>\n",
       "    </tr>\n",
       "    <tr>\n",
       "      <th>3</th>\n",
       "      <td>[[2021-06-01, 19.55], [2021-07-01, 19.69], [20...</td>\n",
       "      <td>[[2021-06-01, 28.24], [2021-07-01, 26.97], [20...</td>\n",
       "      <td>Chemicals, Plastics &amp; Rubber Products Mfg.</td>\n",
       "      <td>AARTI-INDUSTRIES-LTD</td>\n",
       "      <td>AARTIIND</td>\n",
       "      <td>0.087353</td>\n",
       "      <td>0.071860</td>\n",
       "      <td>53.713333</td>\n",
       "      <td>55.423333</td>\n",
       "    </tr>\n",
       "    <tr>\n",
       "      <th>4</th>\n",
       "      <td>[[2021-07-01, 52.96], [2021-08-01, 69.18], [20...</td>\n",
       "      <td>[[2021-07-01, 66.0], [2021-08-01, 73.21], [202...</td>\n",
       "      <td>Real Estate Financial Services</td>\n",
       "      <td>Aavas-Financiers-Ltd</td>\n",
       "      <td>AAVAS</td>\n",
       "      <td>0.041674</td>\n",
       "      <td>0.034469</td>\n",
       "      <td>70.727826</td>\n",
       "      <td>76.606522</td>\n",
       "    </tr>\n",
       "  </tbody>\n",
       "</table>\n",
       "</div>"
      ],
      "text/plain": [
       "                                                 esg  \\\n",
       "0  [[2021-06-01, 14.44], [2021-07-01, 14.46], [20...   \n",
       "1  [[2021-10-01, 36.21], [2021-11-01, 35.68], [20...   \n",
       "2  [[2021-06-01, 16.98], [2021-07-01, 17.08], [20...   \n",
       "3  [[2021-06-01, 19.55], [2021-07-01, 19.69], [20...   \n",
       "4  [[2021-07-01, 52.96], [2021-08-01, 69.18], [20...   \n",
       "\n",
       "                                        esg_industry  \\\n",
       "0  [[2021-06-01, 13.83], [2021-07-01, 12.9], [202...   \n",
       "1  [[2021-10-01, 19.94], [2021-11-01, 20.25], [20...   \n",
       "2  [[2021-06-01, 26.05], [2021-07-01, 26.42], [20...   \n",
       "3  [[2021-06-01, 28.24], [2021-07-01, 26.97], [20...   \n",
       "4  [[2021-07-01, 66.0], [2021-08-01, 73.21], [202...   \n",
       "\n",
       "                                     industry                    name  \\\n",
       "0        Containers & Packaging Manufacturing        3M-INDIA-LIMITED   \n",
       "1                 Brokerage & Capital Markets  5paisa-Capital-Limited   \n",
       "2               Health Care & Pharmaceuticals         Aarti-Drugs-Ltd   \n",
       "3  Chemicals, Plastics & Rubber Products Mfg.    AARTI-INDUSTRIES-LTD   \n",
       "4              Real Estate Financial Services    Aavas-Financiers-Ltd   \n",
       "\n",
       "       ticker  growth_rate  industry_growth_rate   mean_esg  industry_mean_esg  \n",
       "0     3MINDIA     0.099041              0.086152  56.030000          48.452917  \n",
       "1      5PAISA     0.014662              0.022669  39.018000          25.387000  \n",
       "2  AARTIDRUGS     0.005351              0.000515  21.845417          31.795833  \n",
       "3    AARTIIND     0.087353              0.071860  53.713333          55.423333  \n",
       "4       AAVAS     0.041674              0.034469  70.727826          76.606522  "
      ]
     },
     "execution_count": 115,
     "metadata": {},
     "output_type": "execute_result"
    }
   ],
   "source": [
    "df['mean_esg'] = df_mean_esg(df)\n",
    "df['industry_mean_esg'] = df_mean_esg(df, col='esg_industry')\n",
    "df.head()\n"
   ]
  },
  {
   "cell_type": "code",
   "execution_count": 116,
   "metadata": {},
   "outputs": [
    {
     "data": {
      "text/plain": [
       "count    741.000000\n",
       "mean      53.499096\n",
       "std       25.027887\n",
       "min        0.220000\n",
       "25%       34.621250\n",
       "50%       55.452941\n",
       "75%       72.923750\n",
       "max       99.937500\n",
       "Name: mean_esg, dtype: float64"
      ]
     },
     "execution_count": 116,
     "metadata": {},
     "output_type": "execute_result"
    }
   ],
   "source": [
    "df['mean_esg'].describe()"
   ]
  },
  {
   "cell_type": "code",
   "execution_count": 117,
   "metadata": {},
   "outputs": [
    {
     "data": {
      "text/plain": [
       "count    741.000000\n",
       "mean      52.168476\n",
       "std       24.734309\n",
       "min        0.000000\n",
       "25%       33.990000\n",
       "50%       52.805417\n",
       "75%       71.542500\n",
       "max      100.000000\n",
       "Name: industry_mean_esg, dtype: float64"
      ]
     },
     "execution_count": 117,
     "metadata": {},
     "output_type": "execute_result"
    }
   ],
   "source": [
    "df['industry_mean_esg'].describe()"
   ]
  },
  {
   "cell_type": "code",
   "execution_count": 118,
   "metadata": {},
   "outputs": [
    {
     "data": {
      "text/plain": [
       "398"
      ]
     },
     "execution_count": 118,
     "metadata": {},
     "output_type": "execute_result"
    }
   ],
   "source": [
    "(df['mean_esg'] > df['industry_mean_esg']).sum()"
   ]
  }
 ],
 "metadata": {
  "kernelspec": {
   "display_name": ".venv",
   "language": "python",
   "name": "python3"
  },
  "language_info": {
   "codemirror_mode": {
    "name": "ipython",
    "version": 3
   },
   "file_extension": ".py",
   "mimetype": "text/x-python",
   "name": "python",
   "nbconvert_exporter": "python",
   "pygments_lexer": "ipython3",
   "version": "3.9.12"
  },
  "orig_nbformat": 4
 },
 "nbformat": 4,
 "nbformat_minor": 2
}
