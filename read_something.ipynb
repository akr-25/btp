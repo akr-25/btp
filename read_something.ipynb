{
 "cells": [
  {
   "cell_type": "code",
   "execution_count": 1,
   "metadata": {},
   "outputs": [],
   "source": [
    "import pandas as pd"
   ]
  },
  {
   "cell_type": "code",
   "execution_count": 2,
   "metadata": {},
   "outputs": [],
   "source": [
    "df = pd.read_json('esg_data/esg_data.json')"
   ]
  },
  {
   "cell_type": "code",
   "execution_count": 3,
   "metadata": {},
   "outputs": [
    {
     "data": {
      "text/html": [
       "<div>\n",
       "<style scoped>\n",
       "    .dataframe tbody tr th:only-of-type {\n",
       "        vertical-align: middle;\n",
       "    }\n",
       "\n",
       "    .dataframe tbody tr th {\n",
       "        vertical-align: top;\n",
       "    }\n",
       "\n",
       "    .dataframe thead th {\n",
       "        text-align: right;\n",
       "    }\n",
       "</style>\n",
       "<table border=\"1\" class=\"dataframe\">\n",
       "  <thead>\n",
       "    <tr style=\"text-align: right;\">\n",
       "      <th></th>\n",
       "      <th>esg</th>\n",
       "      <th>esg_industry</th>\n",
       "      <th>industry</th>\n",
       "      <th>name</th>\n",
       "      <th>ticker</th>\n",
       "    </tr>\n",
       "  </thead>\n",
       "  <tbody>\n",
       "    <tr>\n",
       "      <th>0</th>\n",
       "      <td>[]</td>\n",
       "      <td>[]</td>\n",
       "      <td>Mining (except Oil &amp; Gas)</td>\n",
       "      <td>20-Microns-Ltd</td>\n",
       "      <td>20MICRONS</td>\n",
       "    </tr>\n",
       "    <tr>\n",
       "      <th>1</th>\n",
       "      <td>[[1622505600000, 14.44], [1625097600000, 14.46...</td>\n",
       "      <td>[[1622505600000, 13.83], [1625097600000, 12.9]...</td>\n",
       "      <td>Containers &amp; Packaging Manufacturing</td>\n",
       "      <td>3M-INDIA-LIMITED</td>\n",
       "      <td>3MINDIA</td>\n",
       "    </tr>\n",
       "    <tr>\n",
       "      <th>2</th>\n",
       "      <td>[[1633046400000, 36.21], [1635724800000, 35.68...</td>\n",
       "      <td>[[1633046400000, 19.94], [1635724800000, 20.25...</td>\n",
       "      <td>Brokerage &amp; Capital Markets</td>\n",
       "      <td>5paisa-Capital-Limited</td>\n",
       "      <td>5PAISA</td>\n",
       "    </tr>\n",
       "    <tr>\n",
       "      <th>3</th>\n",
       "      <td>[]</td>\n",
       "      <td>[]</td>\n",
       "      <td>Brokerage &amp; Capital Markets</td>\n",
       "      <td>A-K-CAPITAL-SERVICES-LIMITED</td>\n",
       "      <td>530499</td>\n",
       "    </tr>\n",
       "    <tr>\n",
       "      <th>4</th>\n",
       "      <td>[]</td>\n",
       "      <td>[]</td>\n",
       "      <td>Architectural, Engineering, &amp; Related Services</td>\n",
       "      <td>A2Z-MAINTENANCE-and-ENGINEERING-SERVICES-LIMITED</td>\n",
       "      <td>A2ZINFRA</td>\n",
       "    </tr>\n",
       "  </tbody>\n",
       "</table>\n",
       "</div>"
      ],
      "text/plain": [
       "                                                 esg  \\\n",
       "0                                                 []   \n",
       "1  [[1622505600000, 14.44], [1625097600000, 14.46...   \n",
       "2  [[1633046400000, 36.21], [1635724800000, 35.68...   \n",
       "3                                                 []   \n",
       "4                                                 []   \n",
       "\n",
       "                                        esg_industry  \\\n",
       "0                                                 []   \n",
       "1  [[1622505600000, 13.83], [1625097600000, 12.9]...   \n",
       "2  [[1633046400000, 19.94], [1635724800000, 20.25...   \n",
       "3                                                 []   \n",
       "4                                                 []   \n",
       "\n",
       "                                         industry  \\\n",
       "0                       Mining (except Oil & Gas)   \n",
       "1            Containers & Packaging Manufacturing   \n",
       "2                     Brokerage & Capital Markets   \n",
       "3                     Brokerage & Capital Markets   \n",
       "4  Architectural, Engineering, & Related Services   \n",
       "\n",
       "                                               name     ticker  \n",
       "0                                    20-Microns-Ltd  20MICRONS  \n",
       "1                                  3M-INDIA-LIMITED    3MINDIA  \n",
       "2                            5paisa-Capital-Limited     5PAISA  \n",
       "3                      A-K-CAPITAL-SERVICES-LIMITED     530499  \n",
       "4  A2Z-MAINTENANCE-and-ENGINEERING-SERVICES-LIMITED   A2ZINFRA  "
      ]
     },
     "execution_count": 3,
     "metadata": {},
     "output_type": "execute_result"
    }
   ],
   "source": [
    "df.head()"
   ]
  },
  {
   "cell_type": "code",
   "execution_count": 4,
   "metadata": {},
   "outputs": [
    {
     "data": {
      "text/html": [
       "<div>\n",
       "<style scoped>\n",
       "    .dataframe tbody tr th:only-of-type {\n",
       "        vertical-align: middle;\n",
       "    }\n",
       "\n",
       "    .dataframe tbody tr th {\n",
       "        vertical-align: top;\n",
       "    }\n",
       "\n",
       "    .dataframe thead th {\n",
       "        text-align: right;\n",
       "    }\n",
       "</style>\n",
       "<table border=\"1\" class=\"dataframe\">\n",
       "  <thead>\n",
       "    <tr style=\"text-align: right;\">\n",
       "      <th></th>\n",
       "      <th>esg</th>\n",
       "      <th>esg_industry</th>\n",
       "      <th>industry</th>\n",
       "      <th>name</th>\n",
       "      <th>ticker</th>\n",
       "    </tr>\n",
       "  </thead>\n",
       "  <tbody>\n",
       "    <tr>\n",
       "      <th>1</th>\n",
       "      <td>[[1622505600000, 14.44], [1625097600000, 14.46...</td>\n",
       "      <td>[[1622505600000, 13.83], [1625097600000, 12.9]...</td>\n",
       "      <td>Containers &amp; Packaging Manufacturing</td>\n",
       "      <td>3M-INDIA-LIMITED</td>\n",
       "      <td>3MINDIA</td>\n",
       "    </tr>\n",
       "    <tr>\n",
       "      <th>2</th>\n",
       "      <td>[[1633046400000, 36.21], [1635724800000, 35.68...</td>\n",
       "      <td>[[1633046400000, 19.94], [1635724800000, 20.25...</td>\n",
       "      <td>Brokerage &amp; Capital Markets</td>\n",
       "      <td>5paisa-Capital-Limited</td>\n",
       "      <td>5PAISA</td>\n",
       "    </tr>\n",
       "    <tr>\n",
       "      <th>5</th>\n",
       "      <td>[[1622505600000, 16.98], [1625097600000, 17.08...</td>\n",
       "      <td>[[1622505600000, 26.05], [1625097600000, 26.42...</td>\n",
       "      <td>Health Care &amp; Pharmaceuticals</td>\n",
       "      <td>Aarti-Drugs-Ltd</td>\n",
       "      <td>AARTIDRUGS</td>\n",
       "    </tr>\n",
       "    <tr>\n",
       "      <th>6</th>\n",
       "      <td>[[1622505600000, 19.55], [1625097600000, 19.69...</td>\n",
       "      <td>[[1622505600000, 28.24], [1625097600000, 26.97...</td>\n",
       "      <td>Chemicals, Plastics &amp; Rubber Products Mfg.</td>\n",
       "      <td>AARTI-INDUSTRIES-LTD</td>\n",
       "      <td>AARTIIND</td>\n",
       "    </tr>\n",
       "    <tr>\n",
       "      <th>8</th>\n",
       "      <td>[[1625097600000, 52.96], [1627776000000, 69.18...</td>\n",
       "      <td>[[1625097600000, 66.0], [1627776000000, 73.21]...</td>\n",
       "      <td>Real Estate Financial Services</td>\n",
       "      <td>Aavas-Financiers-Ltd</td>\n",
       "      <td>AAVAS</td>\n",
       "    </tr>\n",
       "  </tbody>\n",
       "</table>\n",
       "</div>"
      ],
      "text/plain": [
       "                                                 esg  \\\n",
       "1  [[1622505600000, 14.44], [1625097600000, 14.46...   \n",
       "2  [[1633046400000, 36.21], [1635724800000, 35.68...   \n",
       "5  [[1622505600000, 16.98], [1625097600000, 17.08...   \n",
       "6  [[1622505600000, 19.55], [1625097600000, 19.69...   \n",
       "8  [[1625097600000, 52.96], [1627776000000, 69.18...   \n",
       "\n",
       "                                        esg_industry  \\\n",
       "1  [[1622505600000, 13.83], [1625097600000, 12.9]...   \n",
       "2  [[1633046400000, 19.94], [1635724800000, 20.25...   \n",
       "5  [[1622505600000, 26.05], [1625097600000, 26.42...   \n",
       "6  [[1622505600000, 28.24], [1625097600000, 26.97...   \n",
       "8  [[1625097600000, 66.0], [1627776000000, 73.21]...   \n",
       "\n",
       "                                     industry                    name  \\\n",
       "1        Containers & Packaging Manufacturing        3M-INDIA-LIMITED   \n",
       "2                 Brokerage & Capital Markets  5paisa-Capital-Limited   \n",
       "5               Health Care & Pharmaceuticals         Aarti-Drugs-Ltd   \n",
       "6  Chemicals, Plastics & Rubber Products Mfg.    AARTI-INDUSTRIES-LTD   \n",
       "8              Real Estate Financial Services    Aavas-Financiers-Ltd   \n",
       "\n",
       "       ticker  \n",
       "1     3MINDIA  \n",
       "2      5PAISA  \n",
       "5  AARTIDRUGS  \n",
       "6    AARTIIND  \n",
       "8       AAVAS  "
      ]
     },
     "execution_count": 4,
     "metadata": {},
     "output_type": "execute_result"
    }
   ],
   "source": [
    "# Drop the stocks that have no ESG data\n",
    "df = df[df['esg'].str.len() > 0]\n",
    "df.head()"
   ]
  },
  {
   "cell_type": "code",
   "execution_count": 59,
   "metadata": {},
   "outputs": [
    {
     "data": {
      "text/plain": [
       "(593, 9)"
      ]
     },
     "execution_count": 59,
     "metadata": {},
     "output_type": "execute_result"
    }
   ],
   "source": [
    "df.shape"
   ]
  },
  {
   "cell_type": "code",
   "execution_count": 60,
   "metadata": {},
   "outputs": [
    {
     "data": {
      "text/plain": [
       "True"
      ]
     },
     "execution_count": 60,
     "metadata": {},
     "output_type": "execute_result"
    }
   ],
   "source": [
    "# Check if all insdustries have esg data\n",
    "(df['esg_industry'].str.len() > 0).sum() == df.shape[0]"
   ]
  },
  {
   "cell_type": "code",
   "execution_count": 61,
   "metadata": {},
   "outputs": [
    {
     "name": "stdout",
     "output_type": "stream",
     "text": [
      "2137\n"
     ]
    }
   ],
   "source": [
    "with open('all_nse_stocks.txt', 'r') as f:\n",
    "    all_stocks = f.read().splitlines()\n",
    "\n",
    "print(len(all_stocks))\n"
   ]
  },
  {
   "cell_type": "code",
   "execution_count": 62,
   "metadata": {},
   "outputs": [],
   "source": [
    "# drop stocks that are not in the NSE list\n",
    "df = df[df['ticker'].isin(all_stocks)]"
   ]
  },
  {
   "cell_type": "code",
   "execution_count": 63,
   "metadata": {},
   "outputs": [],
   "source": [
    "# reindex the dataframe\n",
    "\n",
    "df = df.reset_index(drop=True)"
   ]
  },
  {
   "cell_type": "code",
   "execution_count": 64,
   "metadata": {},
   "outputs": [],
   "source": [
    "from datetime import datetime\n",
    "\n",
    "def get_date(date: int) -> str:\n",
    "    try:\n",
    "        date = datetime.fromtimestamp(date/1000)\n",
    "        return date.strftime(\"%Y-%m-%d\")\n",
    "    except TypeError:\n",
    "        return str(date)"
   ]
  },
  {
   "cell_type": "code",
   "execution_count": 65,
   "metadata": {},
   "outputs": [],
   "source": [
    "for i in range(len(df)):\n",
    "    esg = df.at[i, 'esg']\n",
    "    esg_industry = df.at[i, 'esg_industry']\n",
    "    \n",
    "    for j in range(len(esg_industry)):\n",
    "        esg_industry[j][0] = get_date(esg_industry[j][0])\n",
    "    \n",
    "    for j in range(len(esg)):\n",
    "        esg[j][0] = get_date(esg[j][0])\n",
    "    \n",
    "    df.at[i, 'esg'] = esg\n",
    "    df.at[i, 'esg_industry'] = esg_industry\n"
   ]
  },
  {
   "cell_type": "markdown",
   "metadata": {},
   "source": [
    "Analyzing the industry data"
   ]
  },
  {
   "cell_type": "code",
   "execution_count": 66,
   "metadata": {},
   "outputs": [
    {
     "data": {
      "text/html": [
       "<div>\n",
       "<style scoped>\n",
       "    .dataframe tbody tr th:only-of-type {\n",
       "        vertical-align: middle;\n",
       "    }\n",
       "\n",
       "    .dataframe tbody tr th {\n",
       "        vertical-align: top;\n",
       "    }\n",
       "\n",
       "    .dataframe thead th {\n",
       "        text-align: right;\n",
       "    }\n",
       "</style>\n",
       "<table border=\"1\" class=\"dataframe\">\n",
       "  <thead>\n",
       "    <tr style=\"text-align: right;\">\n",
       "      <th></th>\n",
       "      <th>esg</th>\n",
       "      <th>esg_industry</th>\n",
       "      <th>industry</th>\n",
       "      <th>name</th>\n",
       "      <th>ticker</th>\n",
       "      <th>growth_rate</th>\n",
       "      <th>industry_growth_rate</th>\n",
       "      <th>mean_esg</th>\n",
       "      <th>industry_mean_esg</th>\n",
       "    </tr>\n",
       "  </thead>\n",
       "  <tbody>\n",
       "    <tr>\n",
       "      <th>334</th>\n",
       "      <td>[[2021-06-01, 9.94], [2021-07-01, 10.01], [202...</td>\n",
       "      <td>[[2021-06-01, 11.76], [2021-07-01, 12.38], [20...</td>\n",
       "      <td>Paper Products</td>\n",
       "      <td>JK-PAPER-LIMITED</td>\n",
       "      <td>JKPAPER</td>\n",
       "      <td>0.080072</td>\n",
       "      <td>0.059971</td>\n",
       "      <td>28.167917</td>\n",
       "      <td>27.055</td>\n",
       "    </tr>\n",
       "  </tbody>\n",
       "</table>\n",
       "</div>"
      ],
      "text/plain": [
       "                                                   esg  \\\n",
       "334  [[2021-06-01, 9.94], [2021-07-01, 10.01], [202...   \n",
       "\n",
       "                                          esg_industry        industry  \\\n",
       "334  [[2021-06-01, 11.76], [2021-07-01, 12.38], [20...  Paper Products   \n",
       "\n",
       "                 name   ticker  growth_rate  industry_growth_rate   mean_esg  \\\n",
       "334  JK-PAPER-LIMITED  JKPAPER     0.080072              0.059971  28.167917   \n",
       "\n",
       "     industry_mean_esg  \n",
       "334             27.055  "
      ]
     },
     "execution_count": 66,
     "metadata": {},
     "output_type": "execute_result"
    }
   ],
   "source": [
    "df[df['industry'] == 'Paper Products']"
   ]
  },
  {
   "cell_type": "code",
   "execution_count": 67,
   "metadata": {},
   "outputs": [
    {
     "name": "stdout",
     "output_type": "stream",
     "text": [
      "industry\n",
      "Chemicals, Plastics & Rubber Products Mfg.              63\n",
      "Construction Materials                                  34\n",
      "Manufacturing                                           28\n",
      "Pharmaceutical & Medicine Manufacturing                 24\n",
      "Diversified Financial Services                          19\n",
      "                                                        ..\n",
      "Beer, Wine, & Distilled Alcoholic Bev. Wholesalers       1\n",
      "Conglomerates, Tobacco, Hotels, Motels & Restaurants     1\n",
      "Biotechnology, Health Care & Pharmaceuticals             1\n",
      "General Merchandise Stores                               1\n",
      "Accounting, Tax Prep., & Payroll Services                1\n",
      "Name: count, Length: 107, dtype: int64\n",
      "593\n"
     ]
    },
    {
     "data": {
      "text/plain": [
       "[<matplotlib.lines.Line2D at 0x29a53c03710>]"
      ]
     },
     "execution_count": 67,
     "metadata": {},
     "output_type": "execute_result"
    },
    {
     "data": {
      "image/png": "[encoded data removed]",
      "text/plain": [
       "<Figure size 640x480 with 1 Axes>"
      ]
     },
     "metadata": {},
     "output_type": "display_data"
    }
   ],
   "source": [
    "# number of companies in each industry\n",
    "print (df['industry'].value_counts())\n",
    "print (len(df))\n",
    "\n",
    "# plot the number of companies in each industry\n",
    "import matplotlib.pyplot as plt\n",
    "\n",
    "plt.plot(df['industry'].value_counts().values)\n",
    "plt.plot(df['industry'].value_counts().values, 'ro', markersize=1)"
   ]
  },
  {
   "cell_type": "code",
   "execution_count": 68,
   "metadata": {},
   "outputs": [
    {
     "data": {
      "text/html": [
       "<div>\n",
       "<style scoped>\n",
       "    .dataframe tbody tr th:only-of-type {\n",
       "        vertical-align: middle;\n",
       "    }\n",
       "\n",
       "    .dataframe tbody tr th {\n",
       "        vertical-align: top;\n",
       "    }\n",
       "\n",
       "    .dataframe thead th {\n",
       "        text-align: right;\n",
       "    }\n",
       "</style>\n",
       "<table border=\"1\" class=\"dataframe\">\n",
       "  <thead>\n",
       "    <tr style=\"text-align: right;\">\n",
       "      <th></th>\n",
       "      <th>c</th>\n",
       "      <th>h</th>\n",
       "      <th>l</th>\n",
       "      <th>o</th>\n",
       "      <th>s</th>\n",
       "      <th>t</th>\n",
       "      <th>v</th>\n",
       "    </tr>\n",
       "  </thead>\n",
       "  <tbody>\n",
       "    <tr>\n",
       "      <th>0</th>\n",
       "      <td>2757.50</td>\n",
       "      <td>2830.00</td>\n",
       "      <td>2725.05</td>\n",
       "      <td>2725.05</td>\n",
       "      <td>ok</td>\n",
       "      <td>1277942400</td>\n",
       "      <td>971</td>\n",
       "    </tr>\n",
       "    <tr>\n",
       "      <th>1</th>\n",
       "      <td>2763.60</td>\n",
       "      <td>2810.00</td>\n",
       "      <td>2760.00</td>\n",
       "      <td>2810.00</td>\n",
       "      <td>ok</td>\n",
       "      <td>1278028800</td>\n",
       "      <td>263</td>\n",
       "    </tr>\n",
       "    <tr>\n",
       "      <th>2</th>\n",
       "      <td>2816.05</td>\n",
       "      <td>2828.00</td>\n",
       "      <td>2770.00</td>\n",
       "      <td>2799.00</td>\n",
       "      <td>ok</td>\n",
       "      <td>1278288000</td>\n",
       "      <td>728</td>\n",
       "    </tr>\n",
       "    <tr>\n",
       "      <th>3</th>\n",
       "      <td>2776.25</td>\n",
       "      <td>2818.95</td>\n",
       "      <td>2750.00</td>\n",
       "      <td>2800.05</td>\n",
       "      <td>ok</td>\n",
       "      <td>1278374400</td>\n",
       "      <td>348</td>\n",
       "    </tr>\n",
       "    <tr>\n",
       "      <th>4</th>\n",
       "      <td>2779.30</td>\n",
       "      <td>2848.00</td>\n",
       "      <td>2762.70</td>\n",
       "      <td>2848.00</td>\n",
       "      <td>ok</td>\n",
       "      <td>1278460800</td>\n",
       "      <td>199</td>\n",
       "    </tr>\n",
       "  </tbody>\n",
       "</table>\n",
       "</div>"
      ],
      "text/plain": [
       "         c        h        l        o   s           t    v\n",
       "0  2757.50  2830.00  2725.05  2725.05  ok  1277942400  971\n",
       "1  2763.60  2810.00  2760.00  2810.00  ok  1278028800  263\n",
       "2  2816.05  2828.00  2770.00  2799.00  ok  1278288000  728\n",
       "3  2776.25  2818.95  2750.00  2800.05  ok  1278374400  348\n",
       "4  2779.30  2848.00  2762.70  2848.00  ok  1278460800  199"
      ]
     },
     "execution_count": 68,
     "metadata": {},
     "output_type": "execute_result"
    }
   ],
   "source": [
    "stockname = df['ticker'][0]\n",
    "stockData = pd.read_json(f'data/{stockname}.json')\n",
    "stockData.head()"
   ]
  },
  {
   "cell_type": "markdown",
   "metadata": {},
   "source": [
    "Analyzing one of the stocks"
   ]
  },
  {
   "cell_type": "code",
   "execution_count": 69,
   "metadata": {},
   "outputs": [
    {
     "name": "stdout",
     "output_type": "stream",
     "text": [
      "5paisa-Capital-Limited [['2021-10-01', 36.21], ['2021-11-01', 35.68], ['2021-12-01', 38.08], ['2022-01-01', 30.91], ['2022-02-01', 31.74], ['2022-03-01', 29.3], ['2022-04-01', 37.48], ['2022-05-01', 37.72], ['2022-06-01', 39.97], ['2022-07-01', 39.48], ['2022-08-01', 44.48], ['2022-09-01', 44.28], ['2022-10-01', 37.7], ['2022-11-01', 38.84], ['2022-12-01', 43.03], ['2023-01-01', 42.64], ['2023-02-01', 42.19], ['2023-03-01', 42.01], ['2023-04-01', 43.95], ['2023-05-01', 44.67]]\n"
     ]
    }
   ],
   "source": [
    "stock_name = df['name'][1]\n",
    "ticker = df['ticker'][1]\n",
    "industry = df['industry'][1]\n",
    "esg = df['esg'][1]\n",
    "esg_industry = df['esg_industry'][1]\n",
    "\n",
    "print(stock_name, esg)"
   ]
  },
  {
   "cell_type": "code",
   "execution_count": 70,
   "metadata": {},
   "outputs": [],
   "source": [
    "#plot the esg and esg_industry data\n",
    "import matplotlib.pyplot as plt\n",
    "import numpy as np\n",
    "\n",
    "def plot_esg(esg: list, esg_industry: list, stock_name: str, ticker: str, industry: str):\n",
    "    esg = np.array(esg)\n",
    "    esg_industry = np.array(esg_industry)\n",
    "\n",
    "    xEsg = pd.to_datetime(esg[:, 0])\n",
    "    xEsgInd = pd.to_datetime(esg_industry[:, 0]) \n",
    "\n",
    "    yEsg = esg[:, 1].astype(float)\n",
    "    yEsgInd = esg_industry[:, 1].astype(float)\n",
    "    \n",
    "    plt.figure(figsize=(20, 10))\n",
    "    plt.plot(xEsg, yEsg, label='ESG Score')\n",
    "    plt.plot(xEsgInd, yEsgInd, label='ESG Industry Score')\n",
    "    plt.xlabel('Date')\n",
    "    plt.ylabel('ESG Score')\n",
    "    plt.title(f'ESG Score for {stock_name} ({ticker}) in {industry}')\n",
    "    plt.legend()\n",
    "    plt.show()"
   ]
  },
  {
   "cell_type": "code",
   "execution_count": 71,
   "metadata": {},
   "outputs": [
    {
     "data": {
      "image/png": "[encoded data removed]",
      "text/plain": [
       "<Figure size 2000x1000 with 1 Axes>"
      ]
     },
     "metadata": {},
     "output_type": "display_data"
    }
   ],
   "source": [
    "plot_esg(esg, esg_industry, stock_name, ticker, industry)"
   ]
  },
  {
   "cell_type": "code",
   "execution_count": 72,
   "metadata": {},
   "outputs": [],
   "source": [
    "# Calculate the growth rate of the ESG score\n",
    "\n",
    "def get_growth_rate(esg: list) -> float:\n",
    "    esg = np.array(esg)\n",
    "    xEsg = pd.to_datetime(esg[:, 0])\n",
    "    yEsg = esg[:, 1].astype(float)\n",
    "\n",
    "    if len(xEsg) < 2:\n",
    "        return 'NAN'\n",
    "    \n",
    "    return (yEsg[-1] - yEsg[0]) / (xEsg[-1] - xEsg[0]).days\n",
    "\n",
    "def df_growth_rate(df: pd.DataFrame, col = 'esg') -> float:\n",
    "    growth_rates = []\n",
    "    nan_gr_idx = []\n",
    "    for i in range(len(df)):\n",
    "        esg = df.at[i, col]\n",
    "        rate = get_growth_rate(esg)\n",
    "        if rate != 'NAN':\n",
    "            growth_rates.append(rate)\n",
    "        else:\n",
    "            growth_rates.append(0)\n",
    "            nan_gr_idx.append(i)\n",
    "    return growth_rates, nan_gr_idx\n"
   ]
  },
  {
   "cell_type": "code",
   "execution_count": 73,
   "metadata": {},
   "outputs": [
    {
     "data": {
      "text/html": [
       "<div>\n",
       "<style scoped>\n",
       "    .dataframe tbody tr th:only-of-type {\n",
       "        vertical-align: middle;\n",
       "    }\n",
       "\n",
       "    .dataframe tbody tr th {\n",
       "        vertical-align: top;\n",
       "    }\n",
       "\n",
       "    .dataframe thead th {\n",
       "        text-align: right;\n",
       "    }\n",
       "</style>\n",
       "<table border=\"1\" class=\"dataframe\">\n",
       "  <thead>\n",
       "    <tr style=\"text-align: right;\">\n",
       "      <th></th>\n",
       "      <th>esg</th>\n",
       "      <th>esg_industry</th>\n",
       "      <th>industry</th>\n",
       "      <th>name</th>\n",
       "      <th>ticker</th>\n",
       "      <th>growth_rate</th>\n",
       "      <th>industry_growth_rate</th>\n",
       "      <th>mean_esg</th>\n",
       "      <th>industry_mean_esg</th>\n",
       "    </tr>\n",
       "  </thead>\n",
       "  <tbody>\n",
       "    <tr>\n",
       "      <th>0</th>\n",
       "      <td>[[2021-06-01, 14.44], [2021-07-01, 14.46], [20...</td>\n",
       "      <td>[[2021-06-01, 13.83], [2021-07-01, 12.9], [202...</td>\n",
       "      <td>Containers &amp; Packaging Manufacturing</td>\n",
       "      <td>3M-INDIA-LIMITED</td>\n",
       "      <td>3MINDIA</td>\n",
       "      <td>0.099041</td>\n",
       "      <td>0.086152</td>\n",
       "      <td>56.030000</td>\n",
       "      <td>48.452917</td>\n",
       "    </tr>\n",
       "    <tr>\n",
       "      <th>1</th>\n",
       "      <td>[[2021-10-01, 36.21], [2021-11-01, 35.68], [20...</td>\n",
       "      <td>[[2021-10-01, 19.94], [2021-11-01, 20.25], [20...</td>\n",
       "      <td>Brokerage &amp; Capital Markets</td>\n",
       "      <td>5paisa-Capital-Limited</td>\n",
       "      <td>5PAISA</td>\n",
       "      <td>0.014662</td>\n",
       "      <td>0.022669</td>\n",
       "      <td>39.018000</td>\n",
       "      <td>25.387000</td>\n",
       "    </tr>\n",
       "    <tr>\n",
       "      <th>2</th>\n",
       "      <td>[[2021-06-01, 16.98], [2021-07-01, 17.08], [20...</td>\n",
       "      <td>[[2021-06-01, 26.05], [2021-07-01, 26.42], [20...</td>\n",
       "      <td>Health Care &amp; Pharmaceuticals</td>\n",
       "      <td>Aarti-Drugs-Ltd</td>\n",
       "      <td>AARTIDRUGS</td>\n",
       "      <td>0.005351</td>\n",
       "      <td>0.000515</td>\n",
       "      <td>21.845417</td>\n",
       "      <td>31.795833</td>\n",
       "    </tr>\n",
       "    <tr>\n",
       "      <th>3</th>\n",
       "      <td>[[2021-06-01, 19.55], [2021-07-01, 19.69], [20...</td>\n",
       "      <td>[[2021-06-01, 28.24], [2021-07-01, 26.97], [20...</td>\n",
       "      <td>Chemicals, Plastics &amp; Rubber Products Mfg.</td>\n",
       "      <td>AARTI-INDUSTRIES-LTD</td>\n",
       "      <td>AARTIIND</td>\n",
       "      <td>0.087353</td>\n",
       "      <td>0.071860</td>\n",
       "      <td>53.713333</td>\n",
       "      <td>55.423333</td>\n",
       "    </tr>\n",
       "    <tr>\n",
       "      <th>4</th>\n",
       "      <td>[[2021-07-01, 52.96], [2021-08-01, 69.18], [20...</td>\n",
       "      <td>[[2021-07-01, 66.0], [2021-08-01, 73.21], [202...</td>\n",
       "      <td>Real Estate Financial Services</td>\n",
       "      <td>Aavas-Financiers-Ltd</td>\n",
       "      <td>AAVAS</td>\n",
       "      <td>0.041674</td>\n",
       "      <td>0.034469</td>\n",
       "      <td>70.727826</td>\n",
       "      <td>76.606522</td>\n",
       "    </tr>\n",
       "  </tbody>\n",
       "</table>\n",
       "</div>"
      ],
      "text/plain": [
       "                                                 esg  \\\n",
       "0  [[2021-06-01, 14.44], [2021-07-01, 14.46], [20...   \n",
       "1  [[2021-10-01, 36.21], [2021-11-01, 35.68], [20...   \n",
       "2  [[2021-06-01, 16.98], [2021-07-01, 17.08], [20...   \n",
       "3  [[2021-06-01, 19.55], [2021-07-01, 19.69], [20...   \n",
       "4  [[2021-07-01, 52.96], [2021-08-01, 69.18], [20...   \n",
       "\n",
       "                                        esg_industry  \\\n",
       "0  [[2021-06-01, 13.83], [2021-07-01, 12.9], [202...   \n",
       "1  [[2021-10-01, 19.94], [2021-11-01, 20.25], [20...   \n",
       "2  [[2021-06-01, 26.05], [2021-07-01, 26.42], [20...   \n",
       "3  [[2021-06-01, 28.24], [2021-07-01, 26.97], [20...   \n",
       "4  [[2021-07-01, 66.0], [2021-08-01, 73.21], [202...   \n",
       "\n",
       "                                     industry                    name  \\\n",
       "0        Containers & Packaging Manufacturing        3M-INDIA-LIMITED   \n",
       "1                 Brokerage & Capital Markets  5paisa-Capital-Limited   \n",
       "2               Health Care & Pharmaceuticals         Aarti-Drugs-Ltd   \n",
       "3  Chemicals, Plastics & Rubber Products Mfg.    AARTI-INDUSTRIES-LTD   \n",
       "4              Real Estate Financial Services    Aavas-Financiers-Ltd   \n",
       "\n",
       "       ticker  growth_rate  industry_growth_rate   mean_esg  industry_mean_esg  \n",
       "0     3MINDIA     0.099041              0.086152  56.030000          48.452917  \n",
       "1      5PAISA     0.014662              0.022669  39.018000          25.387000  \n",
       "2  AARTIDRUGS     0.005351              0.000515  21.845417          31.795833  \n",
       "3    AARTIIND     0.087353              0.071860  53.713333          55.423333  \n",
       "4       AAVAS     0.041674              0.034469  70.727826          76.606522  "
      ]
     },
     "execution_count": 73,
     "metadata": {},
     "output_type": "execute_result"
    }
   ],
   "source": [
    "df['growth_rate'], nan_gr_idx = df_growth_rate(df)\n",
    "df['industry_growth_rate'], _ = df_growth_rate(df, col='esg_industry')\n",
    "df = df.drop(nan_gr_idx)\n",
    "df = df.reset_index(drop=True)\n",
    "df.head()"
   ]
  },
  {
   "cell_type": "code",
   "execution_count": 74,
   "metadata": {},
   "outputs": [
    {
     "data": {
      "text/plain": [
       "333"
      ]
     },
     "execution_count": 74,
     "metadata": {},
     "output_type": "execute_result"
    }
   ],
   "source": [
    "(df['growth_rate'] > df['industry_growth_rate']).sum()"
   ]
  },
  {
   "cell_type": "code",
   "execution_count": 75,
   "metadata": {},
   "outputs": [
    {
     "data": {
      "text/plain": [
       "count    593.000000\n",
       "mean       0.008875\n",
       "std        0.057012\n",
       "min       -0.287689\n",
       "25%       -0.014333\n",
       "50%        0.009055\n",
       "75%        0.035658\n",
       "max        0.498989\n",
       "Name: growth_rate, dtype: float64"
      ]
     },
     "execution_count": 75,
     "metadata": {},
     "output_type": "execute_result"
    }
   ],
   "source": [
    "df['growth_rate'].describe()"
   ]
  },
  {
   "cell_type": "code",
   "execution_count": 76,
   "metadata": {},
   "outputs": [
    {
     "data": {
      "text/plain": [
       "count    593.000000\n",
       "mean       0.007413\n",
       "std        0.056472\n",
       "min       -0.272925\n",
       "25%       -0.014333\n",
       "50%        0.009611\n",
       "75%        0.032389\n",
       "max        0.431685\n",
       "Name: industry_growth_rate, dtype: float64"
      ]
     },
     "execution_count": 76,
     "metadata": {},
     "output_type": "execute_result"
    }
   ],
   "source": [
    "df['industry_growth_rate'].describe()"
   ]
  },
  {
   "cell_type": "code",
   "execution_count": 77,
   "metadata": {},
   "outputs": [],
   "source": [
    "# Simple Mean of ESG Score\n",
    "def mean_esg(esg: list) -> float:\n",
    "    esg = np.array(esg)\n",
    "    yEsg = esg[:, 1].astype(float)\n",
    "    return yEsg.mean()\n",
    "\n",
    "def df_mean_esg(df: pd.DataFrame, col = 'esg', mean_func = mean_esg) -> float:\n",
    "    mean_esgs = []\n",
    "    for i in range(len(df)):\n",
    "        esg = df.at[i, col]\n",
    "        mean_esgs.append(mean_func(esg))\n",
    "    return mean_esgs"
   ]
  },
  {
   "cell_type": "code",
   "execution_count": 78,
   "metadata": {},
   "outputs": [
    {
     "data": {
      "text/html": [
       "<div>\n",
       "<style scoped>\n",
       "    .dataframe tbody tr th:only-of-type {\n",
       "        vertical-align: middle;\n",
       "    }\n",
       "\n",
       "    .dataframe tbody tr th {\n",
       "        vertical-align: top;\n",
       "    }\n",
       "\n",
       "    .dataframe thead th {\n",
       "        text-align: right;\n",
       "    }\n",
       "</style>\n",
       "<table border=\"1\" class=\"dataframe\">\n",
       "  <thead>\n",
       "    <tr style=\"text-align: right;\">\n",
       "      <th></th>\n",
       "      <th>esg</th>\n",
       "      <th>esg_industry</th>\n",
       "      <th>industry</th>\n",
       "      <th>name</th>\n",
       "      <th>ticker</th>\n",
       "      <th>growth_rate</th>\n",
       "      <th>industry_growth_rate</th>\n",
       "      <th>mean_esg</th>\n",
       "      <th>industry_mean_esg</th>\n",
       "    </tr>\n",
       "  </thead>\n",
       "  <tbody>\n",
       "    <tr>\n",
       "      <th>0</th>\n",
       "      <td>[[2021-06-01, 14.44], [2021-07-01, 14.46], [20...</td>\n",
       "      <td>[[2021-06-01, 13.83], [2021-07-01, 12.9], [202...</td>\n",
       "      <td>Containers &amp; Packaging Manufacturing</td>\n",
       "      <td>3M-INDIA-LIMITED</td>\n",
       "      <td>3MINDIA</td>\n",
       "      <td>0.099041</td>\n",
       "      <td>0.086152</td>\n",
       "      <td>56.030000</td>\n",
       "      <td>48.452917</td>\n",
       "    </tr>\n",
       "    <tr>\n",
       "      <th>1</th>\n",
       "      <td>[[2021-10-01, 36.21], [2021-11-01, 35.68], [20...</td>\n",
       "      <td>[[2021-10-01, 19.94], [2021-11-01, 20.25], [20...</td>\n",
       "      <td>Brokerage &amp; Capital Markets</td>\n",
       "      <td>5paisa-Capital-Limited</td>\n",
       "      <td>5PAISA</td>\n",
       "      <td>0.014662</td>\n",
       "      <td>0.022669</td>\n",
       "      <td>39.018000</td>\n",
       "      <td>25.387000</td>\n",
       "    </tr>\n",
       "    <tr>\n",
       "      <th>2</th>\n",
       "      <td>[[2021-06-01, 16.98], [2021-07-01, 17.08], [20...</td>\n",
       "      <td>[[2021-06-01, 26.05], [2021-07-01, 26.42], [20...</td>\n",
       "      <td>Health Care &amp; Pharmaceuticals</td>\n",
       "      <td>Aarti-Drugs-Ltd</td>\n",
       "      <td>AARTIDRUGS</td>\n",
       "      <td>0.005351</td>\n",
       "      <td>0.000515</td>\n",
       "      <td>21.845417</td>\n",
       "      <td>31.795833</td>\n",
       "    </tr>\n",
       "    <tr>\n",
       "      <th>3</th>\n",
       "      <td>[[2021-06-01, 19.55], [2021-07-01, 19.69], [20...</td>\n",
       "      <td>[[2021-06-01, 28.24], [2021-07-01, 26.97], [20...</td>\n",
       "      <td>Chemicals, Plastics &amp; Rubber Products Mfg.</td>\n",
       "      <td>AARTI-INDUSTRIES-LTD</td>\n",
       "      <td>AARTIIND</td>\n",
       "      <td>0.087353</td>\n",
       "      <td>0.071860</td>\n",
       "      <td>53.713333</td>\n",
       "      <td>55.423333</td>\n",
       "    </tr>\n",
       "    <tr>\n",
       "      <th>4</th>\n",
       "      <td>[[2021-07-01, 52.96], [2021-08-01, 69.18], [20...</td>\n",
       "      <td>[[2021-07-01, 66.0], [2021-08-01, 73.21], [202...</td>\n",
       "      <td>Real Estate Financial Services</td>\n",
       "      <td>Aavas-Financiers-Ltd</td>\n",
       "      <td>AAVAS</td>\n",
       "      <td>0.041674</td>\n",
       "      <td>0.034469</td>\n",
       "      <td>70.727826</td>\n",
       "      <td>76.606522</td>\n",
       "    </tr>\n",
       "  </tbody>\n",
       "</table>\n",
       "</div>"
      ],
      "text/plain": [
       "                                                 esg  \\\n",
       "0  [[2021-06-01, 14.44], [2021-07-01, 14.46], [20...   \n",
       "1  [[2021-10-01, 36.21], [2021-11-01, 35.68], [20...   \n",
       "2  [[2021-06-01, 16.98], [2021-07-01, 17.08], [20...   \n",
       "3  [[2021-06-01, 19.55], [2021-07-01, 19.69], [20...   \n",
       "4  [[2021-07-01, 52.96], [2021-08-01, 69.18], [20...   \n",
       "\n",
       "                                        esg_industry  \\\n",
       "0  [[2021-06-01, 13.83], [2021-07-01, 12.9], [202...   \n",
       "1  [[2021-10-01, 19.94], [2021-11-01, 20.25], [20...   \n",
       "2  [[2021-06-01, 26.05], [2021-07-01, 26.42], [20...   \n",
       "3  [[2021-06-01, 28.24], [2021-07-01, 26.97], [20...   \n",
       "4  [[2021-07-01, 66.0], [2021-08-01, 73.21], [202...   \n",
       "\n",
       "                                     industry                    name  \\\n",
       "0        Containers & Packaging Manufacturing        3M-INDIA-LIMITED   \n",
       "1                 Brokerage & Capital Markets  5paisa-Capital-Limited   \n",
       "2               Health Care & Pharmaceuticals         Aarti-Drugs-Ltd   \n",
       "3  Chemicals, Plastics & Rubber Products Mfg.    AARTI-INDUSTRIES-LTD   \n",
       "4              Real Estate Financial Services    Aavas-Financiers-Ltd   \n",
       "\n",
       "       ticker  growth_rate  industry_growth_rate   mean_esg  industry_mean_esg  \n",
       "0     3MINDIA     0.099041              0.086152  56.030000          48.452917  \n",
       "1      5PAISA     0.014662              0.022669  39.018000          25.387000  \n",
       "2  AARTIDRUGS     0.005351              0.000515  21.845417          31.795833  \n",
       "3    AARTIIND     0.087353              0.071860  53.713333          55.423333  \n",
       "4       AAVAS     0.041674              0.034469  70.727826          76.606522  "
      ]
     },
     "execution_count": 78,
     "metadata": {},
     "output_type": "execute_result"
    }
   ],
   "source": [
    "df['mean_esg'] = df_mean_esg(df)\n",
    "df['industry_mean_esg'] = df_mean_esg(df, col='esg_industry')\n",
    "df.head()\n"
   ]
  },
  {
   "cell_type": "code",
   "execution_count": 79,
   "metadata": {},
   "outputs": [
    {
     "data": {
      "text/plain": [
       "count    593.000000\n",
       "mean      54.017175\n",
       "std       24.443250\n",
       "min        0.220000\n",
       "25%       34.911250\n",
       "50%       56.179333\n",
       "75%       73.402500\n",
       "max       99.885000\n",
       "Name: mean_esg, dtype: float64"
      ]
     },
     "execution_count": 79,
     "metadata": {},
     "output_type": "execute_result"
    }
   ],
   "source": [
    "df['mean_esg'].describe()"
   ]
  },
  {
   "cell_type": "code",
   "execution_count": 80,
   "metadata": {},
   "outputs": [
    {
     "data": {
      "text/plain": [
       "count    593.000000\n",
       "mean      52.695746\n",
       "std       24.125289\n",
       "min        0.000000\n",
       "25%       34.469600\n",
       "50%       54.125000\n",
       "75%       71.873750\n",
       "max      100.000000\n",
       "Name: industry_mean_esg, dtype: float64"
      ]
     },
     "execution_count": 80,
     "metadata": {},
     "output_type": "execute_result"
    }
   ],
   "source": [
    "df['industry_mean_esg'].describe()"
   ]
  },
  {
   "cell_type": "code",
   "execution_count": 81,
   "metadata": {},
   "outputs": [
    {
     "data": {
      "text/plain": [
       "317"
      ]
     },
     "execution_count": 81,
     "metadata": {},
     "output_type": "execute_result"
    }
   ],
   "source": [
    "(df['mean_esg'] > df['industry_mean_esg']).sum()"
   ]
  },
  {
   "cell_type": "code",
   "execution_count": 82,
   "metadata": {},
   "outputs": [
    {
     "data": {
      "text/plain": [
       "170"
      ]
     },
     "execution_count": 82,
     "metadata": {},
     "output_type": "execute_result"
    }
   ],
   "source": [
    "((df['mean_esg'] > df['industry_mean_esg']) * (df['growth_rate'] > df['industry_growth_rate'])).sum()"
   ]
  },
  {
   "cell_type": "code",
   "execution_count": 83,
   "metadata": {},
   "outputs": [
    {
     "data": {
      "text/plain": [
       "<Axes: ylabel='Frequency'>"
      ]
     },
     "execution_count": 83,
     "metadata": {},
     "output_type": "execute_result"
    },
    {
     "data": {
      "image/png": "[encoded data removed]",
      "text/plain": [
       "<Figure size 640x480 with 1 Axes>"
      ]
     },
     "metadata": {},
     "output_type": "display_data"
    }
   ],
   "source": [
    "df['mean_esg'].plot.hist()"
   ]
  },
  {
   "cell_type": "code",
   "execution_count": 84,
   "metadata": {},
   "outputs": [
    {
     "name": "stdout",
     "output_type": "stream",
     "text": [
      "57.65157724000381 17.227636075748947 20.54125 95.9148 (107,) 47.56495857843137 56.61226078431372 69.57835416666666\n"
     ]
    }
   ],
   "source": [
    "#unique industries\n",
    "industries = list(set(df['industry']))\n",
    "industries\n",
    "\n",
    "# Mean ESG Score for each industry\n",
    "mean_esg_industry = {}\n",
    "for industry in industries:\n",
    "    mean_esg_industry[industry] = df[df['industry'] == industry]['mean_esg'].mean()\n",
    "\n",
    "mean_esg_industry = np.array(list(mean_esg_industry.items()))\n",
    "mean_esg_industry_values = mean_esg_industry[:, 1].astype(float)\n",
    "print(mean_esg_industry_values.mean(), mean_esg_industry_values.std(), mean_esg_industry_values.min(), mean_esg_industry_values.max(), mean_esg_industry_values.shape, np.quantile(mean_esg_industry_values, 0.25), np.quantile(mean_esg_industry_values, 0.5) ,np.quantile(mean_esg_industry_values, 0.75))"
   ]
  },
  {
   "cell_type": "code",
   "execution_count": 85,
   "metadata": {},
   "outputs": [
    {
     "data": {
      "text/plain": [
       "['Banking, Commercial Banking, Diversified Financial Services',\n",
       " 'Medical & Diagnostic Laboratories',\n",
       " 'Trains, Trucks, Buses & Storage',\n",
       " 'Specialty Retail',\n",
       " 'Water, Sewage & Other Systems',\n",
       " 'Electrical Equipment Manufacturing',\n",
       " 'Heavy & Civil Engineering Construction, Electric & Gas Utilities',\n",
       " 'Air Freight, Couriers & Moving Companies',\n",
       " 'Petroleum Refineries',\n",
       " \"Lumber & Other Const. Mat'ls Wholesalers\",\n",
       " 'Mining (except Oil & Gas)',\n",
       " 'Insurance Carriers',\n",
       " 'Manufacturing',\n",
       " 'Energy Equipment & Services',\n",
       " 'Natural Gas Distribution',\n",
       " 'Diversified Financial Services, Banking',\n",
       " 'Motor Vehicle Manufacturing',\n",
       " 'Heavy & Civil Engineering Construction',\n",
       " 'Health Care & Pharmaceuticals',\n",
       " 'Pharmaceutical & Medicine Manufacturing',\n",
       " 'Luxury Goods & Cosmetics Manufacturing',\n",
       " 'Water Transportation',\n",
       " 'Conglomerates, Tobacco, Hotels, Motels & Restaurants',\n",
       " 'Real Estate Management & Development',\n",
       " 'Mining, Quarrying, & Oil & Gas Extraction',\n",
       " 'Diversified Financial Services, Brokerage & Capital Markets',\n",
       " 'Conglomerates, Manufacturing, Utilities',\n",
       " 'Agriculture & Mining',\n",
       " 'Banking',\n",
       " 'Retail',\n",
       " 'IT & Network Services',\n",
       " 'Conglomerates, Airport, Harbor Operations, & Logistics, Heavy & Civil Engineering Construction',\n",
       " 'Trust, Fiduciary, & Custody Activities',\n",
       " 'Textiles & Apparel',\n",
       " 'Architectural, Engineering, & Related Services',\n",
       " 'Motor Vehicle Parts Manufacturing',\n",
       " 'REITs',\n",
       " 'Trading Companies, Mining (except Oil & Gas)',\n",
       " 'Real Estate Financial Services',\n",
       " 'Advertising, Public Relations, & Related Services',\n",
       " 'Industrial Conglomerates',\n",
       " 'Utilities',\n",
       " 'Construction Materials',\n",
       " 'Thrifts & Mortgage Finance',\n",
       " 'Diversified Consumer Services',\n",
       " 'Commercial Banking',\n",
       " 'Diversified Financial Services',\n",
       " 'Biotechnology, Health Care & Pharmaceuticals',\n",
       " 'Electronic Equipment & Instrumentation',\n",
       " 'Electronic Shopping and Mail-Order Houses',\n",
       " 'Passenger Airlines',\n",
       " 'Electric & Gas Utilities, Heavy & Civil Engineering Construction',\n",
       " 'Containers & Packaging Manufacturing',\n",
       " 'Residential Building Construction',\n",
       " 'Paper Products',\n",
       " 'Biotechnology',\n",
       " 'Manufacturing, Electrical Equipment Manufacturing',\n",
       " 'Communications Equipment Manufacturing',\n",
       " 'Media & Entertainment',\n",
       " 'Healthcare Providers',\n",
       " 'Business Support Services',\n",
       " 'Electric & Gas Utilities, Energy Equipment & Services',\n",
       " 'Oil and Gas Extraction',\n",
       " 'Mechanical Component Manufacturing, Alternative Energy',\n",
       " 'Other Services',\n",
       " 'Heavy & Civil Engineering Construction, Electric & Gas Utilities, Construction Materials',\n",
       " 'Computers & Peripherals',\n",
       " 'Aerospace & Defense',\n",
       " 'Conglomerates, Heavy & Civil Engineering Construction',\n",
       " 'Wireless Telecommunications Carriers',\n",
       " 'Grocery and Related Product Wholesalers',\n",
       " 'Accounting, Tax Prep., & Payroll Services',\n",
       " 'Credit Card Processing',\n",
       " 'Beverage Manufacturing',\n",
       " 'Hotels, Motels & Restaurants',\n",
       " 'Chemicals, Plastics & Rubber Products Mfg., Construction Materials, Textiles & Apparel',\n",
       " 'Chemicals, Plastics & Rubber Products Mfg.',\n",
       " 'Cattle Ranching and Farming',\n",
       " 'Electric & Gas Utilities',\n",
       " 'Construction',\n",
       " 'Conglomerates',\n",
       " 'Telecommunications',\n",
       " 'Electric & Gas Utilities, Natural Gas Distribution',\n",
       " 'Wholesale Trade',\n",
       " 'Beer, Wine, & Distilled Alcoholic Bev. Wholesalers',\n",
       " 'Heavy & Civil Engineering Construction, Electronic Equipment & Instrumentation, Machinery Manufacturing',\n",
       " 'Food Products',\n",
       " 'Tobacco',\n",
       " 'Alternative Energy',\n",
       " 'Supermarket, Food & Beverage Stores',\n",
       " 'Consumer Lending',\n",
       " 'Property Leasing',\n",
       " 'Electronic Equipment & Instrumentation, Energy Equipment & Services',\n",
       " 'Motor Vehicle Manufacturing, Motor Vehicle Parts Manufacturing',\n",
       " 'Educational Services',\n",
       " 'Thrifts & Mortgage Finance, Diversified Financial Services, Property Leasing',\n",
       " 'Airport, Harbor Operations, & Logistics',\n",
       " 'Motor Vehicle Manufacturing, Agriculture, Construction, & Mining Mach. Mfg., Aerospace & Defense',\n",
       " 'Mechanical Component Manufacturing',\n",
       " 'Food Products, Personal Care Products, Beverage Manufacturing',\n",
       " 'Hospitals',\n",
       " 'Machinery Manufacturing',\n",
       " 'Software & Internet',\n",
       " 'Travel, Recreation & Leisure',\n",
       " 'Brokerage & Capital Markets',\n",
       " 'Banking, Diversified Financial Services',\n",
       " 'General Merchandise Stores']"
      ]
     },
     "execution_count": 85,
     "metadata": {},
     "output_type": "execute_result"
    }
   ],
   "source": [
    "industries"
   ]
  },
  {
   "cell_type": "code",
   "execution_count": 86,
   "metadata": {},
   "outputs": [
    {
     "data": {
      "text/html": [
       "<div>\n",
       "<style scoped>\n",
       "    .dataframe tbody tr th:only-of-type {\n",
       "        vertical-align: middle;\n",
       "    }\n",
       "\n",
       "    .dataframe tbody tr th {\n",
       "        vertical-align: top;\n",
       "    }\n",
       "\n",
       "    .dataframe thead th {\n",
       "        text-align: right;\n",
       "    }\n",
       "</style>\n",
       "<table border=\"1\" class=\"dataframe\">\n",
       "  <thead>\n",
       "    <tr style=\"text-align: right;\">\n",
       "      <th></th>\n",
       "      <th>esg</th>\n",
       "      <th>esg_industry</th>\n",
       "      <th>industry</th>\n",
       "      <th>name</th>\n",
       "      <th>ticker</th>\n",
       "      <th>growth_rate</th>\n",
       "      <th>industry_growth_rate</th>\n",
       "      <th>mean_esg</th>\n",
       "      <th>industry_mean_esg</th>\n",
       "    </tr>\n",
       "  </thead>\n",
       "  <tbody>\n",
       "    <tr>\n",
       "      <th>422</th>\n",
       "      <td>[[2023-04-01, 99.89], [2023-05-01, 99.88]]</td>\n",
       "      <td>[[2023-04-01, 100.0], [2023-05-01, 100.0]]</td>\n",
       "      <td>Health Care &amp; Pharmaceuticals</td>\n",
       "      <td>Neuland-Laboratories-Ltd</td>\n",
       "      <td>NEULANDLAB</td>\n",
       "      <td>-0.000333</td>\n",
       "      <td>0.000000</td>\n",
       "      <td>99.88500</td>\n",
       "      <td>100.0000</td>\n",
       "    </tr>\n",
       "    <tr>\n",
       "      <th>545</th>\n",
       "      <td>[[2022-10-01, 99.73], [2022-11-01, 99.73], [20...</td>\n",
       "      <td>[[2022-10-01, 99.74], [2022-11-01, 99.74], [20...</td>\n",
       "      <td>Chemicals, Plastics &amp; Rubber Products Mfg.</td>\n",
       "      <td>Styrenix-Performance-Materials-Ltd</td>\n",
       "      <td>STYRENIX</td>\n",
       "      <td>-0.000425</td>\n",
       "      <td>0.000094</td>\n",
       "      <td>99.65625</td>\n",
       "      <td>99.7975</td>\n",
       "    </tr>\n",
       "    <tr>\n",
       "      <th>258</th>\n",
       "      <td>[[2021-05-01, 99.43], [2021-06-01, 98.9], [202...</td>\n",
       "      <td>[[2021-05-01, 99.71], [2021-06-01, 99.77], [20...</td>\n",
       "      <td>Mining (except Oil &amp; Gas)</td>\n",
       "      <td>HINDUSTAN-ZINC-LTD</td>\n",
       "      <td>HINDZINC</td>\n",
       "      <td>0.000233</td>\n",
       "      <td>0.000397</td>\n",
       "      <td>99.29760</td>\n",
       "      <td>99.8084</td>\n",
       "    </tr>\n",
       "    <tr>\n",
       "      <th>12</th>\n",
       "      <td>[[2021-05-01, 97.15], [2021-06-01, 95.61], [20...</td>\n",
       "      <td>[[2021-05-01, 96.37], [2021-06-01, 95.96], [20...</td>\n",
       "      <td>Retail</td>\n",
       "      <td>Aditya-Birla-Fashion-and-Retail-Ltd</td>\n",
       "      <td>ABFRL</td>\n",
       "      <td>0.003164</td>\n",
       "      <td>0.004973</td>\n",
       "      <td>98.76040</td>\n",
       "      <td>98.9912</td>\n",
       "    </tr>\n",
       "    <tr>\n",
       "      <th>353</th>\n",
       "      <td>[[2023-01-01, 98.09], [2023-02-01, 98.32], [20...</td>\n",
       "      <td>[[2023-01-01, 98.22], [2023-02-01, 98.22], [20...</td>\n",
       "      <td>Machinery Manufacturing</td>\n",
       "      <td>Kirloskar-Brothers-Ltd</td>\n",
       "      <td>KIRLOSBROS</td>\n",
       "      <td>0.001500</td>\n",
       "      <td>0.003417</td>\n",
       "      <td>98.17400</td>\n",
       "      <td>98.3860</td>\n",
       "    </tr>\n",
       "  </tbody>\n",
       "</table>\n",
       "</div>"
      ],
      "text/plain": [
       "                                                   esg  \\\n",
       "422         [[2023-04-01, 99.89], [2023-05-01, 99.88]]   \n",
       "545  [[2022-10-01, 99.73], [2022-11-01, 99.73], [20...   \n",
       "258  [[2021-05-01, 99.43], [2021-06-01, 98.9], [202...   \n",
       "12   [[2021-05-01, 97.15], [2021-06-01, 95.61], [20...   \n",
       "353  [[2023-01-01, 98.09], [2023-02-01, 98.32], [20...   \n",
       "\n",
       "                                          esg_industry  \\\n",
       "422         [[2023-04-01, 100.0], [2023-05-01, 100.0]]   \n",
       "545  [[2022-10-01, 99.74], [2022-11-01, 99.74], [20...   \n",
       "258  [[2021-05-01, 99.71], [2021-06-01, 99.77], [20...   \n",
       "12   [[2021-05-01, 96.37], [2021-06-01, 95.96], [20...   \n",
       "353  [[2023-01-01, 98.22], [2023-02-01, 98.22], [20...   \n",
       "\n",
       "                                       industry  \\\n",
       "422               Health Care & Pharmaceuticals   \n",
       "545  Chemicals, Plastics & Rubber Products Mfg.   \n",
       "258                   Mining (except Oil & Gas)   \n",
       "12                                       Retail   \n",
       "353                     Machinery Manufacturing   \n",
       "\n",
       "                                    name      ticker  growth_rate  \\\n",
       "422             Neuland-Laboratories-Ltd  NEULANDLAB    -0.000333   \n",
       "545   Styrenix-Performance-Materials-Ltd    STYRENIX    -0.000425   \n",
       "258                   HINDUSTAN-ZINC-LTD    HINDZINC     0.000233   \n",
       "12   Aditya-Birla-Fashion-and-Retail-Ltd       ABFRL     0.003164   \n",
       "353               Kirloskar-Brothers-Ltd  KIRLOSBROS     0.001500   \n",
       "\n",
       "     industry_growth_rate  mean_esg  industry_mean_esg  \n",
       "422              0.000000  99.88500           100.0000  \n",
       "545              0.000094  99.65625            99.7975  \n",
       "258              0.000397  99.29760            99.8084  \n",
       "12               0.004973  98.76040            98.9912  \n",
       "353              0.003417  98.17400            98.3860  "
      ]
     },
     "execution_count": 86,
     "metadata": {},
     "output_type": "execute_result"
    }
   ],
   "source": [
    "\n",
    "# Pick top 400 stocks on the basis on mean_esg score\n",
    "top_stocks = df.sort_values(by=['mean_esg'], ascending=False).head(400)\n",
    "top_stocks.head()"
   ]
  },
  {
   "cell_type": "code",
   "execution_count": 87,
   "metadata": {},
   "outputs": [
    {
     "name": "stdout",
     "output_type": "stream",
     "text": [
      "(227, 9) industry\n",
      "Health Care & Pharmaceuticals                                          4\n",
      "Brokerage & Capital Markets                                            4\n",
      "Consumer Lending                                                       4\n",
      "Pharmaceutical & Medicine Manufacturing                                4\n",
      "Motor Vehicle Manufacturing                                            4\n",
      "                                                                      ..\n",
      "Electric & Gas Utilities, Energy Equipment & Services                  1\n",
      "Electronic Equipment & Instrumentation, Energy Equipment & Services    1\n",
      "Diversified Financial Services, Banking                                1\n",
      "Conglomerates, Heavy & Civil Engineering Construction                  1\n",
      "Accounting, Tax Prep., & Payroll Services                              1\n",
      "Name: count, Length: 97, dtype: int64\n"
     ]
    },
    {
     "data": {
      "text/html": [
       "<div>\n",
       "<style scoped>\n",
       "    .dataframe tbody tr th:only-of-type {\n",
       "        vertical-align: middle;\n",
       "    }\n",
       "\n",
       "    .dataframe tbody tr th {\n",
       "        vertical-align: top;\n",
       "    }\n",
       "\n",
       "    .dataframe thead th {\n",
       "        text-align: right;\n",
       "    }\n",
       "</style>\n",
       "<table border=\"1\" class=\"dataframe\">\n",
       "  <thead>\n",
       "    <tr style=\"text-align: right;\">\n",
       "      <th></th>\n",
       "      <th>esg</th>\n",
       "      <th>esg_industry</th>\n",
       "      <th>industry</th>\n",
       "      <th>name</th>\n",
       "      <th>ticker</th>\n",
       "      <th>growth_rate</th>\n",
       "      <th>industry_growth_rate</th>\n",
       "      <th>mean_esg</th>\n",
       "      <th>industry_mean_esg</th>\n",
       "    </tr>\n",
       "  </thead>\n",
       "  <tbody>\n",
       "    <tr>\n",
       "      <th>422</th>\n",
       "      <td>[[2023-04-01, 99.89], [2023-05-01, 99.88]]</td>\n",
       "      <td>[[2023-04-01, 100.0], [2023-05-01, 100.0]]</td>\n",
       "      <td>Health Care &amp; Pharmaceuticals</td>\n",
       "      <td>Neuland-Laboratories-Ltd</td>\n",
       "      <td>NEULANDLAB</td>\n",
       "      <td>-0.000333</td>\n",
       "      <td>0.000000</td>\n",
       "      <td>99.88500</td>\n",
       "      <td>100.0000</td>\n",
       "    </tr>\n",
       "    <tr>\n",
       "      <th>545</th>\n",
       "      <td>[[2022-10-01, 99.73], [2022-11-01, 99.73], [20...</td>\n",
       "      <td>[[2022-10-01, 99.74], [2022-11-01, 99.74], [20...</td>\n",
       "      <td>Chemicals, Plastics &amp; Rubber Products Mfg.</td>\n",
       "      <td>Styrenix-Performance-Materials-Ltd</td>\n",
       "      <td>STYRENIX</td>\n",
       "      <td>-0.000425</td>\n",
       "      <td>0.000094</td>\n",
       "      <td>99.65625</td>\n",
       "      <td>99.7975</td>\n",
       "    </tr>\n",
       "    <tr>\n",
       "      <th>258</th>\n",
       "      <td>[[2021-05-01, 99.43], [2021-06-01, 98.9], [202...</td>\n",
       "      <td>[[2021-05-01, 99.71], [2021-06-01, 99.77], [20...</td>\n",
       "      <td>Mining (except Oil &amp; Gas)</td>\n",
       "      <td>HINDUSTAN-ZINC-LTD</td>\n",
       "      <td>HINDZINC</td>\n",
       "      <td>0.000233</td>\n",
       "      <td>0.000397</td>\n",
       "      <td>99.29760</td>\n",
       "      <td>99.8084</td>\n",
       "    </tr>\n",
       "    <tr>\n",
       "      <th>12</th>\n",
       "      <td>[[2021-05-01, 97.15], [2021-06-01, 95.61], [20...</td>\n",
       "      <td>[[2021-05-01, 96.37], [2021-06-01, 95.96], [20...</td>\n",
       "      <td>Retail</td>\n",
       "      <td>Aditya-Birla-Fashion-and-Retail-Ltd</td>\n",
       "      <td>ABFRL</td>\n",
       "      <td>0.003164</td>\n",
       "      <td>0.004973</td>\n",
       "      <td>98.76040</td>\n",
       "      <td>98.9912</td>\n",
       "    </tr>\n",
       "    <tr>\n",
       "      <th>353</th>\n",
       "      <td>[[2023-01-01, 98.09], [2023-02-01, 98.32], [20...</td>\n",
       "      <td>[[2023-01-01, 98.22], [2023-02-01, 98.22], [20...</td>\n",
       "      <td>Machinery Manufacturing</td>\n",
       "      <td>Kirloskar-Brothers-Ltd</td>\n",
       "      <td>KIRLOSBROS</td>\n",
       "      <td>0.001500</td>\n",
       "      <td>0.003417</td>\n",
       "      <td>98.17400</td>\n",
       "      <td>98.3860</td>\n",
       "    </tr>\n",
       "  </tbody>\n",
       "</table>\n",
       "</div>"
      ],
      "text/plain": [
       "                                                   esg  \\\n",
       "422         [[2023-04-01, 99.89], [2023-05-01, 99.88]]   \n",
       "545  [[2022-10-01, 99.73], [2022-11-01, 99.73], [20...   \n",
       "258  [[2021-05-01, 99.43], [2021-06-01, 98.9], [202...   \n",
       "12   [[2021-05-01, 97.15], [2021-06-01, 95.61], [20...   \n",
       "353  [[2023-01-01, 98.09], [2023-02-01, 98.32], [20...   \n",
       "\n",
       "                                          esg_industry  \\\n",
       "422         [[2023-04-01, 100.0], [2023-05-01, 100.0]]   \n",
       "545  [[2022-10-01, 99.74], [2022-11-01, 99.74], [20...   \n",
       "258  [[2021-05-01, 99.71], [2021-06-01, 99.77], [20...   \n",
       "12   [[2021-05-01, 96.37], [2021-06-01, 95.96], [20...   \n",
       "353  [[2023-01-01, 98.22], [2023-02-01, 98.22], [20...   \n",
       "\n",
       "                                       industry  \\\n",
       "422               Health Care & Pharmaceuticals   \n",
       "545  Chemicals, Plastics & Rubber Products Mfg.   \n",
       "258                   Mining (except Oil & Gas)   \n",
       "12                                       Retail   \n",
       "353                     Machinery Manufacturing   \n",
       "\n",
       "                                    name      ticker  growth_rate  \\\n",
       "422             Neuland-Laboratories-Ltd  NEULANDLAB    -0.000333   \n",
       "545   Styrenix-Performance-Materials-Ltd    STYRENIX    -0.000425   \n",
       "258                   HINDUSTAN-ZINC-LTD    HINDZINC     0.000233   \n",
       "12   Aditya-Birla-Fashion-and-Retail-Ltd       ABFRL     0.003164   \n",
       "353               Kirloskar-Brothers-Ltd  KIRLOSBROS     0.001500   \n",
       "\n",
       "     industry_growth_rate  mean_esg  industry_mean_esg  \n",
       "422              0.000000  99.88500           100.0000  \n",
       "545              0.000094  99.65625            99.7975  \n",
       "258              0.000397  99.29760            99.8084  \n",
       "12               0.004973  98.76040            98.9912  \n",
       "353              0.003417  98.17400            98.3860  "
      ]
     },
     "execution_count": 87,
     "metadata": {},
     "output_type": "execute_result"
    }
   ],
   "source": [
    "# For each industry, pick the top 4 stocks on the basis of mean_esg score\n",
    "top_stocks_industry = {}\n",
    "for industry in industries:\n",
    "    top_stocks_industry[industry] = df[df['industry'] == industry].sort_values(by=['mean_esg'], ascending=False).head(4)\n",
    "\n",
    "# Store the intersection of top_stocks and top_stocks_industry\n",
    "top_stocks_industry = pd.concat(top_stocks_industry.values())\n",
    "merged = top_stocks[top_stocks['ticker'].isin(top_stocks_industry['ticker'])]\n",
    "print(merged.shape, merged['industry'].value_counts())\n",
    "merged.head()"
   ]
  },
  {
   "cell_type": "code",
   "execution_count": 88,
   "metadata": {},
   "outputs": [
    {
     "data": {
      "text/html": [
       "<div>\n",
       "<style scoped>\n",
       "    .dataframe tbody tr th:only-of-type {\n",
       "        vertical-align: middle;\n",
       "    }\n",
       "\n",
       "    .dataframe tbody tr th {\n",
       "        vertical-align: top;\n",
       "    }\n",
       "\n",
       "    .dataframe thead th {\n",
       "        text-align: right;\n",
       "    }\n",
       "</style>\n",
       "<table border=\"1\" class=\"dataframe\">\n",
       "  <thead>\n",
       "    <tr style=\"text-align: right;\">\n",
       "      <th></th>\n",
       "      <th>esg</th>\n",
       "      <th>esg_industry</th>\n",
       "      <th>industry</th>\n",
       "      <th>name</th>\n",
       "      <th>ticker</th>\n",
       "      <th>growth_rate</th>\n",
       "      <th>industry_growth_rate</th>\n",
       "      <th>mean_esg</th>\n",
       "      <th>industry_mean_esg</th>\n",
       "    </tr>\n",
       "  </thead>\n",
       "  <tbody>\n",
       "    <tr>\n",
       "      <th>0</th>\n",
       "      <td>[[2023-04-01, 99.89], [2023-05-01, 99.88]]</td>\n",
       "      <td>[[2023-04-01, 100.0], [2023-05-01, 100.0]]</td>\n",
       "      <td>Health Care &amp; Pharmaceuticals</td>\n",
       "      <td>Neuland-Laboratories-Ltd</td>\n",
       "      <td>NEULANDLAB</td>\n",
       "      <td>-0.000333</td>\n",
       "      <td>0.000000</td>\n",
       "      <td>99.88500</td>\n",
       "      <td>100.0000</td>\n",
       "    </tr>\n",
       "    <tr>\n",
       "      <th>1</th>\n",
       "      <td>[[2022-10-01, 99.73], [2022-11-01, 99.73], [20...</td>\n",
       "      <td>[[2022-10-01, 99.74], [2022-11-01, 99.74], [20...</td>\n",
       "      <td>Chemicals, Plastics &amp; Rubber Products Mfg.</td>\n",
       "      <td>Styrenix-Performance-Materials-Ltd</td>\n",
       "      <td>STYRENIX</td>\n",
       "      <td>-0.000425</td>\n",
       "      <td>0.000094</td>\n",
       "      <td>99.65625</td>\n",
       "      <td>99.7975</td>\n",
       "    </tr>\n",
       "    <tr>\n",
       "      <th>2</th>\n",
       "      <td>[[2021-05-01, 99.43], [2021-06-01, 98.9], [202...</td>\n",
       "      <td>[[2021-05-01, 99.71], [2021-06-01, 99.77], [20...</td>\n",
       "      <td>Mining (except Oil &amp; Gas)</td>\n",
       "      <td>HINDUSTAN-ZINC-LTD</td>\n",
       "      <td>HINDZINC</td>\n",
       "      <td>0.000233</td>\n",
       "      <td>0.000397</td>\n",
       "      <td>99.29760</td>\n",
       "      <td>99.8084</td>\n",
       "    </tr>\n",
       "    <tr>\n",
       "      <th>3</th>\n",
       "      <td>[[2021-05-01, 97.15], [2021-06-01, 95.61], [20...</td>\n",
       "      <td>[[2021-05-01, 96.37], [2021-06-01, 95.96], [20...</td>\n",
       "      <td>Retail</td>\n",
       "      <td>Aditya-Birla-Fashion-and-Retail-Ltd</td>\n",
       "      <td>ABFRL</td>\n",
       "      <td>0.003164</td>\n",
       "      <td>0.004973</td>\n",
       "      <td>98.76040</td>\n",
       "      <td>98.9912</td>\n",
       "    </tr>\n",
       "    <tr>\n",
       "      <th>4</th>\n",
       "      <td>[[2023-01-01, 98.09], [2023-02-01, 98.32], [20...</td>\n",
       "      <td>[[2023-01-01, 98.22], [2023-02-01, 98.22], [20...</td>\n",
       "      <td>Machinery Manufacturing</td>\n",
       "      <td>Kirloskar-Brothers-Ltd</td>\n",
       "      <td>KIRLOSBROS</td>\n",
       "      <td>0.001500</td>\n",
       "      <td>0.003417</td>\n",
       "      <td>98.17400</td>\n",
       "      <td>98.3860</td>\n",
       "    </tr>\n",
       "  </tbody>\n",
       "</table>\n",
       "</div>"
      ],
      "text/plain": [
       "                                                 esg  \\\n",
       "0         [[2023-04-01, 99.89], [2023-05-01, 99.88]]   \n",
       "1  [[2022-10-01, 99.73], [2022-11-01, 99.73], [20...   \n",
       "2  [[2021-05-01, 99.43], [2021-06-01, 98.9], [202...   \n",
       "3  [[2021-05-01, 97.15], [2021-06-01, 95.61], [20...   \n",
       "4  [[2023-01-01, 98.09], [2023-02-01, 98.32], [20...   \n",
       "\n",
       "                                        esg_industry  \\\n",
       "0         [[2023-04-01, 100.0], [2023-05-01, 100.0]]   \n",
       "1  [[2022-10-01, 99.74], [2022-11-01, 99.74], [20...   \n",
       "2  [[2021-05-01, 99.71], [2021-06-01, 99.77], [20...   \n",
       "3  [[2021-05-01, 96.37], [2021-06-01, 95.96], [20...   \n",
       "4  [[2023-01-01, 98.22], [2023-02-01, 98.22], [20...   \n",
       "\n",
       "                                     industry  \\\n",
       "0               Health Care & Pharmaceuticals   \n",
       "1  Chemicals, Plastics & Rubber Products Mfg.   \n",
       "2                   Mining (except Oil & Gas)   \n",
       "3                                      Retail   \n",
       "4                     Machinery Manufacturing   \n",
       "\n",
       "                                  name      ticker  growth_rate  \\\n",
       "0             Neuland-Laboratories-Ltd  NEULANDLAB    -0.000333   \n",
       "1   Styrenix-Performance-Materials-Ltd    STYRENIX    -0.000425   \n",
       "2                   HINDUSTAN-ZINC-LTD    HINDZINC     0.000233   \n",
       "3  Aditya-Birla-Fashion-and-Retail-Ltd       ABFRL     0.003164   \n",
       "4               Kirloskar-Brothers-Ltd  KIRLOSBROS     0.001500   \n",
       "\n",
       "   industry_growth_rate  mean_esg  industry_mean_esg  \n",
       "0              0.000000  99.88500           100.0000  \n",
       "1              0.000094  99.65625            99.7975  \n",
       "2              0.000397  99.29760            99.8084  \n",
       "3              0.004973  98.76040            98.9912  \n",
       "4              0.003417  98.17400            98.3860  "
      ]
     },
     "execution_count": 88,
     "metadata": {},
     "output_type": "execute_result"
    }
   ],
   "source": [
    "merged = merged.reset_index(drop=True)\n",
    "merged.head()"
   ]
  },
  {
   "cell_type": "code",
   "execution_count": 89,
   "metadata": {},
   "outputs": [
    {
     "data": {
      "text/plain": [
       "(227, 9)"
      ]
     },
     "execution_count": 89,
     "metadata": {},
     "output_type": "execute_result"
    }
   ],
   "source": [
    "merged.shape"
   ]
  },
  {
   "cell_type": "code",
   "execution_count": 109,
   "metadata": {},
   "outputs": [],
   "source": [
    "industryAndEsgAndStocks = {}\n",
    "\n",
    "for industry in merged['industry'].unique():\n",
    "    industryAndEsgAndStocks[industry] = {}\n",
    "    industryAndEsgAndStocks[industry]['mean_esg'] = merged[merged['industry'] == industry]['mean_esg'].mean()\n",
    "    industryAndEsgAndStocks[industry]['stocks'] = merged[merged['industry'] == industry]['ticker'].values\n",
    "    industryAndEsgAndStocks[industry]['esg'] = merged[merged['industry'] == industry]['mean_esg'].values\n",
    "    if len(industryAndEsgAndStocks[industry]['stocks']) is not len(industryAndEsgAndStocks[industry]['esg']):\n",
    "        print('Error' + industry)\n",
    "\n",
    "# sort the industries on the basis of mean_esg\n",
    "industryAndEsgAndStocks = dict(sorted(industryAndEsgAndStocks.items(), key=lambda item: item[1]['mean_esg'], reverse=True))\n",
    "# print nicely to a file\n",
    "with open('industryAndEsgAndStocks.md', 'w') as f:\n",
    "    f.write(\"# Industries and Stock ESG ratings\\n\\n\")\n",
    "    for industry in industryAndEsgAndStocks:\n",
    "        f.write(f'## {industry} \\n### {industryAndEsgAndStocks[industry][\"mean_esg\"]}\\n')\n",
    "        for i in range(len(industryAndEsgAndStocks[industry]['stocks'])):\n",
    "            if len(industryAndEsgAndStocks[industry]['stocks']) == len(industryAndEsgAndStocks[industry]['esg']):\n",
    "              f.write(f\"- {industryAndEsgAndStocks[industry]['stocks'][i]} {industryAndEsgAndStocks[industry]['esg'][i]}\\n\")\n",
    "            else:\n",
    "              f.write(f\"- {industryAndEsgAndStocks[industry]['stocks'][i]}\\n\")\n",
    "        f.write('\\n')\n"
   ]
  },
  {
   "cell_type": "code",
   "execution_count": 95,
   "metadata": {},
   "outputs": [
    {
     "name": "stderr",
     "output_type": "stream",
     "text": [
      "c:\\Users\\aman2\\Documents\\BTProject\\btp\\env\\Lib\\site-packages\\openpyxl\\worksheet\\_reader.py:329: UserWarning: Unknown extension is not supported and will be removed\n",
      "  warn(msg)\n",
      "c:\\Users\\aman2\\Documents\\BTProject\\btp\\env\\Lib\\site-packages\\openpyxl\\worksheet\\_reader.py:329: UserWarning: Conditional Formatting extension is not supported and will be removed\n",
      "  warn(msg)\n"
     ]
    },
    {
     "data": {
      "text/html": [
       "<div>\n",
       "<style scoped>\n",
       "    .dataframe tbody tr th:only-of-type {\n",
       "        vertical-align: middle;\n",
       "    }\n",
       "\n",
       "    .dataframe tbody tr th {\n",
       "        vertical-align: top;\n",
       "    }\n",
       "\n",
       "    .dataframe thead th {\n",
       "        text-align: right;\n",
       "    }\n",
       "</style>\n",
       "<table border=\"1\" class=\"dataframe\">\n",
       "  <thead>\n",
       "    <tr style=\"text-align: right;\">\n",
       "      <th></th>\n",
       "      <th>Symbol</th>\n",
       "      <th>Company Name</th>\n",
       "      <th>Market capitalization as on March 31, 2023\\n(Rs in Lakhs)</th>\n",
       "      <th>Unnamed: 4</th>\n",
       "    </tr>\n",
       "    <tr>\n",
       "      <th>Sr. No.</th>\n",
       "      <th></th>\n",
       "      <th></th>\n",
       "      <th></th>\n",
       "      <th></th>\n",
       "    </tr>\n",
       "  </thead>\n",
       "  <tbody>\n",
       "    <tr>\n",
       "      <th>1</th>\n",
       "      <td>RELIANCE</td>\n",
       "      <td>Reliance Industries Limited</td>\n",
       "      <td>157706937.768198</td>\n",
       "      <td>LARGECAP</td>\n",
       "    </tr>\n",
       "    <tr>\n",
       "      <th>2</th>\n",
       "      <td>TCS</td>\n",
       "      <td>Tata Consultancy Services Limited</td>\n",
       "      <td>117305527.967007</td>\n",
       "      <td>LARGECAP</td>\n",
       "    </tr>\n",
       "    <tr>\n",
       "      <th>3</th>\n",
       "      <td>HDFCBANK</td>\n",
       "      <td>HDFC Bank Limited</td>\n",
       "      <td>89808750.012063</td>\n",
       "      <td>LARGECAP</td>\n",
       "    </tr>\n",
       "    <tr>\n",
       "      <th>4</th>\n",
       "      <td>ICICIBANK</td>\n",
       "      <td>ICICI Bank Limited</td>\n",
       "      <td>61248250.447697</td>\n",
       "      <td>LARGECAP</td>\n",
       "    </tr>\n",
       "    <tr>\n",
       "      <th>5</th>\n",
       "      <td>HINDUNILVR</td>\n",
       "      <td>Hindustan Unilever Limited</td>\n",
       "      <td>60157759.876617</td>\n",
       "      <td>LARGECAP</td>\n",
       "    </tr>\n",
       "  </tbody>\n",
       "</table>\n",
       "</div>"
      ],
      "text/plain": [
       "             Symbol                       Company Name  \\\n",
       "Sr. No.                                                  \n",
       "1          RELIANCE        Reliance Industries Limited   \n",
       "2               TCS  Tata Consultancy Services Limited   \n",
       "3          HDFCBANK                  HDFC Bank Limited   \n",
       "4         ICICIBANK                 ICICI Bank Limited   \n",
       "5        HINDUNILVR         Hindustan Unilever Limited   \n",
       "\n",
       "        Market capitalization as on March 31, 2023\\n(Rs in Lakhs) Unnamed: 4  \n",
       "Sr. No.                                                                       \n",
       "1                                         157706937.768198          LARGECAP  \n",
       "2                                         117305527.967007          LARGECAP  \n",
       "3                                          89808750.012063          LARGECAP  \n",
       "4                                          61248250.447697          LARGECAP  \n",
       "5                                          60157759.876617          LARGECAP  "
      ]
     },
     "execution_count": 95,
     "metadata": {},
     "output_type": "execute_result"
    }
   ],
   "source": [
    "nse_data_caps = pd.read_excel('MCAP31032023_0.xlsx', index_col=0)\n",
    "nse_data_caps.head()"
   ]
  },
  {
   "cell_type": "code",
   "execution_count": 97,
   "metadata": {},
   "outputs": [],
   "source": [
    "nse_data_caps['CAP'] = nse_data_caps['Unnamed: 4']\n",
    "nse_data_caps = nse_data_caps.drop(['Unnamed: 4'], axis=1)"
   ]
  },
  {
   "cell_type": "code",
   "execution_count": 98,
   "metadata": {},
   "outputs": [
    {
     "data": {
      "text/html": [
       "<div>\n",
       "<style scoped>\n",
       "    .dataframe tbody tr th:only-of-type {\n",
       "        vertical-align: middle;\n",
       "    }\n",
       "\n",
       "    .dataframe tbody tr th {\n",
       "        vertical-align: top;\n",
       "    }\n",
       "\n",
       "    .dataframe thead th {\n",
       "        text-align: right;\n",
       "    }\n",
       "</style>\n",
       "<table border=\"1\" class=\"dataframe\">\n",
       "  <thead>\n",
       "    <tr style=\"text-align: right;\">\n",
       "      <th></th>\n",
       "      <th>Symbol</th>\n",
       "      <th>Company Name</th>\n",
       "      <th>Market capitalization as on March 31, 2023\\n(Rs in Lakhs)</th>\n",
       "      <th>CAP</th>\n",
       "    </tr>\n",
       "    <tr>\n",
       "      <th>Sr. No.</th>\n",
       "      <th></th>\n",
       "      <th></th>\n",
       "      <th></th>\n",
       "      <th></th>\n",
       "    </tr>\n",
       "  </thead>\n",
       "  <tbody>\n",
       "    <tr>\n",
       "      <th>1</th>\n",
       "      <td>RELIANCE</td>\n",
       "      <td>Reliance Industries Limited</td>\n",
       "      <td>157706937.768198</td>\n",
       "      <td>LARGECAP</td>\n",
       "    </tr>\n",
       "    <tr>\n",
       "      <th>2</th>\n",
       "      <td>TCS</td>\n",
       "      <td>Tata Consultancy Services Limited</td>\n",
       "      <td>117305527.967007</td>\n",
       "      <td>LARGECAP</td>\n",
       "    </tr>\n",
       "    <tr>\n",
       "      <th>3</th>\n",
       "      <td>HDFCBANK</td>\n",
       "      <td>HDFC Bank Limited</td>\n",
       "      <td>89808750.012063</td>\n",
       "      <td>LARGECAP</td>\n",
       "    </tr>\n",
       "    <tr>\n",
       "      <th>4</th>\n",
       "      <td>ICICIBANK</td>\n",
       "      <td>ICICI Bank Limited</td>\n",
       "      <td>61248250.447697</td>\n",
       "      <td>LARGECAP</td>\n",
       "    </tr>\n",
       "    <tr>\n",
       "      <th>5</th>\n",
       "      <td>HINDUNILVR</td>\n",
       "      <td>Hindustan Unilever Limited</td>\n",
       "      <td>60157759.876617</td>\n",
       "      <td>LARGECAP</td>\n",
       "    </tr>\n",
       "  </tbody>\n",
       "</table>\n",
       "</div>"
      ],
      "text/plain": [
       "             Symbol                       Company Name  \\\n",
       "Sr. No.                                                  \n",
       "1          RELIANCE        Reliance Industries Limited   \n",
       "2               TCS  Tata Consultancy Services Limited   \n",
       "3          HDFCBANK                  HDFC Bank Limited   \n",
       "4         ICICIBANK                 ICICI Bank Limited   \n",
       "5        HINDUNILVR         Hindustan Unilever Limited   \n",
       "\n",
       "        Market capitalization as on March 31, 2023\\n(Rs in Lakhs)       CAP  \n",
       "Sr. No.                                                                      \n",
       "1                                         157706937.768198         LARGECAP  \n",
       "2                                         117305527.967007         LARGECAP  \n",
       "3                                          89808750.012063         LARGECAP  \n",
       "4                                          61248250.447697         LARGECAP  \n",
       "5                                          60157759.876617         LARGECAP  "
      ]
     },
     "execution_count": 98,
     "metadata": {},
     "output_type": "execute_result"
    }
   ],
   "source": [
    "nse_data_caps.head()"
   ]
  },
  {
   "cell_type": "code",
   "execution_count": 100,
   "metadata": {},
   "outputs": [
    {
     "data": {
      "text/html": [
       "<div>\n",
       "<style scoped>\n",
       "    .dataframe tbody tr th:only-of-type {\n",
       "        vertical-align: middle;\n",
       "    }\n",
       "\n",
       "    .dataframe tbody tr th {\n",
       "        vertical-align: top;\n",
       "    }\n",
       "\n",
       "    .dataframe thead th {\n",
       "        text-align: right;\n",
       "    }\n",
       "</style>\n",
       "<table border=\"1\" class=\"dataframe\">\n",
       "  <thead>\n",
       "    <tr style=\"text-align: right;\">\n",
       "      <th></th>\n",
       "      <th>esg</th>\n",
       "      <th>esg_industry</th>\n",
       "      <th>industry</th>\n",
       "      <th>name</th>\n",
       "      <th>ticker</th>\n",
       "      <th>growth_rate</th>\n",
       "      <th>industry_growth_rate</th>\n",
       "      <th>mean_esg</th>\n",
       "      <th>industry_mean_esg</th>\n",
       "    </tr>\n",
       "  </thead>\n",
       "  <tbody>\n",
       "  </tbody>\n",
       "</table>\n",
       "</div>"
      ],
      "text/plain": [
       "Empty DataFrame\n",
       "Columns: [esg, esg_industry, industry, name, ticker, growth_rate, industry_growth_rate, mean_esg, industry_mean_esg]\n",
       "Index: []"
      ]
     },
     "execution_count": 100,
     "metadata": {},
     "output_type": "execute_result"
    }
   ],
   "source": [
    "#check if all the stocks in the merged dataframe are in the nse_data_caps dataframe\n",
    "merged[~merged['ticker'].isin(nse_data_caps['Symbol'])]"
   ]
  },
  {
   "cell_type": "code",
   "execution_count": 101,
   "metadata": {},
   "outputs": [],
   "source": [
    "# Add the market cap to the merged dataframe\n",
    "merged = merged.merge(nse_data_caps, left_on='ticker', right_on='Symbol')"
   ]
  },
  {
   "cell_type": "code",
   "execution_count": 102,
   "metadata": {},
   "outputs": [
    {
     "data": {
      "text/html": [
       "<div>\n",
       "<style scoped>\n",
       "    .dataframe tbody tr th:only-of-type {\n",
       "        vertical-align: middle;\n",
       "    }\n",
       "\n",
       "    .dataframe tbody tr th {\n",
       "        vertical-align: top;\n",
       "    }\n",
       "\n",
       "    .dataframe thead th {\n",
       "        text-align: right;\n",
       "    }\n",
       "</style>\n",
       "<table border=\"1\" class=\"dataframe\">\n",
       "  <thead>\n",
       "    <tr style=\"text-align: right;\">\n",
       "      <th></th>\n",
       "      <th>esg</th>\n",
       "      <th>esg_industry</th>\n",
       "      <th>industry</th>\n",
       "      <th>name</th>\n",
       "      <th>ticker</th>\n",
       "      <th>growth_rate</th>\n",
       "      <th>industry_growth_rate</th>\n",
       "      <th>mean_esg</th>\n",
       "      <th>industry_mean_esg</th>\n",
       "      <th>Symbol</th>\n",
       "      <th>Company Name</th>\n",
       "      <th>Market capitalization as on March 31, 2023\\n(Rs in Lakhs)</th>\n",
       "      <th>CAP</th>\n",
       "    </tr>\n",
       "  </thead>\n",
       "  <tbody>\n",
       "    <tr>\n",
       "      <th>0</th>\n",
       "      <td>[[2023-04-01, 99.89], [2023-05-01, 99.88]]</td>\n",
       "      <td>[[2023-04-01, 100.0], [2023-05-01, 100.0]]</td>\n",
       "      <td>Health Care &amp; Pharmaceuticals</td>\n",
       "      <td>Neuland-Laboratories-Ltd</td>\n",
       "      <td>NEULANDLAB</td>\n",
       "      <td>-0.000333</td>\n",
       "      <td>0.000000</td>\n",
       "      <td>99.88500</td>\n",
       "      <td>100.0000</td>\n",
       "      <td>NEULANDLAB</td>\n",
       "      <td>Neuland Laboratories Limited</td>\n",
       "      <td>231457.612504</td>\n",
       "      <td>SMALLCAP</td>\n",
       "    </tr>\n",
       "    <tr>\n",
       "      <th>1</th>\n",
       "      <td>[[2022-10-01, 99.73], [2022-11-01, 99.73], [20...</td>\n",
       "      <td>[[2022-10-01, 99.74], [2022-11-01, 99.74], [20...</td>\n",
       "      <td>Chemicals, Plastics &amp; Rubber Products Mfg.</td>\n",
       "      <td>Styrenix-Performance-Materials-Ltd</td>\n",
       "      <td>STYRENIX</td>\n",
       "      <td>-0.000425</td>\n",
       "      <td>0.000094</td>\n",
       "      <td>99.65625</td>\n",
       "      <td>99.7975</td>\n",
       "      <td>STYRENIX</td>\n",
       "      <td>Styrenix Performance Materials Limited</td>\n",
       "      <td>125789.975625</td>\n",
       "      <td>SMALLCAP</td>\n",
       "    </tr>\n",
       "    <tr>\n",
       "      <th>2</th>\n",
       "      <td>[[2021-05-01, 99.43], [2021-06-01, 98.9], [202...</td>\n",
       "      <td>[[2021-05-01, 99.71], [2021-06-01, 99.77], [20...</td>\n",
       "      <td>Mining (except Oil &amp; Gas)</td>\n",
       "      <td>HINDUSTAN-ZINC-LTD</td>\n",
       "      <td>HINDZINC</td>\n",
       "      <td>0.000233</td>\n",
       "      <td>0.000397</td>\n",
       "      <td>99.29760</td>\n",
       "      <td>99.8084</td>\n",
       "      <td>HINDZINC</td>\n",
       "      <td>Hindustan Zinc Limited</td>\n",
       "      <td>12394973.2865</td>\n",
       "      <td>LARGECAP</td>\n",
       "    </tr>\n",
       "    <tr>\n",
       "      <th>3</th>\n",
       "      <td>[[2021-05-01, 97.15], [2021-06-01, 95.61], [20...</td>\n",
       "      <td>[[2021-05-01, 96.37], [2021-06-01, 95.96], [20...</td>\n",
       "      <td>Retail</td>\n",
       "      <td>Aditya-Birla-Fashion-and-Retail-Ltd</td>\n",
       "      <td>ABFRL</td>\n",
       "      <td>0.003164</td>\n",
       "      <td>0.004973</td>\n",
       "      <td>98.76040</td>\n",
       "      <td>98.9912</td>\n",
       "      <td>ABFRL</td>\n",
       "      <td>Aditya Birla Fashion and Retail Limited</td>\n",
       "      <td>2033642.081795</td>\n",
       "      <td>LARGECAP</td>\n",
       "    </tr>\n",
       "    <tr>\n",
       "      <th>4</th>\n",
       "      <td>[[2023-01-01, 98.09], [2023-02-01, 98.32], [20...</td>\n",
       "      <td>[[2023-01-01, 98.22], [2023-02-01, 98.22], [20...</td>\n",
       "      <td>Machinery Manufacturing</td>\n",
       "      <td>Kirloskar-Brothers-Ltd</td>\n",
       "      <td>KIRLOSBROS</td>\n",
       "      <td>0.001500</td>\n",
       "      <td>0.003417</td>\n",
       "      <td>98.17400</td>\n",
       "      <td>98.3860</td>\n",
       "      <td>KIRLOSBROS</td>\n",
       "      <td>Kirloskar Brothers Limited</td>\n",
       "      <td>325775.118915</td>\n",
       "      <td>SMALLCAP</td>\n",
       "    </tr>\n",
       "  </tbody>\n",
       "</table>\n",
       "</div>"
      ],
      "text/plain": [
       "                                                 esg  \\\n",
       "0         [[2023-04-01, 99.89], [2023-05-01, 99.88]]   \n",
       "1  [[2022-10-01, 99.73], [2022-11-01, 99.73], [20...   \n",
       "2  [[2021-05-01, 99.43], [2021-06-01, 98.9], [202...   \n",
       "3  [[2021-05-01, 97.15], [2021-06-01, 95.61], [20...   \n",
       "4  [[2023-01-01, 98.09], [2023-02-01, 98.32], [20...   \n",
       "\n",
       "                                        esg_industry  \\\n",
       "0         [[2023-04-01, 100.0], [2023-05-01, 100.0]]   \n",
       "1  [[2022-10-01, 99.74], [2022-11-01, 99.74], [20...   \n",
       "2  [[2021-05-01, 99.71], [2021-06-01, 99.77], [20...   \n",
       "3  [[2021-05-01, 96.37], [2021-06-01, 95.96], [20...   \n",
       "4  [[2023-01-01, 98.22], [2023-02-01, 98.22], [20...   \n",
       "\n",
       "                                     industry  \\\n",
       "0               Health Care & Pharmaceuticals   \n",
       "1  Chemicals, Plastics & Rubber Products Mfg.   \n",
       "2                   Mining (except Oil & Gas)   \n",
       "3                                      Retail   \n",
       "4                     Machinery Manufacturing   \n",
       "\n",
       "                                  name      ticker  growth_rate  \\\n",
       "0             Neuland-Laboratories-Ltd  NEULANDLAB    -0.000333   \n",
       "1   Styrenix-Performance-Materials-Ltd    STYRENIX    -0.000425   \n",
       "2                   HINDUSTAN-ZINC-LTD    HINDZINC     0.000233   \n",
       "3  Aditya-Birla-Fashion-and-Retail-Ltd       ABFRL     0.003164   \n",
       "4               Kirloskar-Brothers-Ltd  KIRLOSBROS     0.001500   \n",
       "\n",
       "   industry_growth_rate  mean_esg  industry_mean_esg      Symbol  \\\n",
       "0              0.000000  99.88500           100.0000  NEULANDLAB   \n",
       "1              0.000094  99.65625            99.7975    STYRENIX   \n",
       "2              0.000397  99.29760            99.8084    HINDZINC   \n",
       "3              0.004973  98.76040            98.9912       ABFRL   \n",
       "4              0.003417  98.17400            98.3860  KIRLOSBROS   \n",
       "\n",
       "                              Company Name  \\\n",
       "0             Neuland Laboratories Limited   \n",
       "1   Styrenix Performance Materials Limited   \n",
       "2                   Hindustan Zinc Limited   \n",
       "3  Aditya Birla Fashion and Retail Limited   \n",
       "4               Kirloskar Brothers Limited   \n",
       "\n",
       "  Market capitalization as on March 31, 2023\\n(Rs in Lakhs)       CAP  \n",
       "0                                      231457.612504         SMALLCAP  \n",
       "1                                      125789.975625         SMALLCAP  \n",
       "2                                      12394973.2865         LARGECAP  \n",
       "3                                     2033642.081795         LARGECAP  \n",
       "4                                      325775.118915         SMALLCAP  "
      ]
     },
     "execution_count": 102,
     "metadata": {},
     "output_type": "execute_result"
    }
   ],
   "source": [
    "merged.head()"
   ]
  },
  {
   "cell_type": "code",
   "execution_count": 104,
   "metadata": {},
   "outputs": [
    {
     "data": {
      "text/plain": [
       "<Axes: >"
      ]
     },
     "execution_count": 104,
     "metadata": {},
     "output_type": "execute_result"
    },
    {
     "data": {
      "image/png": "[encoded data removed]",
      "text/plain": [
       "<Figure size 640x480 with 1 Axes>"
      ]
     },
     "metadata": {},
     "output_type": "display_data"
    }
   ],
   "source": [
    "merged['CAP'].hist()"
   ]
  },
  {
   "cell_type": "code",
   "execution_count": 106,
   "metadata": {},
   "outputs": [
    {
     "data": {
      "text/html": [
       "<div>\n",
       "<style scoped>\n",
       "    .dataframe tbody tr th:only-of-type {\n",
       "        vertical-align: middle;\n",
       "    }\n",
       "\n",
       "    .dataframe tbody tr th {\n",
       "        vertical-align: top;\n",
       "    }\n",
       "\n",
       "    .dataframe thead th {\n",
       "        text-align: right;\n",
       "    }\n",
       "</style>\n",
       "<table border=\"1\" class=\"dataframe\">\n",
       "  <thead>\n",
       "    <tr style=\"text-align: right;\">\n",
       "      <th></th>\n",
       "      <th>esg</th>\n",
       "      <th>esg_industry</th>\n",
       "      <th>industry</th>\n",
       "      <th>name</th>\n",
       "      <th>ticker</th>\n",
       "      <th>growth_rate</th>\n",
       "      <th>industry_growth_rate</th>\n",
       "      <th>mean_esg</th>\n",
       "      <th>industry_mean_esg</th>\n",
       "      <th>Symbol</th>\n",
       "      <th>Company Name</th>\n",
       "      <th>Market capitalization as on March 31, 2023\\n(Rs in Lakhs)</th>\n",
       "      <th>CAP</th>\n",
       "    </tr>\n",
       "  </thead>\n",
       "  <tbody>\n",
       "    <tr>\n",
       "      <th>10</th>\n",
       "      <td>[[2022-12-01, 96.09], [2023-01-01, 96.2], [202...</td>\n",
       "      <td>[[2022-12-01, 91.01], [2023-01-01, 89.89], [20...</td>\n",
       "      <td>Construction</td>\n",
       "      <td>Punj-Lloyd-Ltd</td>\n",
       "      <td>PUNJLLOYD</td>\n",
       "      <td>0.002715</td>\n",
       "      <td>-0.005960</td>\n",
       "      <td>96.361667</td>\n",
       "      <td>90.363333</td>\n",
       "      <td>PUNJLLOYD</td>\n",
       "      <td>Punj Lloyd Limited</td>\n",
       "      <td>*Not available for trading as on March 31, 2023</td>\n",
       "      <td>-</td>\n",
       "    </tr>\n",
       "    <tr>\n",
       "      <th>212</th>\n",
       "      <td>[[2022-03-01, 40.68], [2022-04-01, 46.52], [20...</td>\n",
       "      <td>[[2022-03-01, 36.42], [2022-04-01, 41.95], [20...</td>\n",
       "      <td>Food Products</td>\n",
       "      <td>Manpasand-Beverages-Ltd</td>\n",
       "      <td>MANPASAND</td>\n",
       "      <td>0.020047</td>\n",
       "      <td>0.027723</td>\n",
       "      <td>49.927333</td>\n",
       "      <td>47.078667</td>\n",
       "      <td>MANPASAND</td>\n",
       "      <td>Manpasand Beverages Limited</td>\n",
       "      <td>*Not available for trading as on March 31, 2023</td>\n",
       "      <td>-</td>\n",
       "    </tr>\n",
       "  </tbody>\n",
       "</table>\n",
       "</div>"
      ],
      "text/plain": [
       "                                                   esg  \\\n",
       "10   [[2022-12-01, 96.09], [2023-01-01, 96.2], [202...   \n",
       "212  [[2022-03-01, 40.68], [2022-04-01, 46.52], [20...   \n",
       "\n",
       "                                          esg_industry       industry  \\\n",
       "10   [[2022-12-01, 91.01], [2023-01-01, 89.89], [20...   Construction   \n",
       "212  [[2022-03-01, 36.42], [2022-04-01, 41.95], [20...  Food Products   \n",
       "\n",
       "                        name     ticker  growth_rate  industry_growth_rate  \\\n",
       "10            Punj-Lloyd-Ltd  PUNJLLOYD     0.002715             -0.005960   \n",
       "212  Manpasand-Beverages-Ltd  MANPASAND     0.020047              0.027723   \n",
       "\n",
       "      mean_esg  industry_mean_esg     Symbol                 Company Name  \\\n",
       "10   96.361667          90.363333  PUNJLLOYD           Punj Lloyd Limited   \n",
       "212  49.927333          47.078667  MANPASAND  Manpasand Beverages Limited   \n",
       "\n",
       "    Market capitalization as on March 31, 2023\\n(Rs in Lakhs) CAP  \n",
       "10     *Not available for trading as on March 31, 2023          -  \n",
       "212    *Not available for trading as on March 31, 2023          -  "
      ]
     },
     "execution_count": 106,
     "metadata": {},
     "output_type": "execute_result"
    }
   ],
   "source": [
    "merged[merged['CAP'] == '-']"
   ]
  },
  {
   "cell_type": "code",
   "execution_count": 107,
   "metadata": {},
   "outputs": [
    {
     "data": {
      "text/html": [
       "<div>\n",
       "<style scoped>\n",
       "    .dataframe tbody tr th:only-of-type {\n",
       "        vertical-align: middle;\n",
       "    }\n",
       "\n",
       "    .dataframe tbody tr th {\n",
       "        vertical-align: top;\n",
       "    }\n",
       "\n",
       "    .dataframe thead th {\n",
       "        text-align: right;\n",
       "    }\n",
       "</style>\n",
       "<table border=\"1\" class=\"dataframe\">\n",
       "  <thead>\n",
       "    <tr style=\"text-align: right;\">\n",
       "      <th></th>\n",
       "      <th>esg</th>\n",
       "      <th>esg_industry</th>\n",
       "      <th>industry</th>\n",
       "      <th>name</th>\n",
       "      <th>ticker</th>\n",
       "      <th>growth_rate</th>\n",
       "      <th>industry_growth_rate</th>\n",
       "      <th>mean_esg</th>\n",
       "      <th>industry_mean_esg</th>\n",
       "      <th>Symbol</th>\n",
       "      <th>Company Name</th>\n",
       "      <th>Market capitalization as on March 31, 2023\\n(Rs in Lakhs)</th>\n",
       "      <th>CAP</th>\n",
       "    </tr>\n",
       "  </thead>\n",
       "  <tbody>\n",
       "    <tr>\n",
       "      <th>0</th>\n",
       "      <td>[[2023-04-01, 99.89], [2023-05-01, 99.88]]</td>\n",
       "      <td>[[2023-04-01, 100.0], [2023-05-01, 100.0]]</td>\n",
       "      <td>Health Care &amp; Pharmaceuticals</td>\n",
       "      <td>Neuland-Laboratories-Ltd</td>\n",
       "      <td>NEULANDLAB</td>\n",
       "      <td>-0.000333</td>\n",
       "      <td>0.000000</td>\n",
       "      <td>99.88500</td>\n",
       "      <td>100.0000</td>\n",
       "      <td>NEULANDLAB</td>\n",
       "      <td>Neuland Laboratories Limited</td>\n",
       "      <td>231457.612504</td>\n",
       "      <td>SMALLCAP</td>\n",
       "    </tr>\n",
       "    <tr>\n",
       "      <th>1</th>\n",
       "      <td>[[2022-10-01, 99.73], [2022-11-01, 99.73], [20...</td>\n",
       "      <td>[[2022-10-01, 99.74], [2022-11-01, 99.74], [20...</td>\n",
       "      <td>Chemicals, Plastics &amp; Rubber Products Mfg.</td>\n",
       "      <td>Styrenix-Performance-Materials-Ltd</td>\n",
       "      <td>STYRENIX</td>\n",
       "      <td>-0.000425</td>\n",
       "      <td>0.000094</td>\n",
       "      <td>99.65625</td>\n",
       "      <td>99.7975</td>\n",
       "      <td>STYRENIX</td>\n",
       "      <td>Styrenix Performance Materials Limited</td>\n",
       "      <td>125789.975625</td>\n",
       "      <td>SMALLCAP</td>\n",
       "    </tr>\n",
       "    <tr>\n",
       "      <th>2</th>\n",
       "      <td>[[2021-05-01, 99.43], [2021-06-01, 98.9], [202...</td>\n",
       "      <td>[[2021-05-01, 99.71], [2021-06-01, 99.77], [20...</td>\n",
       "      <td>Mining (except Oil &amp; Gas)</td>\n",
       "      <td>HINDUSTAN-ZINC-LTD</td>\n",
       "      <td>HINDZINC</td>\n",
       "      <td>0.000233</td>\n",
       "      <td>0.000397</td>\n",
       "      <td>99.29760</td>\n",
       "      <td>99.8084</td>\n",
       "      <td>HINDZINC</td>\n",
       "      <td>Hindustan Zinc Limited</td>\n",
       "      <td>12394973.2865</td>\n",
       "      <td>LARGECAP</td>\n",
       "    </tr>\n",
       "    <tr>\n",
       "      <th>3</th>\n",
       "      <td>[[2021-05-01, 97.15], [2021-06-01, 95.61], [20...</td>\n",
       "      <td>[[2021-05-01, 96.37], [2021-06-01, 95.96], [20...</td>\n",
       "      <td>Retail</td>\n",
       "      <td>Aditya-Birla-Fashion-and-Retail-Ltd</td>\n",
       "      <td>ABFRL</td>\n",
       "      <td>0.003164</td>\n",
       "      <td>0.004973</td>\n",
       "      <td>98.76040</td>\n",
       "      <td>98.9912</td>\n",
       "      <td>ABFRL</td>\n",
       "      <td>Aditya Birla Fashion and Retail Limited</td>\n",
       "      <td>2033642.081795</td>\n",
       "      <td>LARGECAP</td>\n",
       "    </tr>\n",
       "    <tr>\n",
       "      <th>4</th>\n",
       "      <td>[[2023-01-01, 98.09], [2023-02-01, 98.32], [20...</td>\n",
       "      <td>[[2023-01-01, 98.22], [2023-02-01, 98.22], [20...</td>\n",
       "      <td>Machinery Manufacturing</td>\n",
       "      <td>Kirloskar-Brothers-Ltd</td>\n",
       "      <td>KIRLOSBROS</td>\n",
       "      <td>0.001500</td>\n",
       "      <td>0.003417</td>\n",
       "      <td>98.17400</td>\n",
       "      <td>98.3860</td>\n",
       "      <td>KIRLOSBROS</td>\n",
       "      <td>Kirloskar Brothers Limited</td>\n",
       "      <td>325775.118915</td>\n",
       "      <td>SMALLCAP</td>\n",
       "    </tr>\n",
       "  </tbody>\n",
       "</table>\n",
       "</div>"
      ],
      "text/plain": [
       "                                                 esg  \\\n",
       "0         [[2023-04-01, 99.89], [2023-05-01, 99.88]]   \n",
       "1  [[2022-10-01, 99.73], [2022-11-01, 99.73], [20...   \n",
       "2  [[2021-05-01, 99.43], [2021-06-01, 98.9], [202...   \n",
       "3  [[2021-05-01, 97.15], [2021-06-01, 95.61], [20...   \n",
       "4  [[2023-01-01, 98.09], [2023-02-01, 98.32], [20...   \n",
       "\n",
       "                                        esg_industry  \\\n",
       "0         [[2023-04-01, 100.0], [2023-05-01, 100.0]]   \n",
       "1  [[2022-10-01, 99.74], [2022-11-01, 99.74], [20...   \n",
       "2  [[2021-05-01, 99.71], [2021-06-01, 99.77], [20...   \n",
       "3  [[2021-05-01, 96.37], [2021-06-01, 95.96], [20...   \n",
       "4  [[2023-01-01, 98.22], [2023-02-01, 98.22], [20...   \n",
       "\n",
       "                                     industry  \\\n",
       "0               Health Care & Pharmaceuticals   \n",
       "1  Chemicals, Plastics & Rubber Products Mfg.   \n",
       "2                   Mining (except Oil & Gas)   \n",
       "3                                      Retail   \n",
       "4                     Machinery Manufacturing   \n",
       "\n",
       "                                  name      ticker  growth_rate  \\\n",
       "0             Neuland-Laboratories-Ltd  NEULANDLAB    -0.000333   \n",
       "1   Styrenix-Performance-Materials-Ltd    STYRENIX    -0.000425   \n",
       "2                   HINDUSTAN-ZINC-LTD    HINDZINC     0.000233   \n",
       "3  Aditya-Birla-Fashion-and-Retail-Ltd       ABFRL     0.003164   \n",
       "4               Kirloskar-Brothers-Ltd  KIRLOSBROS     0.001500   \n",
       "\n",
       "   industry_growth_rate  mean_esg  industry_mean_esg      Symbol  \\\n",
       "0              0.000000  99.88500           100.0000  NEULANDLAB   \n",
       "1              0.000094  99.65625            99.7975    STYRENIX   \n",
       "2              0.000397  99.29760            99.8084    HINDZINC   \n",
       "3              0.004973  98.76040            98.9912       ABFRL   \n",
       "4              0.003417  98.17400            98.3860  KIRLOSBROS   \n",
       "\n",
       "                              Company Name  \\\n",
       "0             Neuland Laboratories Limited   \n",
       "1   Styrenix Performance Materials Limited   \n",
       "2                   Hindustan Zinc Limited   \n",
       "3  Aditya Birla Fashion and Retail Limited   \n",
       "4               Kirloskar Brothers Limited   \n",
       "\n",
       "  Market capitalization as on March 31, 2023\\n(Rs in Lakhs)       CAP  \n",
       "0                                      231457.612504         SMALLCAP  \n",
       "1                                      125789.975625         SMALLCAP  \n",
       "2                                      12394973.2865         LARGECAP  \n",
       "3                                     2033642.081795         LARGECAP  \n",
       "4                                      325775.118915         SMALLCAP  "
      ]
     },
     "execution_count": 107,
     "metadata": {},
     "output_type": "execute_result"
    }
   ],
   "source": [
    "merged = merged[merged['CAP'] != '-']\n",
    "merged = merged.reset_index(drop=True)\n",
    "merged.head()"
   ]
  },
  {
   "cell_type": "code",
   "execution_count": 108,
   "metadata": {},
   "outputs": [
    {
     "data": {
      "text/plain": [
       "225"
      ]
     },
     "execution_count": 108,
     "metadata": {},
     "output_type": "execute_result"
    }
   ],
   "source": [
    "len(merged)"
   ]
  },
  {
   "cell_type": "code",
   "execution_count": 110,
   "metadata": {},
   "outputs": [],
   "source": [
    "# PLAN - 50 % Large Cap, 30 % Mid Cap, 20 % Small Cap\n",
    "total_stocks = 40\n",
    "large_cap = 20\n",
    "mid_cap = 12\n",
    "small_cap = 8"
   ]
  },
  {
   "cell_type": "code",
   "execution_count": 114,
   "metadata": {},
   "outputs": [],
   "source": [
    "greater_than_ind = merged[(merged['growth_rate'] > merged['industry_growth_rate'])]"
   ]
  },
  {
   "cell_type": "code",
   "execution_count": 115,
   "metadata": {},
   "outputs": [
    {
     "data": {
      "text/plain": [
       "(117, 13)"
      ]
     },
     "execution_count": 115,
     "metadata": {},
     "output_type": "execute_result"
    }
   ],
   "source": [
    "greater_than_ind.shape"
   ]
  },
  {
   "cell_type": "code",
   "execution_count": 119,
   "metadata": {},
   "outputs": [],
   "source": [
    "greater_than_ind = greater_than_ind.reset_index(drop=True)"
   ]
  },
  {
   "cell_type": "code",
   "execution_count": 121,
   "metadata": {},
   "outputs": [
    {
     "data": {
      "text/plain": [
       "55"
      ]
     },
     "execution_count": 121,
     "metadata": {},
     "output_type": "execute_result"
    }
   ],
   "source": [
    "(greater_than_ind['CAP'] == 'LARGECAP').sum()"
   ]
  },
  {
   "cell_type": "code",
   "execution_count": 122,
   "metadata": {},
   "outputs": [
    {
     "data": {
      "text/plain": [
       "40"
      ]
     },
     "execution_count": 122,
     "metadata": {},
     "output_type": "execute_result"
    }
   ],
   "source": [
    "(greater_than_ind['CAP'] == 'MIDCAP').sum()"
   ]
  },
  {
   "cell_type": "code",
   "execution_count": 123,
   "metadata": {},
   "outputs": [
    {
     "data": {
      "text/plain": [
       "22"
      ]
     },
     "execution_count": 123,
     "metadata": {},
     "output_type": "execute_result"
    }
   ],
   "source": [
    "(greater_than_ind['CAP'] == 'SMALLCAP').sum()"
   ]
  },
  {
   "cell_type": "code",
   "execution_count": 134,
   "metadata": {},
   "outputs": [
    {
     "data": {
      "text/plain": [
       "12            HIL\n",
       "13     INDIAGLYCO\n",
       "17      EDELWEISS\n",
       "19        CSBBANK\n",
       "31      MOLDTKPAC\n",
       "32     TATAMETALI\n",
       "34        ROSSARI\n",
       "45      MAYURUNIQ\n",
       "47           PDSL\n",
       "50            PTC\n",
       "62           RUPA\n",
       "66         ARVIND\n",
       "68     RELCAPITAL\n",
       "83           RHFL\n",
       "89       SHANKARA\n",
       "90         GVKPIL\n",
       "96          GET&D\n",
       "97     BALMLAWRIE\n",
       "98     JISLJALEQS\n",
       "100    MCLEODRUSS\n",
       "105     GICHSGFIN\n",
       "116     TEAMLEASE\n",
       "Name: ticker, dtype: object"
      ]
     },
     "execution_count": 134,
     "metadata": {},
     "output_type": "execute_result"
    }
   ],
   "source": [
    "greater_than_ind[(greater_than_ind['CAP'] == 'SMALLCAP')]['ticker']"
   ]
  },
  {
   "cell_type": "code",
   "execution_count": 144,
   "metadata": {},
   "outputs": [],
   "source": [
    "large_stocks = greater_than_ind[(greater_than_ind['CAP'] == 'LARGECAP')].head(20)"
   ]
  },
  {
   "cell_type": "code",
   "execution_count": 145,
   "metadata": {},
   "outputs": [],
   "source": [
    "small_stocks = greater_than_ind[(greater_than_ind['CAP'] == 'SMALLCAP')].head(8)"
   ]
  },
  {
   "cell_type": "code",
   "execution_count": 146,
   "metadata": {},
   "outputs": [],
   "source": [
    "mid_stocks = greater_than_ind[(greater_than_ind['CAP'] == 'MIDCAP')].head(12)"
   ]
  },
  {
   "cell_type": "code",
   "execution_count": 154,
   "metadata": {},
   "outputs": [
    {
     "data": {
      "text/html": [
       "<div>\n",
       "<style scoped>\n",
       "    .dataframe tbody tr th:only-of-type {\n",
       "        vertical-align: middle;\n",
       "    }\n",
       "\n",
       "    .dataframe tbody tr th {\n",
       "        vertical-align: top;\n",
       "    }\n",
       "\n",
       "    .dataframe thead th {\n",
       "        text-align: right;\n",
       "    }\n",
       "</style>\n",
       "<table border=\"1\" class=\"dataframe\">\n",
       "  <thead>\n",
       "    <tr style=\"text-align: right;\">\n",
       "      <th></th>\n",
       "      <th>esg</th>\n",
       "      <th>esg_industry</th>\n",
       "      <th>industry</th>\n",
       "      <th>name</th>\n",
       "      <th>ticker</th>\n",
       "      <th>growth_rate</th>\n",
       "      <th>industry_growth_rate</th>\n",
       "      <th>mean_esg</th>\n",
       "      <th>industry_mean_esg</th>\n",
       "      <th>Symbol</th>\n",
       "      <th>Company Name</th>\n",
       "      <th>Market capitalization as on March 31, 2023\\n(Rs in Lakhs)</th>\n",
       "      <th>CAP</th>\n",
       "    </tr>\n",
       "  </thead>\n",
       "  <tbody>\n",
       "    <tr>\n",
       "      <th>0</th>\n",
       "      <td>[[2021-05-01, 93.24], [2021-06-01, 95.96], [20...</td>\n",
       "      <td>[[2021-05-01, 93.24], [2021-06-01, 90.67], [20...</td>\n",
       "      <td>Commercial Banking</td>\n",
       "      <td>IndusInd-Bank-Limited</td>\n",
       "      <td>INDUSINDBK</td>\n",
       "      <td>0.007027</td>\n",
       "      <td>0.003603</td>\n",
       "      <td>97.9748</td>\n",
       "      <td>95.9528</td>\n",
       "      <td>INDUSINDBK</td>\n",
       "      <td>IndusInd Bank Limited</td>\n",
       "      <td>8285787.877861</td>\n",
       "      <td>LARGECAP</td>\n",
       "    </tr>\n",
       "    <tr>\n",
       "      <th>1</th>\n",
       "      <td>[[2021-05-01, 98.4], [2021-06-01, 87.67], [202...</td>\n",
       "      <td>[[2021-05-01, 99.16], [2021-06-01, 90.52], [20...</td>\n",
       "      <td>Chemicals, Plastics &amp; Rubber Products Mfg.</td>\n",
       "      <td>Tata-Chemicals-Ltd</td>\n",
       "      <td>TATACHEM</td>\n",
       "      <td>0.000740</td>\n",
       "      <td>0.000315</td>\n",
       "      <td>97.7936</td>\n",
       "      <td>98.7192</td>\n",
       "      <td>TATACHEM</td>\n",
       "      <td>Tata Chemicals Limited</td>\n",
       "      <td>2477377.425411</td>\n",
       "      <td>LARGECAP</td>\n",
       "    </tr>\n",
       "    <tr>\n",
       "      <th>2</th>\n",
       "      <td>[[2021-05-01, 98.83], [2021-06-01, 97.0], [202...</td>\n",
       "      <td>[[2021-05-01, 99.52], [2021-06-01, 98.11], [20...</td>\n",
       "      <td>Electronic Equipment &amp; Instrumentation, Energy...</td>\n",
       "      <td>ABB-in-India</td>\n",
       "      <td>ABB</td>\n",
       "      <td>-0.006452</td>\n",
       "      <td>-0.007301</td>\n",
       "      <td>95.9148</td>\n",
       "      <td>96.4656</td>\n",
       "      <td>ABB</td>\n",
       "      <td>ABB India Limited</td>\n",
       "      <td>7131034.681312</td>\n",
       "      <td>LARGECAP</td>\n",
       "    </tr>\n",
       "    <tr>\n",
       "      <th>3</th>\n",
       "      <td>[[2021-05-01, 78.59], [2021-06-01, 85.23], [20...</td>\n",
       "      <td>[[2021-05-01, 80.99], [2021-06-01, 79.17], [20...</td>\n",
       "      <td>Banking</td>\n",
       "      <td>HDFC-Bank-Ltd</td>\n",
       "      <td>HDFCBANK</td>\n",
       "      <td>0.026986</td>\n",
       "      <td>0.020671</td>\n",
       "      <td>94.2548</td>\n",
       "      <td>91.2924</td>\n",
       "      <td>HDFCBANK</td>\n",
       "      <td>HDFC Bank Limited</td>\n",
       "      <td>89808750.012063</td>\n",
       "      <td>LARGECAP</td>\n",
       "    </tr>\n",
       "    <tr>\n",
       "      <th>4</th>\n",
       "      <td>[[2021-05-01, 92.5], [2021-06-01, 84.27], [202...</td>\n",
       "      <td>[[2021-05-01, 93.09], [2021-06-01, 89.59], [20...</td>\n",
       "      <td>Construction Materials</td>\n",
       "      <td>Dalmia-Bharat-Ltd</td>\n",
       "      <td>DALBHARAT</td>\n",
       "      <td>0.009301</td>\n",
       "      <td>0.008575</td>\n",
       "      <td>93.7156</td>\n",
       "      <td>95.6384</td>\n",
       "      <td>DALBHARAT</td>\n",
       "      <td>Dalmia Bharat Limited</td>\n",
       "      <td>3690082.205382</td>\n",
       "      <td>LARGECAP</td>\n",
       "    </tr>\n",
       "  </tbody>\n",
       "</table>\n",
       "</div>"
      ],
      "text/plain": [
       "                                                 esg  \\\n",
       "0  [[2021-05-01, 93.24], [2021-06-01, 95.96], [20...   \n",
       "1  [[2021-05-01, 98.4], [2021-06-01, 87.67], [202...   \n",
       "2  [[2021-05-01, 98.83], [2021-06-01, 97.0], [202...   \n",
       "3  [[2021-05-01, 78.59], [2021-06-01, 85.23], [20...   \n",
       "4  [[2021-05-01, 92.5], [2021-06-01, 84.27], [202...   \n",
       "\n",
       "                                        esg_industry  \\\n",
       "0  [[2021-05-01, 93.24], [2021-06-01, 90.67], [20...   \n",
       "1  [[2021-05-01, 99.16], [2021-06-01, 90.52], [20...   \n",
       "2  [[2021-05-01, 99.52], [2021-06-01, 98.11], [20...   \n",
       "3  [[2021-05-01, 80.99], [2021-06-01, 79.17], [20...   \n",
       "4  [[2021-05-01, 93.09], [2021-06-01, 89.59], [20...   \n",
       "\n",
       "                                            industry                   name  \\\n",
       "0                                 Commercial Banking  IndusInd-Bank-Limited   \n",
       "1         Chemicals, Plastics & Rubber Products Mfg.     Tata-Chemicals-Ltd   \n",
       "2  Electronic Equipment & Instrumentation, Energy...           ABB-in-India   \n",
       "3                                            Banking          HDFC-Bank-Ltd   \n",
       "4                             Construction Materials      Dalmia-Bharat-Ltd   \n",
       "\n",
       "       ticker  growth_rate  industry_growth_rate  mean_esg  industry_mean_esg  \\\n",
       "0  INDUSINDBK     0.007027              0.003603   97.9748            95.9528   \n",
       "1    TATACHEM     0.000740              0.000315   97.7936            98.7192   \n",
       "2         ABB    -0.006452             -0.007301   95.9148            96.4656   \n",
       "3    HDFCBANK     0.026986              0.020671   94.2548            91.2924   \n",
       "4   DALBHARAT     0.009301              0.008575   93.7156            95.6384   \n",
       "\n",
       "       Symbol            Company Name  \\\n",
       "0  INDUSINDBK   IndusInd Bank Limited   \n",
       "1    TATACHEM  Tata Chemicals Limited   \n",
       "2         ABB       ABB India Limited   \n",
       "3    HDFCBANK       HDFC Bank Limited   \n",
       "4   DALBHARAT   Dalmia Bharat Limited   \n",
       "\n",
       "  Market capitalization as on March 31, 2023\\n(Rs in Lakhs)       CAP  \n",
       "0                                     8285787.877861         LARGECAP  \n",
       "1                                     2477377.425411         LARGECAP  \n",
       "2                                     7131034.681312         LARGECAP  \n",
       "3                                    89808750.012063         LARGECAP  \n",
       "4                                     3690082.205382         LARGECAP  "
      ]
     },
     "execution_count": 154,
     "metadata": {},
     "output_type": "execute_result"
    }
   ],
   "source": [
    "# combine the stocks\n",
    "stocks = pd.concat([large_stocks, mid_stocks, small_stocks])\n",
    "stocks = stocks.reset_index(drop=True)\n",
    "stocks.head()"
   ]
  },
  {
   "cell_type": "code",
   "execution_count": 157,
   "metadata": {},
   "outputs": [],
   "source": [
    "stocks = stocks.sort_values(by=['mean_esg'], ascending=False)\n",
    "stocks = stocks.reset_index(drop=True)"
   ]
  },
  {
   "cell_type": "code",
   "execution_count": 156,
   "metadata": {},
   "outputs": [],
   "source": [
    "stocks.to_csv('stocks.csv')"
   ]
  },
  {
   "cell_type": "code",
   "execution_count": null,
   "metadata": {},
   "outputs": [],
   "source": []
  }
 ],
 "metadata": {
  "kernelspec": {
   "display_name": ".venv",
   "language": "python",
   "name": "python3"
  },
  "language_info": {
   "codemirror_mode": {
    "name": "ipython",
    "version": 3
   },
   "file_extension": ".py",
   "mimetype": "text/x-python",
   "name": "python",
   "nbconvert_exporter": "python",
   "pygments_lexer": "ipython3",
   "version": "3.11.5"
  },
  "orig_nbformat": 4
 },
 "nbformat": 4,
 "nbformat_minor": 2
}
