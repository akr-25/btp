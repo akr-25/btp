{
 "cells": [
  {
   "cell_type": "code",
   "execution_count": 125,
   "metadata": {},
   "outputs": [],
   "source": [
    "import pandas as pd\n",
    "import numpy as np"
   ]
  },
  {
   "cell_type": "code",
   "execution_count": 126,
   "metadata": {},
   "outputs": [
    {
     "data": {
      "text/html": [
       "<div>\n",
       "<style scoped>\n",
       "    .dataframe tbody tr th:only-of-type {\n",
       "        vertical-align: middle;\n",
       "    }\n",
       "\n",
       "    .dataframe tbody tr th {\n",
       "        vertical-align: top;\n",
       "    }\n",
       "\n",
       "    .dataframe thead th {\n",
       "        text-align: right;\n",
       "    }\n",
       "</style>\n",
       "<table border=\"1\" class=\"dataframe\">\n",
       "  <thead>\n",
       "    <tr style=\"text-align: right;\">\n",
       "      <th></th>\n",
       "      <th>ticker</th>\n",
       "    </tr>\n",
       "  </thead>\n",
       "  <tbody>\n",
       "    <tr>\n",
       "      <th>0</th>\n",
       "      <td>3MINDIA</td>\n",
       "    </tr>\n",
       "    <tr>\n",
       "      <th>1</th>\n",
       "      <td>AARTIDRUGS</td>\n",
       "    </tr>\n",
       "    <tr>\n",
       "      <th>2</th>\n",
       "      <td>AARTIIND</td>\n",
       "    </tr>\n",
       "    <tr>\n",
       "      <th>3</th>\n",
       "      <td>ABB</td>\n",
       "    </tr>\n",
       "    <tr>\n",
       "      <th>4</th>\n",
       "      <td>ACC</td>\n",
       "    </tr>\n",
       "  </tbody>\n",
       "</table>\n",
       "</div>"
      ],
      "text/plain": [
       "       ticker\n",
       "0     3MINDIA\n",
       "1  AARTIDRUGS\n",
       "2    AARTIIND\n",
       "3         ABB\n",
       "4         ACC"
      ]
     },
     "execution_count": 126,
     "metadata": {},
     "output_type": "execute_result"
    }
   ],
   "source": [
    "universe = pd.read_csv('../esg_nse_yahoo_final.csv')\n",
    "universe.head()"
   ]
  },
  {
   "cell_type": "code",
   "execution_count": 127,
   "metadata": {},
   "outputs": [
    {
     "data": {
      "text/html": [
       "<div>\n",
       "<style scoped>\n",
       "    .dataframe tbody tr th:only-of-type {\n",
       "        vertical-align: middle;\n",
       "    }\n",
       "\n",
       "    .dataframe tbody tr th {\n",
       "        vertical-align: top;\n",
       "    }\n",
       "\n",
       "    .dataframe thead th {\n",
       "        text-align: right;\n",
       "    }\n",
       "</style>\n",
       "<table border=\"1\" class=\"dataframe\">\n",
       "  <thead>\n",
       "    <tr style=\"text-align: right;\">\n",
       "      <th></th>\n",
       "      <th>esg</th>\n",
       "      <th>esg_industry</th>\n",
       "      <th>industry</th>\n",
       "      <th>name</th>\n",
       "      <th>ticker</th>\n",
       "    </tr>\n",
       "  </thead>\n",
       "  <tbody>\n",
       "    <tr>\n",
       "      <th>0</th>\n",
       "      <td>[]</td>\n",
       "      <td>[]</td>\n",
       "      <td>Mining (except Oil &amp; Gas)</td>\n",
       "      <td>20-Microns-Ltd</td>\n",
       "      <td>20MICRONS</td>\n",
       "    </tr>\n",
       "    <tr>\n",
       "      <th>1</th>\n",
       "      <td>[[1622505600000, 14.44], [1625097600000, 14.46...</td>\n",
       "      <td>[[1622505600000, 13.83], [1625097600000, 12.9]...</td>\n",
       "      <td>Containers &amp; Packaging Manufacturing</td>\n",
       "      <td>3M-INDIA-LIMITED</td>\n",
       "      <td>3MINDIA</td>\n",
       "    </tr>\n",
       "    <tr>\n",
       "      <th>2</th>\n",
       "      <td>[[1633046400000, 36.21], [1635724800000, 35.68...</td>\n",
       "      <td>[[1633046400000, 19.94], [1635724800000, 20.25...</td>\n",
       "      <td>Brokerage &amp; Capital Markets</td>\n",
       "      <td>5paisa-Capital-Limited</td>\n",
       "      <td>5PAISA</td>\n",
       "    </tr>\n",
       "    <tr>\n",
       "      <th>3</th>\n",
       "      <td>[]</td>\n",
       "      <td>[]</td>\n",
       "      <td>Brokerage &amp; Capital Markets</td>\n",
       "      <td>A-K-CAPITAL-SERVICES-LIMITED</td>\n",
       "      <td>530499</td>\n",
       "    </tr>\n",
       "    <tr>\n",
       "      <th>4</th>\n",
       "      <td>[]</td>\n",
       "      <td>[]</td>\n",
       "      <td>Architectural, Engineering, &amp; Related Services</td>\n",
       "      <td>A2Z-MAINTENANCE-and-ENGINEERING-SERVICES-LIMITED</td>\n",
       "      <td>A2ZINFRA</td>\n",
       "    </tr>\n",
       "  </tbody>\n",
       "</table>\n",
       "</div>"
      ],
      "text/plain": [
       "                                                 esg  \\\n",
       "0                                                 []   \n",
       "1  [[1622505600000, 14.44], [1625097600000, 14.46...   \n",
       "2  [[1633046400000, 36.21], [1635724800000, 35.68...   \n",
       "3                                                 []   \n",
       "4                                                 []   \n",
       "\n",
       "                                        esg_industry  \\\n",
       "0                                                 []   \n",
       "1  [[1622505600000, 13.83], [1625097600000, 12.9]...   \n",
       "2  [[1633046400000, 19.94], [1635724800000, 20.25...   \n",
       "3                                                 []   \n",
       "4                                                 []   \n",
       "\n",
       "                                         industry  \\\n",
       "0                       Mining (except Oil & Gas)   \n",
       "1            Containers & Packaging Manufacturing   \n",
       "2                     Brokerage & Capital Markets   \n",
       "3                     Brokerage & Capital Markets   \n",
       "4  Architectural, Engineering, & Related Services   \n",
       "\n",
       "                                               name     ticker  \n",
       "0                                    20-Microns-Ltd  20MICRONS  \n",
       "1                                  3M-INDIA-LIMITED    3MINDIA  \n",
       "2                            5paisa-Capital-Limited     5PAISA  \n",
       "3                      A-K-CAPITAL-SERVICES-LIMITED     530499  \n",
       "4  A2Z-MAINTENANCE-and-ENGINEERING-SERVICES-LIMITED   A2ZINFRA  "
      ]
     },
     "execution_count": 127,
     "metadata": {},
     "output_type": "execute_result"
    }
   ],
   "source": [
    "df = pd.read_json('../esg_data.json')\n",
    "df.head()"
   ]
  },
  {
   "cell_type": "code",
   "execution_count": 128,
   "metadata": {},
   "outputs": [],
   "source": [
    "# drop stocks not in universe\n",
    "df = df[df['ticker'].isin(universe['ticker'])]"
   ]
  },
  {
   "cell_type": "code",
   "execution_count": 129,
   "metadata": {},
   "outputs": [
    {
     "data": {
      "text/plain": [
       "383"
      ]
     },
     "execution_count": 129,
     "metadata": {},
     "output_type": "execute_result"
    }
   ],
   "source": [
    "len(df)"
   ]
  },
  {
   "cell_type": "code",
   "execution_count": 130,
   "metadata": {},
   "outputs": [
    {
     "data": {
      "text/html": [
       "<div>\n",
       "<style scoped>\n",
       "    .dataframe tbody tr th:only-of-type {\n",
       "        vertical-align: middle;\n",
       "    }\n",
       "\n",
       "    .dataframe tbody tr th {\n",
       "        vertical-align: top;\n",
       "    }\n",
       "\n",
       "    .dataframe thead th {\n",
       "        text-align: right;\n",
       "    }\n",
       "</style>\n",
       "<table border=\"1\" class=\"dataframe\">\n",
       "  <thead>\n",
       "    <tr style=\"text-align: right;\">\n",
       "      <th></th>\n",
       "      <th>esg</th>\n",
       "      <th>esg_industry</th>\n",
       "      <th>industry</th>\n",
       "      <th>name</th>\n",
       "      <th>ticker</th>\n",
       "    </tr>\n",
       "  </thead>\n",
       "  <tbody>\n",
       "    <tr>\n",
       "      <th>725</th>\n",
       "      <td>[[1619827200000, 89.93], [1622505600000, 93.2]...</td>\n",
       "      <td>[[1619827200000, 81.17], [1622505600000, 82.59...</td>\n",
       "      <td>Heavy &amp; Civil Engineering Construction, Electr...</td>\n",
       "      <td>Larsen-and-Toubro</td>\n",
       "      <td>LT</td>\n",
       "    </tr>\n",
       "    <tr>\n",
       "      <th>831</th>\n",
       "      <td>[]</td>\n",
       "      <td>[]</td>\n",
       "      <td>Architectural, Engineering, &amp; Related Services</td>\n",
       "      <td>Nabha-Power-Limited</td>\n",
       "      <td>LT</td>\n",
       "    </tr>\n",
       "  </tbody>\n",
       "</table>\n",
       "</div>"
      ],
      "text/plain": [
       "                                                   esg  \\\n",
       "725  [[1619827200000, 89.93], [1622505600000, 93.2]...   \n",
       "831                                                 []   \n",
       "\n",
       "                                          esg_industry  \\\n",
       "725  [[1619827200000, 81.17], [1622505600000, 82.59...   \n",
       "831                                                 []   \n",
       "\n",
       "                                              industry                 name  \\\n",
       "725  Heavy & Civil Engineering Construction, Electr...    Larsen-and-Toubro   \n",
       "831     Architectural, Engineering, & Related Services  Nabha-Power-Limited   \n",
       "\n",
       "    ticker  \n",
       "725     LT  \n",
       "831     LT  "
      ]
     },
     "execution_count": 130,
     "metadata": {},
     "output_type": "execute_result"
    }
   ],
   "source": [
    "df['ticker'].nunique() \n",
    "df[df['ticker'] == 'LT']"
   ]
  },
  {
   "cell_type": "code",
   "execution_count": 131,
   "metadata": {},
   "outputs": [],
   "source": [
    "df = df.drop(df[df['name'] == 'Nabha-Power-Limited'].index)"
   ]
  },
  {
   "cell_type": "code",
   "execution_count": 132,
   "metadata": {},
   "outputs": [],
   "source": [
    "from datetime import datetime\n",
    "\n",
    "def get_date(date: int) -> str:\n",
    "    try:\n",
    "        date = datetime.fromtimestamp(date/1000)\n",
    "        return date.strftime(\"%Y-%m-%d\")\n",
    "    except TypeError:\n",
    "        return str(date)"
   ]
  },
  {
   "cell_type": "code",
   "execution_count": 133,
   "metadata": {},
   "outputs": [],
   "source": [
    "df = df.reset_index(drop=True)\n",
    "\n",
    "for i in range(len(df)):\n",
    "    esg = df.at[i, 'esg']\n",
    "    esg_industry = df.at[i, 'esg_industry']\n",
    "    \n",
    "    for j in range(len(esg_industry)):\n",
    "        esg_industry[j][0] = get_date(esg_industry[j][0])\n",
    "    \n",
    "    for j in range(len(esg)):\n",
    "        esg[j][0] = get_date(esg[j][0])\n",
    "    \n",
    "    df.at[i, 'esg'] = esg\n",
    "    df.at[i, 'esg_industry'] = esg_industry\n"
   ]
  },
  {
   "cell_type": "code",
   "execution_count": 134,
   "metadata": {},
   "outputs": [
    {
     "data": {
      "text/html": [
       "<div>\n",
       "<style scoped>\n",
       "    .dataframe tbody tr th:only-of-type {\n",
       "        vertical-align: middle;\n",
       "    }\n",
       "\n",
       "    .dataframe tbody tr th {\n",
       "        vertical-align: top;\n",
       "    }\n",
       "\n",
       "    .dataframe thead th {\n",
       "        text-align: right;\n",
       "    }\n",
       "</style>\n",
       "<table border=\"1\" class=\"dataframe\">\n",
       "  <thead>\n",
       "    <tr style=\"text-align: right;\">\n",
       "      <th></th>\n",
       "      <th>esg</th>\n",
       "      <th>esg_industry</th>\n",
       "      <th>industry</th>\n",
       "      <th>name</th>\n",
       "      <th>ticker</th>\n",
       "    </tr>\n",
       "  </thead>\n",
       "  <tbody>\n",
       "    <tr>\n",
       "      <th>377</th>\n",
       "      <td>[[2021-06-01, 75.33], [2021-07-01, 75.16], [20...</td>\n",
       "      <td>[[2021-06-01, 68.24], [2021-07-01, 67.15], [20...</td>\n",
       "      <td>Banking</td>\n",
       "      <td>THE-KARUR-VYSYA-BANK-LIMITED</td>\n",
       "      <td>KARURVYSYA</td>\n",
       "    </tr>\n",
       "    <tr>\n",
       "      <th>378</th>\n",
       "      <td>[[2021-06-01, 43.94], [2021-07-01, 43.81], [20...</td>\n",
       "      <td>[[2021-06-01, 48.5], [2021-07-01, 48.18], [202...</td>\n",
       "      <td>Manufacturing</td>\n",
       "      <td>THE-SUPREME-INDUSTRIES-LIMITED</td>\n",
       "      <td>SUPREMEIND</td>\n",
       "    </tr>\n",
       "    <tr>\n",
       "      <th>379</th>\n",
       "      <td>[[2023-01-01, 54.01], [2023-02-01, 47.85], [20...</td>\n",
       "      <td>[[2023-01-01, 57.93], [2023-02-01, 50.55], [20...</td>\n",
       "      <td>Construction Materials</td>\n",
       "      <td>The-Tinplate-Company-of-India-Limited</td>\n",
       "      <td>TINPLATE</td>\n",
       "    </tr>\n",
       "    <tr>\n",
       "      <th>380</th>\n",
       "      <td>[[2023-05-01, 23.5]]</td>\n",
       "      <td>[[2023-05-01, 22.06]]</td>\n",
       "      <td>Paper Products</td>\n",
       "      <td>THE-WEST-COAST-PAPER-MILLS-LIMITED</td>\n",
       "      <td>WSTCSTPAPR</td>\n",
       "    </tr>\n",
       "    <tr>\n",
       "      <th>381</th>\n",
       "      <td>[[2021-05-01, 94.81], [2021-06-01, 73.74], [20...</td>\n",
       "      <td>[[2021-05-01, 93.07], [2021-06-01, 70.21], [20...</td>\n",
       "      <td>Machinery Manufacturing</td>\n",
       "      <td>Thermax-Ltd</td>\n",
       "      <td>THERMAX</td>\n",
       "    </tr>\n",
       "  </tbody>\n",
       "</table>\n",
       "</div>"
      ],
      "text/plain": [
       "                                                   esg  \\\n",
       "377  [[2021-06-01, 75.33], [2021-07-01, 75.16], [20...   \n",
       "378  [[2021-06-01, 43.94], [2021-07-01, 43.81], [20...   \n",
       "379  [[2023-01-01, 54.01], [2023-02-01, 47.85], [20...   \n",
       "380                               [[2023-05-01, 23.5]]   \n",
       "381  [[2021-05-01, 94.81], [2021-06-01, 73.74], [20...   \n",
       "\n",
       "                                          esg_industry  \\\n",
       "377  [[2021-06-01, 68.24], [2021-07-01, 67.15], [20...   \n",
       "378  [[2021-06-01, 48.5], [2021-07-01, 48.18], [202...   \n",
       "379  [[2023-01-01, 57.93], [2023-02-01, 50.55], [20...   \n",
       "380                              [[2023-05-01, 22.06]]   \n",
       "381  [[2021-05-01, 93.07], [2021-06-01, 70.21], [20...   \n",
       "\n",
       "                    industry                                   name  \\\n",
       "377                  Banking           THE-KARUR-VYSYA-BANK-LIMITED   \n",
       "378            Manufacturing         THE-SUPREME-INDUSTRIES-LIMITED   \n",
       "379   Construction Materials  The-Tinplate-Company-of-India-Limited   \n",
       "380           Paper Products     THE-WEST-COAST-PAPER-MILLS-LIMITED   \n",
       "381  Machinery Manufacturing                            Thermax-Ltd   \n",
       "\n",
       "         ticker  \n",
       "377  KARURVYSYA  \n",
       "378  SUPREMEIND  \n",
       "379    TINPLATE  \n",
       "380  WSTCSTPAPR  \n",
       "381     THERMAX  "
      ]
     },
     "execution_count": 134,
     "metadata": {},
     "output_type": "execute_result"
    }
   ],
   "source": [
    "df.tail()"
   ]
  },
  {
   "cell_type": "code",
   "execution_count": 135,
   "metadata": {},
   "outputs": [
    {
     "data": {
      "text/plain": [
       "53.71333333333333"
      ]
     },
     "execution_count": 135,
     "metadata": {},
     "output_type": "execute_result"
    }
   ],
   "source": [
    "np.array(df.at[2, 'esg'])[:, 1].astype(float).mean()"
   ]
  },
  {
   "cell_type": "code",
   "execution_count": 136,
   "metadata": {},
   "outputs": [],
   "source": [
    "def mean_esg(esg: list, ticker: str) -> float:\n",
    "    try:\n",
    "        esg = np.array(esg)\n",
    "        yEsg = esg[:, 1].astype(float)\n",
    "        return yEsg.mean()\n",
    "    except (TypeError, ValueError, IndexError) as e:\n",
    "        print(f\"Error processing ESG data: {e} for ticker {ticker}\")\n",
    "        return np.nan  # Return a default value in case of error\n",
    "\n",
    "def df_mean_esg(data: pd.DataFrame, col='esg', mean_func=mean_esg) -> float:\n",
    "    mean_esgs = []\n",
    "    for i in range(len(data)):\n",
    "        try:\n",
    "            mean_esgs.append(mean_func(data.at[i, col], df.at[i, 'ticker']))\n",
    "        except KeyError:\n",
    "            print(f\"Column '{col}' not found in row {i}\")\n",
    "            mean_esgs.append(np.nan)  # Return a default value if the column doesn't exist\n",
    "    return mean_esgs"
   ]
  },
  {
   "cell_type": "code",
   "execution_count": 137,
   "metadata": {},
   "outputs": [
    {
     "data": {
      "text/html": [
       "<div>\n",
       "<style scoped>\n",
       "    .dataframe tbody tr th:only-of-type {\n",
       "        vertical-align: middle;\n",
       "    }\n",
       "\n",
       "    .dataframe tbody tr th {\n",
       "        vertical-align: top;\n",
       "    }\n",
       "\n",
       "    .dataframe thead th {\n",
       "        text-align: right;\n",
       "    }\n",
       "</style>\n",
       "<table border=\"1\" class=\"dataframe\">\n",
       "  <thead>\n",
       "    <tr style=\"text-align: right;\">\n",
       "      <th></th>\n",
       "      <th>esg</th>\n",
       "      <th>esg_industry</th>\n",
       "      <th>industry</th>\n",
       "      <th>name</th>\n",
       "      <th>ticker</th>\n",
       "      <th>mean_esg</th>\n",
       "      <th>industry_mean_esg</th>\n",
       "    </tr>\n",
       "  </thead>\n",
       "  <tbody>\n",
       "    <tr>\n",
       "      <th>0</th>\n",
       "      <td>[[2021-06-01, 14.44], [2021-07-01, 14.46], [20...</td>\n",
       "      <td>[[2021-06-01, 13.83], [2021-07-01, 12.9], [202...</td>\n",
       "      <td>Containers &amp; Packaging Manufacturing</td>\n",
       "      <td>3M-INDIA-LIMITED</td>\n",
       "      <td>3MINDIA</td>\n",
       "      <td>56.030000</td>\n",
       "      <td>48.452917</td>\n",
       "    </tr>\n",
       "    <tr>\n",
       "      <th>1</th>\n",
       "      <td>[[2021-06-01, 16.98], [2021-07-01, 17.08], [20...</td>\n",
       "      <td>[[2021-06-01, 26.05], [2021-07-01, 26.42], [20...</td>\n",
       "      <td>Health Care &amp; Pharmaceuticals</td>\n",
       "      <td>Aarti-Drugs-Ltd</td>\n",
       "      <td>AARTIDRUGS</td>\n",
       "      <td>21.845417</td>\n",
       "      <td>31.795833</td>\n",
       "    </tr>\n",
       "    <tr>\n",
       "      <th>2</th>\n",
       "      <td>[[2021-06-01, 19.55], [2021-07-01, 19.69], [20...</td>\n",
       "      <td>[[2021-06-01, 28.24], [2021-07-01, 26.97], [20...</td>\n",
       "      <td>Chemicals, Plastics &amp; Rubber Products Mfg.</td>\n",
       "      <td>AARTI-INDUSTRIES-LTD</td>\n",
       "      <td>AARTIIND</td>\n",
       "      <td>53.713333</td>\n",
       "      <td>55.423333</td>\n",
       "    </tr>\n",
       "    <tr>\n",
       "      <th>3</th>\n",
       "      <td>[[2021-05-01, 98.83], [2021-06-01, 97.0], [202...</td>\n",
       "      <td>[[2021-05-01, 99.52], [2021-06-01, 98.11], [20...</td>\n",
       "      <td>Electronic Equipment &amp; Instrumentation, Energy...</td>\n",
       "      <td>ABB-in-India</td>\n",
       "      <td>ABB</td>\n",
       "      <td>95.914800</td>\n",
       "      <td>96.465600</td>\n",
       "    </tr>\n",
       "    <tr>\n",
       "      <th>4</th>\n",
       "      <td>[[2021-05-01, 75.23], [2021-06-01, 73.67], [20...</td>\n",
       "      <td>[[2021-05-01, 70.74], [2021-06-01, 79.18], [20...</td>\n",
       "      <td>Construction Materials</td>\n",
       "      <td>ACC-LIMITED</td>\n",
       "      <td>ACC</td>\n",
       "      <td>83.348800</td>\n",
       "      <td>86.453600</td>\n",
       "    </tr>\n",
       "  </tbody>\n",
       "</table>\n",
       "</div>"
      ],
      "text/plain": [
       "                                                 esg  \\\n",
       "0  [[2021-06-01, 14.44], [2021-07-01, 14.46], [20...   \n",
       "1  [[2021-06-01, 16.98], [2021-07-01, 17.08], [20...   \n",
       "2  [[2021-06-01, 19.55], [2021-07-01, 19.69], [20...   \n",
       "3  [[2021-05-01, 98.83], [2021-06-01, 97.0], [202...   \n",
       "4  [[2021-05-01, 75.23], [2021-06-01, 73.67], [20...   \n",
       "\n",
       "                                        esg_industry  \\\n",
       "0  [[2021-06-01, 13.83], [2021-07-01, 12.9], [202...   \n",
       "1  [[2021-06-01, 26.05], [2021-07-01, 26.42], [20...   \n",
       "2  [[2021-06-01, 28.24], [2021-07-01, 26.97], [20...   \n",
       "3  [[2021-05-01, 99.52], [2021-06-01, 98.11], [20...   \n",
       "4  [[2021-05-01, 70.74], [2021-06-01, 79.18], [20...   \n",
       "\n",
       "                                            industry                  name  \\\n",
       "0               Containers & Packaging Manufacturing      3M-INDIA-LIMITED   \n",
       "1                      Health Care & Pharmaceuticals       Aarti-Drugs-Ltd   \n",
       "2         Chemicals, Plastics & Rubber Products Mfg.  AARTI-INDUSTRIES-LTD   \n",
       "3  Electronic Equipment & Instrumentation, Energy...          ABB-in-India   \n",
       "4                             Construction Materials           ACC-LIMITED   \n",
       "\n",
       "       ticker   mean_esg  industry_mean_esg  \n",
       "0     3MINDIA  56.030000          48.452917  \n",
       "1  AARTIDRUGS  21.845417          31.795833  \n",
       "2    AARTIIND  53.713333          55.423333  \n",
       "3         ABB  95.914800          96.465600  \n",
       "4         ACC  83.348800          86.453600  "
      ]
     },
     "execution_count": 137,
     "metadata": {},
     "output_type": "execute_result"
    }
   ],
   "source": [
    "df['mean_esg'] = df_mean_esg(df)\n",
    "df['industry_mean_esg'] = df_mean_esg(df, col='esg_industry')\n",
    "df.head()\n"
   ]
  },
  {
   "cell_type": "code",
   "execution_count": 138,
   "metadata": {},
   "outputs": [
    {
     "data": {
      "text/plain": [
       "0"
      ]
     },
     "execution_count": 138,
     "metadata": {},
     "output_type": "execute_result"
    }
   ],
   "source": [
    "df['mean_esg'].isna().sum()"
   ]
  },
  {
   "cell_type": "code",
   "execution_count": 139,
   "metadata": {},
   "outputs": [
    {
     "data": {
      "text/plain": [
       "0"
      ]
     },
     "execution_count": 139,
     "metadata": {},
     "output_type": "execute_result"
    }
   ],
   "source": [
    "df['industry_mean_esg'].isna().sum()"
   ]
  },
  {
   "cell_type": "code",
   "execution_count": 140,
   "metadata": {},
   "outputs": [
    {
     "data": {
      "text/plain": [
       "count    382.000000\n",
       "mean      55.037032\n",
       "std       24.100547\n",
       "min        0.836000\n",
       "25%       36.382750\n",
       "50%       56.093100\n",
       "75%       73.768900\n",
       "max      100.000000\n",
       "Name: industry_mean_esg, dtype: float64"
      ]
     },
     "execution_count": 140,
     "metadata": {},
     "output_type": "execute_result"
    }
   ],
   "source": [
    "df['industry_mean_esg'].describe()"
   ]
  },
  {
   "cell_type": "code",
   "execution_count": 141,
   "metadata": {},
   "outputs": [
    {
     "data": {
      "text/plain": [
       "count    382.000000\n",
       "mean      56.479964\n",
       "std       24.548262\n",
       "min        1.576000\n",
       "25%       35.636947\n",
       "50%       58.332235\n",
       "75%       76.914130\n",
       "max       99.885000\n",
       "Name: mean_esg, dtype: float64"
      ]
     },
     "execution_count": 141,
     "metadata": {},
     "output_type": "execute_result"
    }
   ],
   "source": [
    "df['mean_esg'].describe()"
   ]
  },
  {
   "cell_type": "code",
   "execution_count": 142,
   "metadata": {},
   "outputs": [
    {
     "data": {
      "text/plain": [
       "204"
      ]
     },
     "execution_count": 142,
     "metadata": {},
     "output_type": "execute_result"
    }
   ],
   "source": [
    "(df['mean_esg'] > df['industry_mean_esg']).sum()\n"
   ]
  },
  {
   "cell_type": "code",
   "execution_count": 143,
   "metadata": {},
   "outputs": [
    {
     "data": {
      "text/html": [
       "<div>\n",
       "<style scoped>\n",
       "    .dataframe tbody tr th:only-of-type {\n",
       "        vertical-align: middle;\n",
       "    }\n",
       "\n",
       "    .dataframe tbody tr th {\n",
       "        vertical-align: top;\n",
       "    }\n",
       "\n",
       "    .dataframe thead th {\n",
       "        text-align: right;\n",
       "    }\n",
       "</style>\n",
       "<table border=\"1\" class=\"dataframe\">\n",
       "  <thead>\n",
       "    <tr style=\"text-align: right;\">\n",
       "      <th></th>\n",
       "      <th>esg</th>\n",
       "      <th>esg_industry</th>\n",
       "      <th>industry</th>\n",
       "      <th>name</th>\n",
       "      <th>ticker</th>\n",
       "      <th>mean_esg</th>\n",
       "      <th>industry_mean_esg</th>\n",
       "      <th>median_esg</th>\n",
       "      <th>industry_median_esg</th>\n",
       "    </tr>\n",
       "  </thead>\n",
       "  <tbody>\n",
       "    <tr>\n",
       "      <th>0</th>\n",
       "      <td>[[2021-06-01, 14.44], [2021-07-01, 14.46], [20...</td>\n",
       "      <td>[[2021-06-01, 13.83], [2021-07-01, 12.9], [202...</td>\n",
       "      <td>Containers &amp; Packaging Manufacturing</td>\n",
       "      <td>3M-INDIA-LIMITED</td>\n",
       "      <td>3MINDIA</td>\n",
       "      <td>56.030000</td>\n",
       "      <td>48.452917</td>\n",
       "      <td>61.660</td>\n",
       "      <td>52.050</td>\n",
       "    </tr>\n",
       "    <tr>\n",
       "      <th>1</th>\n",
       "      <td>[[2021-06-01, 16.98], [2021-07-01, 17.08], [20...</td>\n",
       "      <td>[[2021-06-01, 26.05], [2021-07-01, 26.42], [20...</td>\n",
       "      <td>Health Care &amp; Pharmaceuticals</td>\n",
       "      <td>Aarti-Drugs-Ltd</td>\n",
       "      <td>AARTIDRUGS</td>\n",
       "      <td>21.845417</td>\n",
       "      <td>31.795833</td>\n",
       "      <td>21.085</td>\n",
       "      <td>29.945</td>\n",
       "    </tr>\n",
       "    <tr>\n",
       "      <th>2</th>\n",
       "      <td>[[2021-06-01, 19.55], [2021-07-01, 19.69], [20...</td>\n",
       "      <td>[[2021-06-01, 28.24], [2021-07-01, 26.97], [20...</td>\n",
       "      <td>Chemicals, Plastics &amp; Rubber Products Mfg.</td>\n",
       "      <td>AARTI-INDUSTRIES-LTD</td>\n",
       "      <td>AARTIIND</td>\n",
       "      <td>53.713333</td>\n",
       "      <td>55.423333</td>\n",
       "      <td>57.645</td>\n",
       "      <td>60.130</td>\n",
       "    </tr>\n",
       "    <tr>\n",
       "      <th>3</th>\n",
       "      <td>[[2021-05-01, 98.83], [2021-06-01, 97.0], [202...</td>\n",
       "      <td>[[2021-05-01, 99.52], [2021-06-01, 98.11], [20...</td>\n",
       "      <td>Electronic Equipment &amp; Instrumentation, Energy...</td>\n",
       "      <td>ABB-in-India</td>\n",
       "      <td>ABB</td>\n",
       "      <td>95.914800</td>\n",
       "      <td>96.465600</td>\n",
       "      <td>96.510</td>\n",
       "      <td>96.880</td>\n",
       "    </tr>\n",
       "    <tr>\n",
       "      <th>4</th>\n",
       "      <td>[[2021-05-01, 75.23], [2021-06-01, 73.67], [20...</td>\n",
       "      <td>[[2021-05-01, 70.74], [2021-06-01, 79.18], [20...</td>\n",
       "      <td>Construction Materials</td>\n",
       "      <td>ACC-LIMITED</td>\n",
       "      <td>ACC</td>\n",
       "      <td>83.348800</td>\n",
       "      <td>86.453600</td>\n",
       "      <td>86.700</td>\n",
       "      <td>88.840</td>\n",
       "    </tr>\n",
       "  </tbody>\n",
       "</table>\n",
       "</div>"
      ],
      "text/plain": [
       "                                                 esg  \\\n",
       "0  [[2021-06-01, 14.44], [2021-07-01, 14.46], [20...   \n",
       "1  [[2021-06-01, 16.98], [2021-07-01, 17.08], [20...   \n",
       "2  [[2021-06-01, 19.55], [2021-07-01, 19.69], [20...   \n",
       "3  [[2021-05-01, 98.83], [2021-06-01, 97.0], [202...   \n",
       "4  [[2021-05-01, 75.23], [2021-06-01, 73.67], [20...   \n",
       "\n",
       "                                        esg_industry  \\\n",
       "0  [[2021-06-01, 13.83], [2021-07-01, 12.9], [202...   \n",
       "1  [[2021-06-01, 26.05], [2021-07-01, 26.42], [20...   \n",
       "2  [[2021-06-01, 28.24], [2021-07-01, 26.97], [20...   \n",
       "3  [[2021-05-01, 99.52], [2021-06-01, 98.11], [20...   \n",
       "4  [[2021-05-01, 70.74], [2021-06-01, 79.18], [20...   \n",
       "\n",
       "                                            industry                  name  \\\n",
       "0               Containers & Packaging Manufacturing      3M-INDIA-LIMITED   \n",
       "1                      Health Care & Pharmaceuticals       Aarti-Drugs-Ltd   \n",
       "2         Chemicals, Plastics & Rubber Products Mfg.  AARTI-INDUSTRIES-LTD   \n",
       "3  Electronic Equipment & Instrumentation, Energy...          ABB-in-India   \n",
       "4                             Construction Materials           ACC-LIMITED   \n",
       "\n",
       "       ticker   mean_esg  industry_mean_esg  median_esg  industry_median_esg  \n",
       "0     3MINDIA  56.030000          48.452917      61.660               52.050  \n",
       "1  AARTIDRUGS  21.845417          31.795833      21.085               29.945  \n",
       "2    AARTIIND  53.713333          55.423333      57.645               60.130  \n",
       "3         ABB  95.914800          96.465600      96.510               96.880  \n",
       "4         ACC  83.348800          86.453600      86.700               88.840  "
      ]
     },
     "execution_count": 143,
     "metadata": {},
     "output_type": "execute_result"
    }
   ],
   "source": [
    "# Median of esg\n",
    "def median_esg(esg: list, ticker: str) -> float:\n",
    "    esg = np.array(esg)\n",
    "    yEsg = esg[:, 1].astype(float)\n",
    "    return np.median(yEsg)\n",
    "\n",
    "df['median_esg'] = df_mean_esg(df, mean_func=median_esg)\n",
    "df['industry_median_esg'] = df_mean_esg(df, col='esg_industry', mean_func=median_esg)\n",
    "df.head()"
   ]
  },
  {
   "cell_type": "code",
   "execution_count": 144,
   "metadata": {},
   "outputs": [
    {
     "data": {
      "text/plain": [
       "count    382.000000\n",
       "mean      57.616754\n",
       "std       24.788685\n",
       "min        1.650000\n",
       "25%       39.271250\n",
       "50%       60.740000\n",
       "75%       77.813750\n",
       "max       99.885000\n",
       "Name: median_esg, dtype: float64"
      ]
     },
     "execution_count": 144,
     "metadata": {},
     "output_type": "execute_result"
    }
   ],
   "source": [
    "df['median_esg'].describe()"
   ]
  },
  {
   "cell_type": "code",
   "execution_count": 145,
   "metadata": {},
   "outputs": [
    {
     "data": {
      "text/plain": [
       "count    382.000000\n",
       "mean      56.108390\n",
       "std       24.449886\n",
       "min        0.880000\n",
       "25%       39.397500\n",
       "50%       58.240000\n",
       "75%       74.347500\n",
       "max      100.000000\n",
       "Name: industry_median_esg, dtype: float64"
      ]
     },
     "execution_count": 145,
     "metadata": {},
     "output_type": "execute_result"
    }
   ],
   "source": [
    "df['industry_median_esg'].describe()"
   ]
  },
  {
   "cell_type": "code",
   "execution_count": 146,
   "metadata": {},
   "outputs": [
    {
     "data": {
      "text/plain": [
       "191"
      ]
     },
     "execution_count": 146,
     "metadata": {},
     "output_type": "execute_result"
    }
   ],
   "source": [
    "((df['median_esg'] > df['industry_median_esg']).values & (df['mean_esg'] >  df['industry_mean_esg']).values).sum()"
   ]
  },
  {
   "cell_type": "code",
   "execution_count": 147,
   "metadata": {},
   "outputs": [
    {
     "data": {
      "text/html": [
       "<div>\n",
       "<style scoped>\n",
       "    .dataframe tbody tr th:only-of-type {\n",
       "        vertical-align: middle;\n",
       "    }\n",
       "\n",
       "    .dataframe tbody tr th {\n",
       "        vertical-align: top;\n",
       "    }\n",
       "\n",
       "    .dataframe thead th {\n",
       "        text-align: right;\n",
       "    }\n",
       "</style>\n",
       "<table border=\"1\" class=\"dataframe\">\n",
       "  <thead>\n",
       "    <tr style=\"text-align: right;\">\n",
       "      <th></th>\n",
       "      <th>Symbol</th>\n",
       "      <th>Company Name</th>\n",
       "      <th>Market capitalization in Lakhs</th>\n",
       "      <th>CAP</th>\n",
       "    </tr>\n",
       "    <tr>\n",
       "      <th>Sr. No.</th>\n",
       "      <th></th>\n",
       "      <th></th>\n",
       "      <th></th>\n",
       "      <th></th>\n",
       "    </tr>\n",
       "  </thead>\n",
       "  <tbody>\n",
       "    <tr>\n",
       "      <th>1</th>\n",
       "      <td>RELIANCE</td>\n",
       "      <td>Reliance Industries Limited</td>\n",
       "      <td>157,706,937.77</td>\n",
       "      <td>LARGECAP</td>\n",
       "    </tr>\n",
       "    <tr>\n",
       "      <th>2</th>\n",
       "      <td>TCS</td>\n",
       "      <td>Tata Consultancy Services Limited</td>\n",
       "      <td>117,305,527.97</td>\n",
       "      <td>LARGECAP</td>\n",
       "    </tr>\n",
       "    <tr>\n",
       "      <th>3</th>\n",
       "      <td>HDFCBANK</td>\n",
       "      <td>HDFC Bank Limited</td>\n",
       "      <td>89,808,750.01</td>\n",
       "      <td>LARGECAP</td>\n",
       "    </tr>\n",
       "    <tr>\n",
       "      <th>4</th>\n",
       "      <td>ICICIBANK</td>\n",
       "      <td>ICICI Bank Limited</td>\n",
       "      <td>61,248,250.45</td>\n",
       "      <td>LARGECAP</td>\n",
       "    </tr>\n",
       "    <tr>\n",
       "      <th>5</th>\n",
       "      <td>HINDUNILVR</td>\n",
       "      <td>Hindustan Unilever Limited</td>\n",
       "      <td>60,157,759.88</td>\n",
       "      <td>LARGECAP</td>\n",
       "    </tr>\n",
       "  </tbody>\n",
       "</table>\n",
       "</div>"
      ],
      "text/plain": [
       "             Symbol                       Company Name  \\\n",
       "Sr. No.                                                  \n",
       "1          RELIANCE        Reliance Industries Limited   \n",
       "2               TCS  Tata Consultancy Services Limited   \n",
       "3          HDFCBANK                  HDFC Bank Limited   \n",
       "4         ICICIBANK                 ICICI Bank Limited   \n",
       "5        HINDUNILVR         Hindustan Unilever Limited   \n",
       "\n",
       "        Market capitalization in Lakhs       CAP  \n",
       "Sr. No.                                           \n",
       "1                       157,706,937.77  LARGECAP  \n",
       "2                       117,305,527.97  LARGECAP  \n",
       "3                        89,808,750.01  LARGECAP  \n",
       "4                        61,248,250.45  LARGECAP  \n",
       "5                        60,157,759.88  LARGECAP  "
      ]
     },
     "execution_count": 147,
     "metadata": {},
     "output_type": "execute_result"
    }
   ],
   "source": [
    "market_cap = pd.read_csv('../MCAP31032023_0.csv', names=['Sr. No.', 'Symbol', 'Company Name',\n",
    "       'Market capitalization in Lakhs', 'CAP'], index_col=0)\n",
    "market_cap.drop(['Sr. No.'], axis=0, inplace=True)\n",
    "market_cap.head()"
   ]
  },
  {
   "cell_type": "code",
   "execution_count": 148,
   "metadata": {},
   "outputs": [
    {
     "data": {
      "text/plain": [
       "array(['LARGECAP', 'MIDCAP', 'SMALLCAP', '-', nan], dtype=object)"
      ]
     },
     "execution_count": 148,
     "metadata": {},
     "output_type": "execute_result"
    }
   ],
   "source": [
    "market_cap['CAP'].unique()"
   ]
  },
  {
   "cell_type": "code",
   "execution_count": 149,
   "metadata": {},
   "outputs": [],
   "source": [
    "df = df.merge(market_cap, how='left', left_on='ticker', right_on='Symbol')"
   ]
  },
  {
   "cell_type": "code",
   "execution_count": 150,
   "metadata": {},
   "outputs": [
    {
     "data": {
      "text/html": [
       "<div>\n",
       "<style scoped>\n",
       "    .dataframe tbody tr th:only-of-type {\n",
       "        vertical-align: middle;\n",
       "    }\n",
       "\n",
       "    .dataframe tbody tr th {\n",
       "        vertical-align: top;\n",
       "    }\n",
       "\n",
       "    .dataframe thead th {\n",
       "        text-align: right;\n",
       "    }\n",
       "</style>\n",
       "<table border=\"1\" class=\"dataframe\">\n",
       "  <thead>\n",
       "    <tr style=\"text-align: right;\">\n",
       "      <th></th>\n",
       "      <th>esg</th>\n",
       "      <th>esg_industry</th>\n",
       "      <th>industry</th>\n",
       "      <th>name</th>\n",
       "      <th>ticker</th>\n",
       "      <th>mean_esg</th>\n",
       "      <th>industry_mean_esg</th>\n",
       "      <th>median_esg</th>\n",
       "      <th>industry_median_esg</th>\n",
       "      <th>Symbol</th>\n",
       "      <th>Company Name</th>\n",
       "      <th>Market capitalization in Lakhs</th>\n",
       "      <th>CAP</th>\n",
       "    </tr>\n",
       "  </thead>\n",
       "  <tbody>\n",
       "    <tr>\n",
       "      <th>0</th>\n",
       "      <td>[[2021-06-01, 14.44], [2021-07-01, 14.46], [20...</td>\n",
       "      <td>[[2021-06-01, 13.83], [2021-07-01, 12.9], [202...</td>\n",
       "      <td>Containers &amp; Packaging Manufacturing</td>\n",
       "      <td>3M-INDIA-LIMITED</td>\n",
       "      <td>3MINDIA</td>\n",
       "      <td>56.030000</td>\n",
       "      <td>48.452917</td>\n",
       "      <td>61.660</td>\n",
       "      <td>52.050</td>\n",
       "      <td>3MINDIA</td>\n",
       "      <td>3M India Limited</td>\n",
       "      <td>2,586,893.78</td>\n",
       "      <td>LARGECAP</td>\n",
       "    </tr>\n",
       "    <tr>\n",
       "      <th>1</th>\n",
       "      <td>[[2021-06-01, 16.98], [2021-07-01, 17.08], [20...</td>\n",
       "      <td>[[2021-06-01, 26.05], [2021-07-01, 26.42], [20...</td>\n",
       "      <td>Health Care &amp; Pharmaceuticals</td>\n",
       "      <td>Aarti-Drugs-Ltd</td>\n",
       "      <td>AARTIDRUGS</td>\n",
       "      <td>21.845417</td>\n",
       "      <td>31.795833</td>\n",
       "      <td>21.085</td>\n",
       "      <td>29.945</td>\n",
       "      <td>AARTIDRUGS</td>\n",
       "      <td>Aarti Drugs Limited</td>\n",
       "      <td>312757</td>\n",
       "      <td>SMALLCAP</td>\n",
       "    </tr>\n",
       "    <tr>\n",
       "      <th>2</th>\n",
       "      <td>[[2021-06-01, 19.55], [2021-07-01, 19.69], [20...</td>\n",
       "      <td>[[2021-06-01, 28.24], [2021-07-01, 26.97], [20...</td>\n",
       "      <td>Chemicals, Plastics &amp; Rubber Products Mfg.</td>\n",
       "      <td>AARTI-INDUSTRIES-LTD</td>\n",
       "      <td>AARTIIND</td>\n",
       "      <td>53.713333</td>\n",
       "      <td>55.423333</td>\n",
       "      <td>57.645</td>\n",
       "      <td>60.130</td>\n",
       "      <td>AARTIIND</td>\n",
       "      <td>Aarti Industries Limited</td>\n",
       "      <td>1878315</td>\n",
       "      <td>MIDCAP</td>\n",
       "    </tr>\n",
       "    <tr>\n",
       "      <th>3</th>\n",
       "      <td>[[2021-05-01, 98.83], [2021-06-01, 97.0], [202...</td>\n",
       "      <td>[[2021-05-01, 99.52], [2021-06-01, 98.11], [20...</td>\n",
       "      <td>Electronic Equipment &amp; Instrumentation, Energy...</td>\n",
       "      <td>ABB-in-India</td>\n",
       "      <td>ABB</td>\n",
       "      <td>95.914800</td>\n",
       "      <td>96.465600</td>\n",
       "      <td>96.510</td>\n",
       "      <td>96.880</td>\n",
       "      <td>ABB</td>\n",
       "      <td>ABB India Limited</td>\n",
       "      <td>7,131,034.68</td>\n",
       "      <td>LARGECAP</td>\n",
       "    </tr>\n",
       "    <tr>\n",
       "      <th>4</th>\n",
       "      <td>[[2021-05-01, 75.23], [2021-06-01, 73.67], [20...</td>\n",
       "      <td>[[2021-05-01, 70.74], [2021-06-01, 79.18], [20...</td>\n",
       "      <td>Construction Materials</td>\n",
       "      <td>ACC-LIMITED</td>\n",
       "      <td>ACC</td>\n",
       "      <td>83.348800</td>\n",
       "      <td>86.453600</td>\n",
       "      <td>86.700</td>\n",
       "      <td>88.840</td>\n",
       "      <td>ACC</td>\n",
       "      <td>ACC Limited</td>\n",
       "      <td>3,130,789.25</td>\n",
       "      <td>LARGECAP</td>\n",
       "    </tr>\n",
       "  </tbody>\n",
       "</table>\n",
       "</div>"
      ],
      "text/plain": [
       "                                                 esg  \\\n",
       "0  [[2021-06-01, 14.44], [2021-07-01, 14.46], [20...   \n",
       "1  [[2021-06-01, 16.98], [2021-07-01, 17.08], [20...   \n",
       "2  [[2021-06-01, 19.55], [2021-07-01, 19.69], [20...   \n",
       "3  [[2021-05-01, 98.83], [2021-06-01, 97.0], [202...   \n",
       "4  [[2021-05-01, 75.23], [2021-06-01, 73.67], [20...   \n",
       "\n",
       "                                        esg_industry  \\\n",
       "0  [[2021-06-01, 13.83], [2021-07-01, 12.9], [202...   \n",
       "1  [[2021-06-01, 26.05], [2021-07-01, 26.42], [20...   \n",
       "2  [[2021-06-01, 28.24], [2021-07-01, 26.97], [20...   \n",
       "3  [[2021-05-01, 99.52], [2021-06-01, 98.11], [20...   \n",
       "4  [[2021-05-01, 70.74], [2021-06-01, 79.18], [20...   \n",
       "\n",
       "                                            industry                  name  \\\n",
       "0               Containers & Packaging Manufacturing      3M-INDIA-LIMITED   \n",
       "1                      Health Care & Pharmaceuticals       Aarti-Drugs-Ltd   \n",
       "2         Chemicals, Plastics & Rubber Products Mfg.  AARTI-INDUSTRIES-LTD   \n",
       "3  Electronic Equipment & Instrumentation, Energy...          ABB-in-India   \n",
       "4                             Construction Materials           ACC-LIMITED   \n",
       "\n",
       "       ticker   mean_esg  industry_mean_esg  median_esg  industry_median_esg  \\\n",
       "0     3MINDIA  56.030000          48.452917      61.660               52.050   \n",
       "1  AARTIDRUGS  21.845417          31.795833      21.085               29.945   \n",
       "2    AARTIIND  53.713333          55.423333      57.645               60.130   \n",
       "3         ABB  95.914800          96.465600      96.510               96.880   \n",
       "4         ACC  83.348800          86.453600      86.700               88.840   \n",
       "\n",
       "       Symbol              Company Name Market capitalization in Lakhs  \\\n",
       "0     3MINDIA          3M India Limited                   2,586,893.78   \n",
       "1  AARTIDRUGS       Aarti Drugs Limited                         312757   \n",
       "2    AARTIIND  Aarti Industries Limited                        1878315   \n",
       "3         ABB         ABB India Limited                   7,131,034.68   \n",
       "4         ACC               ACC Limited                   3,130,789.25   \n",
       "\n",
       "        CAP  \n",
       "0  LARGECAP  \n",
       "1  SMALLCAP  \n",
       "2    MIDCAP  \n",
       "3  LARGECAP  \n",
       "4  LARGECAP  "
      ]
     },
     "execution_count": 150,
     "metadata": {},
     "output_type": "execute_result"
    }
   ],
   "source": [
    "df.head()"
   ]
  },
  {
   "cell_type": "code",
   "execution_count": 151,
   "metadata": {},
   "outputs": [],
   "source": [
    "# Ensure you have a column named 'industry'. If not, you'll need to adjust the code or merge your dataframe with another one containing this information.\n",
    "\n",
    "# Step 1: Select top 4 stocks from each industry based on mean_esg\n",
    "top_stocks_by_industry = df.groupby('industry').apply(lambda x: x.nlargest(4, 'mean_esg')).reset_index(drop=True)\n",
    "\n",
    "# Step 2: From this new universe, select the top stocks in 5:3:2 ratio of LARGECAP:MIDCAP:SMALLCAP\n",
    "large_cap_stocks = top_stocks_by_industry[top_stocks_by_industry['CAP'] == 'LARGECAP'].nlargest(20, 'mean_esg')\n",
    "mid_cap_stocks = top_stocks_by_industry[top_stocks_by_industry['CAP'] == 'MIDCAP'].nlargest(12, 'mean_esg')\n",
    "small_cap_stocks = top_stocks_by_industry[top_stocks_by_industry['CAP'] == 'SMALLCAP'].nlargest(8, 'mean_esg')\n",
    "\n",
    "# Combine all the selected stocks\n",
    "selected_stocks = pd.concat([large_cap_stocks, mid_cap_stocks, small_cap_stocks]).reset_index(drop=True)\n"
   ]
  },
  {
   "cell_type": "code",
   "execution_count": 152,
   "metadata": {},
   "outputs": [
    {
     "data": {
      "text/html": [
       "<div>\n",
       "<style scoped>\n",
       "    .dataframe tbody tr th:only-of-type {\n",
       "        vertical-align: middle;\n",
       "    }\n",
       "\n",
       "    .dataframe tbody tr th {\n",
       "        vertical-align: top;\n",
       "    }\n",
       "\n",
       "    .dataframe thead th {\n",
       "        text-align: right;\n",
       "    }\n",
       "</style>\n",
       "<table border=\"1\" class=\"dataframe\">\n",
       "  <thead>\n",
       "    <tr style=\"text-align: right;\">\n",
       "      <th></th>\n",
       "      <th>esg</th>\n",
       "      <th>esg_industry</th>\n",
       "      <th>industry</th>\n",
       "      <th>name</th>\n",
       "      <th>ticker</th>\n",
       "      <th>mean_esg</th>\n",
       "      <th>industry_mean_esg</th>\n",
       "      <th>median_esg</th>\n",
       "      <th>industry_median_esg</th>\n",
       "      <th>Symbol</th>\n",
       "      <th>Company Name</th>\n",
       "      <th>Market capitalization in Lakhs</th>\n",
       "      <th>CAP</th>\n",
       "    </tr>\n",
       "  </thead>\n",
       "  <tbody>\n",
       "    <tr>\n",
       "      <th>0</th>\n",
       "      <td>[[2021-05-01, 99.43], [2021-06-01, 98.9], [202...</td>\n",
       "      <td>[[2021-05-01, 99.71], [2021-06-01, 99.77], [20...</td>\n",
       "      <td>Mining (except Oil &amp; Gas)</td>\n",
       "      <td>HINDUSTAN-ZINC-LTD</td>\n",
       "      <td>HINDZINC</td>\n",
       "      <td>99.2976</td>\n",
       "      <td>99.8084</td>\n",
       "      <td>99.58</td>\n",
       "      <td>100.00</td>\n",
       "      <td>HINDZINC</td>\n",
       "      <td>Hindustan Zinc Limited</td>\n",
       "      <td>12,394,973.29</td>\n",
       "      <td>LARGECAP</td>\n",
       "    </tr>\n",
       "    <tr>\n",
       "      <th>1</th>\n",
       "      <td>[[2021-05-01, 93.24], [2021-06-01, 95.96], [20...</td>\n",
       "      <td>[[2021-05-01, 93.24], [2021-06-01, 90.67], [20...</td>\n",
       "      <td>Commercial Banking</td>\n",
       "      <td>IndusInd-Bank-Limited</td>\n",
       "      <td>INDUSINDBK</td>\n",
       "      <td>97.9748</td>\n",
       "      <td>95.9528</td>\n",
       "      <td>98.53</td>\n",
       "      <td>97.22</td>\n",
       "      <td>INDUSINDBK</td>\n",
       "      <td>IndusInd Bank Limited</td>\n",
       "      <td>8,285,787.88</td>\n",
       "      <td>LARGECAP</td>\n",
       "    </tr>\n",
       "    <tr>\n",
       "      <th>2</th>\n",
       "      <td>[[2021-05-01, 98.4], [2021-06-01, 87.67], [202...</td>\n",
       "      <td>[[2021-05-01, 99.16], [2021-06-01, 90.52], [20...</td>\n",
       "      <td>Chemicals, Plastics &amp; Rubber Products Mfg.</td>\n",
       "      <td>Tata-Chemicals-Ltd</td>\n",
       "      <td>TATACHEM</td>\n",
       "      <td>97.7936</td>\n",
       "      <td>98.7192</td>\n",
       "      <td>98.39</td>\n",
       "      <td>99.13</td>\n",
       "      <td>TATACHEM</td>\n",
       "      <td>Tata Chemicals Limited</td>\n",
       "      <td>2,477,377.43</td>\n",
       "      <td>LARGECAP</td>\n",
       "    </tr>\n",
       "    <tr>\n",
       "      <th>3</th>\n",
       "      <td>[[2021-05-01, 99.55], [2021-06-01, 88.27], [20...</td>\n",
       "      <td>[[2021-05-01, 99.01], [2021-06-01, 86.52], [20...</td>\n",
       "      <td>Machinery Manufacturing</td>\n",
       "      <td>Cummins-India-Ltd</td>\n",
       "      <td>CUMMINSIND</td>\n",
       "      <td>96.7960</td>\n",
       "      <td>97.0776</td>\n",
       "      <td>97.10</td>\n",
       "      <td>97.96</td>\n",
       "      <td>CUMMINSIND</td>\n",
       "      <td>Cummins India Limited</td>\n",
       "      <td>4,517,251.20</td>\n",
       "      <td>LARGECAP</td>\n",
       "    </tr>\n",
       "    <tr>\n",
       "      <th>4</th>\n",
       "      <td>[[2021-05-01, 92.88], [2021-06-01, 94.17], [20...</td>\n",
       "      <td>[[2021-05-01, 89.74], [2021-06-01, 90.17], [20...</td>\n",
       "      <td>Telecommunications</td>\n",
       "      <td>Tech-Mahindra-Ltd</td>\n",
       "      <td>TECHM</td>\n",
       "      <td>96.7716</td>\n",
       "      <td>95.8208</td>\n",
       "      <td>97.13</td>\n",
       "      <td>96.60</td>\n",
       "      <td>TECHM</td>\n",
       "      <td>Tech Mahindra Limited</td>\n",
       "      <td>10,733,643.95</td>\n",
       "      <td>LARGECAP</td>\n",
       "    </tr>\n",
       "  </tbody>\n",
       "</table>\n",
       "</div>"
      ],
      "text/plain": [
       "                                                 esg  \\\n",
       "0  [[2021-05-01, 99.43], [2021-06-01, 98.9], [202...   \n",
       "1  [[2021-05-01, 93.24], [2021-06-01, 95.96], [20...   \n",
       "2  [[2021-05-01, 98.4], [2021-06-01, 87.67], [202...   \n",
       "3  [[2021-05-01, 99.55], [2021-06-01, 88.27], [20...   \n",
       "4  [[2021-05-01, 92.88], [2021-06-01, 94.17], [20...   \n",
       "\n",
       "                                        esg_industry  \\\n",
       "0  [[2021-05-01, 99.71], [2021-06-01, 99.77], [20...   \n",
       "1  [[2021-05-01, 93.24], [2021-06-01, 90.67], [20...   \n",
       "2  [[2021-05-01, 99.16], [2021-06-01, 90.52], [20...   \n",
       "3  [[2021-05-01, 99.01], [2021-06-01, 86.52], [20...   \n",
       "4  [[2021-05-01, 89.74], [2021-06-01, 90.17], [20...   \n",
       "\n",
       "                                     industry                   name  \\\n",
       "0                   Mining (except Oil & Gas)     HINDUSTAN-ZINC-LTD   \n",
       "1                          Commercial Banking  IndusInd-Bank-Limited   \n",
       "2  Chemicals, Plastics & Rubber Products Mfg.     Tata-Chemicals-Ltd   \n",
       "3                     Machinery Manufacturing      Cummins-India-Ltd   \n",
       "4                          Telecommunications      Tech-Mahindra-Ltd   \n",
       "\n",
       "       ticker  mean_esg  industry_mean_esg  median_esg  industry_median_esg  \\\n",
       "0    HINDZINC   99.2976            99.8084       99.58               100.00   \n",
       "1  INDUSINDBK   97.9748            95.9528       98.53                97.22   \n",
       "2    TATACHEM   97.7936            98.7192       98.39                99.13   \n",
       "3  CUMMINSIND   96.7960            97.0776       97.10                97.96   \n",
       "4       TECHM   96.7716            95.8208       97.13                96.60   \n",
       "\n",
       "       Symbol            Company Name Market capitalization in Lakhs       CAP  \n",
       "0    HINDZINC  Hindustan Zinc Limited                  12,394,973.29  LARGECAP  \n",
       "1  INDUSINDBK   IndusInd Bank Limited                   8,285,787.88  LARGECAP  \n",
       "2    TATACHEM  Tata Chemicals Limited                   2,477,377.43  LARGECAP  \n",
       "3  CUMMINSIND   Cummins India Limited                   4,517,251.20  LARGECAP  \n",
       "4       TECHM   Tech Mahindra Limited                  10,733,643.95  LARGECAP  "
      ]
     },
     "execution_count": 152,
     "metadata": {},
     "output_type": "execute_result"
    }
   ],
   "source": [
    "selected_stocks.head()"
   ]
  },
  {
   "cell_type": "code",
   "execution_count": 153,
   "metadata": {},
   "outputs": [],
   "source": [
    "pd.DataFrame(selected_stocks['ticker']).to_csv('selected_stocks.csv', index=False)"
   ]
  },
  {
   "cell_type": "code",
   "execution_count": 154,
   "metadata": {},
   "outputs": [],
   "source": [
    "def compute_ndsv(esg_scores):\n",
    "    n = len(esg_scores)\n",
    "    ndsv = sum([(max(0, esg_scores[i - 1] - esg_scores[i]))**2 for i in range(1, n)]) / n\n",
    "    return ndsv"
   ]
  },
  {
   "cell_type": "code",
   "execution_count": 155,
   "metadata": {},
   "outputs": [],
   "source": [
    "df['ndsv'] = df['esg'].apply(lambda x: compute_ndsv(np.array(x)[:, 1].astype(float)))"
   ]
  },
  {
   "cell_type": "code",
   "execution_count": 156,
   "metadata": {},
   "outputs": [
    {
     "data": {
      "text/plain": [
       "count    382.000000\n",
       "mean      16.689422\n",
       "std       34.933605\n",
       "min        0.000000\n",
       "25%        1.286085\n",
       "50%        5.513709\n",
       "75%       17.820361\n",
       "max      380.382970\n",
       "Name: ndsv, dtype: float64"
      ]
     },
     "execution_count": 156,
     "metadata": {},
     "output_type": "execute_result"
    }
   ],
   "source": [
    "df['ndsv'].describe()"
   ]
  },
  {
   "cell_type": "code",
   "execution_count": 157,
   "metadata": {},
   "outputs": [],
   "source": [
    "# Normalize the mean_esg and NDSV columns\n",
    "df['normalized_mean_esg'] = (df['mean_esg'] - df['mean_esg'].mean()) / (df['mean_esg'].std())\n",
    "df['normalized_NDSV'] = (df['ndsv'] - df['ndsv'].mean()) / (df['ndsv'].std())\n",
    "\n",
    "# Compute the score for each stock\n",
    "df['score'] = df['normalized_mean_esg'] - df['normalized_NDSV']\n",
    "\n",
    "# Rank within each cap category and pick top stocks\n",
    "top_large_cap = df[df['CAP'] == 'LARGECAP'].nlargest(20, 'score')\n",
    "top_mid_cap = df[df['CAP'] == 'MIDCAP'].nlargest(12, 'score')\n",
    "top_small_cap = df[df['CAP'] == 'SMALLCAP'].nlargest(8, 'score')\n",
    "\n",
    "# Combine all the selected stocks\n",
    "selected_stocks_ndsv = pd.concat([top_large_cap, top_mid_cap, top_small_cap]).reset_index(drop=True)\n"
   ]
  },
  {
   "cell_type": "code",
   "execution_count": 158,
   "metadata": {},
   "outputs": [
    {
     "data": {
      "text/html": [
       "<div>\n",
       "<style scoped>\n",
       "    .dataframe tbody tr th:only-of-type {\n",
       "        vertical-align: middle;\n",
       "    }\n",
       "\n",
       "    .dataframe tbody tr th {\n",
       "        vertical-align: top;\n",
       "    }\n",
       "\n",
       "    .dataframe thead th {\n",
       "        text-align: right;\n",
       "    }\n",
       "</style>\n",
       "<table border=\"1\" class=\"dataframe\">\n",
       "  <thead>\n",
       "    <tr style=\"text-align: right;\">\n",
       "      <th></th>\n",
       "      <th>esg</th>\n",
       "      <th>esg_industry</th>\n",
       "      <th>industry</th>\n",
       "      <th>name</th>\n",
       "      <th>ticker</th>\n",
       "      <th>mean_esg</th>\n",
       "      <th>industry_mean_esg</th>\n",
       "      <th>median_esg</th>\n",
       "      <th>industry_median_esg</th>\n",
       "      <th>Symbol</th>\n",
       "      <th>Company Name</th>\n",
       "      <th>Market capitalization in Lakhs</th>\n",
       "      <th>CAP</th>\n",
       "      <th>ndsv</th>\n",
       "      <th>normalized_mean_esg</th>\n",
       "      <th>normalized_NDSV</th>\n",
       "      <th>score</th>\n",
       "    </tr>\n",
       "  </thead>\n",
       "  <tbody>\n",
       "    <tr>\n",
       "      <th>0</th>\n",
       "      <td>[[2021-05-01, 99.43], [2021-06-01, 98.9], [202...</td>\n",
       "      <td>[[2021-05-01, 99.71], [2021-06-01, 99.77], [20...</td>\n",
       "      <td>Mining (except Oil &amp; Gas)</td>\n",
       "      <td>HINDUSTAN-ZINC-LTD</td>\n",
       "      <td>HINDZINC</td>\n",
       "      <td>99.2976</td>\n",
       "      <td>99.8084</td>\n",
       "      <td>99.58</td>\n",
       "      <td>100.00</td>\n",
       "      <td>HINDZINC</td>\n",
       "      <td>Hindustan Zinc Limited</td>\n",
       "      <td>12,394,973.29</td>\n",
       "      <td>LARGECAP</td>\n",
       "      <td>0.147752</td>\n",
       "      <td>1.744223</td>\n",
       "      <td>-0.473517</td>\n",
       "      <td>2.217740</td>\n",
       "    </tr>\n",
       "    <tr>\n",
       "      <th>1</th>\n",
       "      <td>[[2021-05-01, 93.24], [2021-06-01, 95.96], [20...</td>\n",
       "      <td>[[2021-05-01, 93.24], [2021-06-01, 90.67], [20...</td>\n",
       "      <td>Commercial Banking</td>\n",
       "      <td>IndusInd-Bank-Limited</td>\n",
       "      <td>INDUSINDBK</td>\n",
       "      <td>97.9748</td>\n",
       "      <td>95.9528</td>\n",
       "      <td>98.53</td>\n",
       "      <td>97.22</td>\n",
       "      <td>INDUSINDBK</td>\n",
       "      <td>IndusInd Bank Limited</td>\n",
       "      <td>8,285,787.88</td>\n",
       "      <td>LARGECAP</td>\n",
       "      <td>0.420616</td>\n",
       "      <td>1.690337</td>\n",
       "      <td>-0.465706</td>\n",
       "      <td>2.156044</td>\n",
       "    </tr>\n",
       "    <tr>\n",
       "      <th>2</th>\n",
       "      <td>[[2021-05-01, 92.88], [2021-06-01, 94.17], [20...</td>\n",
       "      <td>[[2021-05-01, 89.74], [2021-06-01, 90.17], [20...</td>\n",
       "      <td>Telecommunications</td>\n",
       "      <td>Tech-Mahindra-Ltd</td>\n",
       "      <td>TECHM</td>\n",
       "      <td>96.7716</td>\n",
       "      <td>95.8208</td>\n",
       "      <td>97.13</td>\n",
       "      <td>96.60</td>\n",
       "      <td>TECHM</td>\n",
       "      <td>Tech Mahindra Limited</td>\n",
       "      <td>10,733,643.95</td>\n",
       "      <td>LARGECAP</td>\n",
       "      <td>0.078464</td>\n",
       "      <td>1.641323</td>\n",
       "      <td>-0.475501</td>\n",
       "      <td>2.116824</td>\n",
       "    </tr>\n",
       "    <tr>\n",
       "      <th>3</th>\n",
       "      <td>[[2021-05-01, 95.65], [2021-06-01, 96.59], [20...</td>\n",
       "      <td>[[2021-05-01, 94.55], [2021-06-01, 96.84], [20...</td>\n",
       "      <td>IT &amp; Network Services</td>\n",
       "      <td>Tata-Consultancy-Services</td>\n",
       "      <td>TCS</td>\n",
       "      <td>96.3368</td>\n",
       "      <td>97.0920</td>\n",
       "      <td>96.79</td>\n",
       "      <td>97.77</td>\n",
       "      <td>TCS</td>\n",
       "      <td>Tata Consultancy Services Limited</td>\n",
       "      <td>117,305,527.97</td>\n",
       "      <td>LARGECAP</td>\n",
       "      <td>0.449036</td>\n",
       "      <td>1.623611</td>\n",
       "      <td>-0.464893</td>\n",
       "      <td>2.088504</td>\n",
       "    </tr>\n",
       "    <tr>\n",
       "      <th>4</th>\n",
       "      <td>[[2021-05-01, 99.83], [2021-06-01, 96.72], [20...</td>\n",
       "      <td>[[2021-05-01, 100.0], [2021-06-01, 96.24], [20...</td>\n",
       "      <td>Motor Vehicle Parts Manufacturing</td>\n",
       "      <td>Apollo-Tyres-Ltd</td>\n",
       "      <td>APOLLOTYRE</td>\n",
       "      <td>96.4412</td>\n",
       "      <td>96.1008</td>\n",
       "      <td>96.77</td>\n",
       "      <td>96.50</td>\n",
       "      <td>APOLLOTYRE</td>\n",
       "      <td>Apollo Tyres Limited</td>\n",
       "      <td>2,031,687.93</td>\n",
       "      <td>LARGECAP</td>\n",
       "      <td>0.936176</td>\n",
       "      <td>1.627864</td>\n",
       "      <td>-0.450948</td>\n",
       "      <td>2.078812</td>\n",
       "    </tr>\n",
       "  </tbody>\n",
       "</table>\n",
       "</div>"
      ],
      "text/plain": [
       "                                                 esg  \\\n",
       "0  [[2021-05-01, 99.43], [2021-06-01, 98.9], [202...   \n",
       "1  [[2021-05-01, 93.24], [2021-06-01, 95.96], [20...   \n",
       "2  [[2021-05-01, 92.88], [2021-06-01, 94.17], [20...   \n",
       "3  [[2021-05-01, 95.65], [2021-06-01, 96.59], [20...   \n",
       "4  [[2021-05-01, 99.83], [2021-06-01, 96.72], [20...   \n",
       "\n",
       "                                        esg_industry  \\\n",
       "0  [[2021-05-01, 99.71], [2021-06-01, 99.77], [20...   \n",
       "1  [[2021-05-01, 93.24], [2021-06-01, 90.67], [20...   \n",
       "2  [[2021-05-01, 89.74], [2021-06-01, 90.17], [20...   \n",
       "3  [[2021-05-01, 94.55], [2021-06-01, 96.84], [20...   \n",
       "4  [[2021-05-01, 100.0], [2021-06-01, 96.24], [20...   \n",
       "\n",
       "                            industry                       name      ticker  \\\n",
       "0          Mining (except Oil & Gas)         HINDUSTAN-ZINC-LTD    HINDZINC   \n",
       "1                 Commercial Banking      IndusInd-Bank-Limited  INDUSINDBK   \n",
       "2                 Telecommunications          Tech-Mahindra-Ltd       TECHM   \n",
       "3              IT & Network Services  Tata-Consultancy-Services         TCS   \n",
       "4  Motor Vehicle Parts Manufacturing           Apollo-Tyres-Ltd  APOLLOTYRE   \n",
       "\n",
       "   mean_esg  industry_mean_esg  median_esg  industry_median_esg      Symbol  \\\n",
       "0   99.2976            99.8084       99.58               100.00    HINDZINC   \n",
       "1   97.9748            95.9528       98.53                97.22  INDUSINDBK   \n",
       "2   96.7716            95.8208       97.13                96.60       TECHM   \n",
       "3   96.3368            97.0920       96.79                97.77         TCS   \n",
       "4   96.4412            96.1008       96.77                96.50  APOLLOTYRE   \n",
       "\n",
       "                        Company Name Market capitalization in Lakhs       CAP  \\\n",
       "0             Hindustan Zinc Limited                  12,394,973.29  LARGECAP   \n",
       "1              IndusInd Bank Limited                   8,285,787.88  LARGECAP   \n",
       "2              Tech Mahindra Limited                  10,733,643.95  LARGECAP   \n",
       "3  Tata Consultancy Services Limited                 117,305,527.97  LARGECAP   \n",
       "4               Apollo Tyres Limited                   2,031,687.93  LARGECAP   \n",
       "\n",
       "       ndsv  normalized_mean_esg  normalized_NDSV     score  \n",
       "0  0.147752             1.744223        -0.473517  2.217740  \n",
       "1  0.420616             1.690337        -0.465706  2.156044  \n",
       "2  0.078464             1.641323        -0.475501  2.116824  \n",
       "3  0.449036             1.623611        -0.464893  2.088504  \n",
       "4  0.936176             1.627864        -0.450948  2.078812  "
      ]
     },
     "execution_count": 158,
     "metadata": {},
     "output_type": "execute_result"
    }
   ],
   "source": [
    "selected_stocks_ndsv.head()"
   ]
  },
  {
   "cell_type": "code",
   "execution_count": 159,
   "metadata": {},
   "outputs": [
    {
     "data": {
      "text/plain": [
       "40"
      ]
     },
     "execution_count": 159,
     "metadata": {},
     "output_type": "execute_result"
    }
   ],
   "source": [
    "len(selected_stocks_ndsv)"
   ]
  },
  {
   "cell_type": "code",
   "execution_count": 160,
   "metadata": {},
   "outputs": [],
   "source": [
    "pd.DataFrame(selected_stocks_ndsv['ticker']).to_csv('selected_stocks_ndsv.csv', index=False)"
   ]
  },
  {
   "cell_type": "code",
   "execution_count": 161,
   "metadata": {},
   "outputs": [
    {
     "name": "stdout",
     "output_type": "stream",
     "text": [
      "{'SUNCLAYLTD', 'DAAWAT', 'M&M', 'ELGIEQUIP'}\n"
     ]
    }
   ],
   "source": [
    "print(set(selected_stocks_ndsv['ticker']) - set(selected_stocks['ticker']))"
   ]
  },
  {
   "cell_type": "code",
   "execution_count": null,
   "metadata": {},
   "outputs": [],
   "source": []
  }
 ],
 "metadata": {
  "kernelspec": {
   "display_name": ".venv",
   "language": "python",
   "name": "python3"
  },
  "language_info": {
   "codemirror_mode": {
    "name": "ipython",
    "version": 3
   },
   "file_extension": ".py",
   "mimetype": "text/x-python",
   "name": "python",
   "nbconvert_exporter": "python",
   "pygments_lexer": "ipython3",
   "version": "3.9.12"
  }
 },
 "nbformat": 4,
 "nbformat_minor": 2
}
